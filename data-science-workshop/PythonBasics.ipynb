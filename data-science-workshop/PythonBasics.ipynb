{
  "cells": [
    {
      "cell_type": "markdown",
      "metadata": {
        "id": "ZccNy8KfmoIg"
      },
      "source": [
        "### **Python Basics**"
      ]
    },
    {
      "cell_type": "markdown",
      "metadata": {
        "id": "B0bdIFk4moIk"
      },
      "source": [
        "### Printing, Variables, Arithmetic"
      ]
    },
    {
      "cell_type": "code",
      "execution_count": null,
      "metadata": {
        "id": "SyPVFF8ImoIl",
        "colab": {
          "base_uri": "https://localhost:8080/"
        },
        "outputId": "f8f8050e-1973-46dd-d780-f9e57393a1e9"
      },
      "outputs": [
        {
          "output_type": "stream",
          "name": "stdout",
          "text": [
            "I already love Python\n"
          ]
        }
      ],
      "source": [
        "# Print\n",
        "print('I already love Python')"
      ]
    },
    {
      "cell_type": "code",
      "execution_count": null,
      "metadata": {
        "id": "tLcjp9OGmoIm",
        "colab": {
          "base_uri": "https://localhost:8080/"
        },
        "outputId": "1e1606e8-9c65-4dd1-a972-57d3ddd93097"
      },
      "outputs": [
        {
          "output_type": "stream",
          "name": "stdout",
          "text": [
            "10\n",
            "5\n"
          ]
        }
      ],
      "source": [
        "# Variables and assignment\n",
        "a = 10\n",
        "print(a)\n",
        "b = 5\n",
        "print(b)"
      ]
    },
    {
      "cell_type": "code",
      "execution_count": null,
      "metadata": {
        "id": "Wv91lvmUmoIm",
        "colab": {
          "base_uri": "https://localhost:8080/"
        },
        "outputId": "41047ae3-1549-456b-e520-75bed0051fa5"
      },
      "outputs": [
        {
          "output_type": "stream",
          "name": "stdout",
          "text": [
            "15\n",
            "-5\n",
            "50\n",
            "0.5\n"
          ]
        }
      ],
      "source": [
        "# Arithmetic\n",
        "# Note variable values persist from previous cell\n",
        "print(a + b)\n",
        "print(b - a)\n",
        "print(a * b)\n",
        "print(b / a)"
      ]
    },
    {
      "cell_type": "code",
      "execution_count": null,
      "metadata": {
        "id": "NbZw4iv8moIm",
        "colab": {
          "base_uri": "https://localhost:8080/"
        },
        "outputId": "716beab3-669b-4c3a-9e8a-4102e9bb4902"
      },
      "outputs": [
        {
          "output_type": "stream",
          "name": "stdout",
          "text": [
            "15\n"
          ]
        }
      ],
      "source": [
        "# Update\n",
        "a = a + b\n",
        "print(a)"
      ]
    },
    {
      "cell_type": "code",
      "execution_count": null,
      "metadata": {
        "id": "3rJcJprsmoIn",
        "colab": {
          "base_uri": "https://localhost:8080/"
        },
        "outputId": "a8689f14-d8db-474a-9413-86ca357e1c68"
      },
      "outputs": [
        {
          "output_type": "stream",
          "name": "stdout",
          "text": [
            "20\n"
          ]
        }
      ],
      "source": [
        "# Increment\n",
        "a += b\n",
        "print(a)"
      ]
    },
    {
      "cell_type": "markdown",
      "metadata": {
        "id": "WPKqfhtkmoIn"
      },
      "source": [
        "### Types"
      ]
    },
    {
      "cell_type": "code",
      "execution_count": null,
      "metadata": {
        "id": "-tTH-84ymoIo",
        "colab": {
          "base_uri": "https://localhost:8080/"
        },
        "outputId": "0e8d2438-d4a0-427e-feec-3d63f4b2422c"
      },
      "outputs": [
        {
          "output_type": "stream",
          "name": "stdout",
          "text": [
            "<class 'int'>\n",
            "<class 'str'>\n",
            "<class 'float'>\n"
          ]
        }
      ],
      "source": [
        "# Dynamically-inferred types\n",
        "a = 10\n",
        "print(type(a))\n",
        "a = '10'\n",
        "print(type(a))\n",
        "a = 10.0\n",
        "print(type(a))"
      ]
    },
    {
      "cell_type": "code",
      "execution_count": null,
      "metadata": {
        "id": "MU7PVxtnmoIo",
        "colab": {
          "base_uri": "https://localhost:8080/",
          "height": 176
        },
        "outputId": "a18ab249-6f2f-4c53-8272-625260808dfc"
      },
      "outputs": [
        {
          "output_type": "error",
          "ename": "TypeError",
          "evalue": "unsupported operand type(s) for +: 'int' and 'str'",
          "traceback": [
            "\u001b[0;31m---------------------------------------------------------------------------\u001b[0m",
            "\u001b[0;31mTypeError\u001b[0m                                 Traceback (most recent call last)",
            "\u001b[0;32m<ipython-input-7-1d1de165a119>\u001b[0m in \u001b[0;36m<cell line: 4>\u001b[0;34m()\u001b[0m\n\u001b[1;32m      2\u001b[0m \u001b[0ma\u001b[0m \u001b[0;34m=\u001b[0m \u001b[0;36m10\u001b[0m\u001b[0;34m\u001b[0m\u001b[0;34m\u001b[0m\u001b[0m\n\u001b[1;32m      3\u001b[0m \u001b[0mb\u001b[0m \u001b[0;34m=\u001b[0m \u001b[0;34m'5'\u001b[0m\u001b[0;34m\u001b[0m\u001b[0;34m\u001b[0m\u001b[0m\n\u001b[0;32m----> 4\u001b[0;31m \u001b[0mprint\u001b[0m\u001b[0;34m(\u001b[0m\u001b[0ma\u001b[0m \u001b[0;34m+\u001b[0m \u001b[0mb\u001b[0m\u001b[0;34m)\u001b[0m\u001b[0;34m\u001b[0m\u001b[0;34m\u001b[0m\u001b[0m\n\u001b[0m",
            "\u001b[0;31mTypeError\u001b[0m: unsupported operand type(s) for +: 'int' and 'str'"
          ]
        }
      ],
      "source": [
        "# Type-checking\n",
        "a = 10\n",
        "b = '5'\n",
        "print(a + b)"
      ]
    },
    {
      "cell_type": "code",
      "execution_count": null,
      "metadata": {
        "id": "cIxuGr23moIp",
        "colab": {
          "base_uri": "https://localhost:8080/"
        },
        "outputId": "c0eb4a06-64ef-41a9-fae1-18cf1436e650"
      },
      "outputs": [
        {
          "output_type": "stream",
          "name": "stdout",
          "text": [
            "15\n"
          ]
        }
      ],
      "source": [
        "# Manual type-conversion (string to int)\n",
        "a = 10\n",
        "b = '5'\n",
        "print(a + int(b))"
      ]
    },
    {
      "cell_type": "code",
      "execution_count": null,
      "metadata": {
        "id": "nUq9Bn9cmoIp",
        "colab": {
          "base_uri": "https://localhost:8080/"
        },
        "outputId": "c80ded8b-10a5-4edc-99a2-43f6a929a0bf"
      },
      "outputs": [
        {
          "output_type": "stream",
          "name": "stdout",
          "text": [
            "<class 'int'>\n",
            "15.0 <class 'float'>\n"
          ]
        }
      ],
      "source": [
        "# Automatic type-conversion (int to float)\n",
        "a = 10\n",
        "print(type(a))\n",
        "a += 5.0\n",
        "print(a, type(a))"
      ]
    },
    {
      "cell_type": "code",
      "execution_count": null,
      "metadata": {
        "id": "ahRVOgtPmoIp",
        "colab": {
          "base_uri": "https://localhost:8080/"
        },
        "outputId": "407e634a-082d-4aa9-df27-284bc9f19ae2"
      },
      "outputs": [
        {
          "output_type": "stream",
          "name": "stdout",
          "text": [
            "Professor Widom\n"
          ]
        }
      ],
      "source": [
        "# String \"arithmetic\" (actually concatenation)\n",
        "a = 'Professor '\n",
        "b = 'Widom'\n",
        "print(a + b)"
      ]
    },
    {
      "cell_type": "markdown",
      "metadata": {
        "id": "qZF63pgemoIq"
      },
      "source": [
        "### Conditional (If) Statements"
      ]
    },
    {
      "cell_type": "code",
      "execution_count": null,
      "metadata": {
        "id": "hTyrmnPimoIq",
        "colab": {
          "base_uri": "https://localhost:8080/"
        },
        "outputId": "ce185e0e-4abd-4cf3-800a-7c2c9b6b6c72"
      },
      "outputs": [
        {
          "output_type": "stream",
          "name": "stdout",
          "text": [
            "8 is greater than 5 but not greater than 10\n"
          ]
        }
      ],
      "source": [
        "# If statements\n",
        "# Unlike other languages, indentation is significant\n",
        "a = 8\n",
        "if a > 10:\n",
        "    print(a, 'is greater than 10')\n",
        "    if a >= 15:\n",
        "        print(a, 'is also at least 15')\n",
        "elif a > 5:\n",
        "    print(a, 'is greater than 5 but not greater than 10')\n",
        "else:\n",
        "    print('no condition matched')\n",
        "    print('so a is 5 or less')"
      ]
    },
    {
      "cell_type": "markdown",
      "metadata": {
        "id": "7c8QCKpAmoIq"
      },
      "source": [
        "### <font color = 'green'>**Your Turn**</font>"
      ]
    },
    {
      "cell_type": "code",
      "execution_count": null,
      "metadata": {
        "id": "0mUlzLXymoIr",
        "colab": {
          "base_uri": "https://localhost:8080/"
        },
        "outputId": "03c74264-b449-4e60-dec7-1e159297fed7"
      },
      "outputs": [
        {
          "output_type": "stream",
          "name": "stdout",
          "text": [
            "25 too small\n"
          ]
        }
      ],
      "source": [
        "# Write a program that starts with a number assigned to variable a.\n",
        "# If the square of that number is 100 or greater,\n",
        "# print the squared value and 'is big'.\n",
        "# Otherwise if the square is 50 or greater,\n",
        "# print the squared value 'is medium'.\n",
        "# Otherwise just print 'too small to bother with'.\n",
        "# Note: To obtain a value squared, use a*a or a**2\n",
        "# Make sure to try different values for a\n",
        "#\n",
        "a = 5\n",
        "b = a ** 2\n",
        "\n",
        "if b >= 100:\n",
        "    print(b, 'is big')\n",
        "\n",
        "elif b >= 50:\n",
        "    print(b, 'is medium')\n",
        "else:\n",
        "    print(b, 'too small to bother with')"
      ]
    },
    {
      "cell_type": "markdown",
      "metadata": {
        "id": "ZTj0lnN-moIr"
      },
      "source": [
        "### Lists and For-Loops"
      ]
    },
    {
      "cell_type": "code",
      "execution_count": null,
      "metadata": {
        "id": "ZegOA-xwmoIr",
        "colab": {
          "base_uri": "https://localhost:8080/"
        },
        "outputId": "346fa5ee-a63b-4cc6-b3ec-8485fc37d33c"
      },
      "outputs": [
        {
          "output_type": "stream",
          "name": "stdout",
          "text": [
            "[2, 4, 7, 9]\n",
            "<class 'list'>\n",
            "4\n"
          ]
        }
      ],
      "source": [
        "# List\n",
        "a = [2, 4, 7, 9]\n",
        "print(a)\n",
        "print(type(a))\n",
        "print(len(a))"
      ]
    },
    {
      "cell_type": "code",
      "execution_count": null,
      "metadata": {
        "id": "m7C2zmTAmoIr",
        "colab": {
          "base_uri": "https://localhost:8080/"
        },
        "outputId": "83cc71f8-a43f-4464-9efd-7660f98499cb"
      },
      "outputs": [
        {
          "output_type": "stream",
          "name": "stdout",
          "text": [
            "2 4\n",
            "4 8\n",
            "7 14\n",
            "9 18\n"
          ]
        }
      ],
      "source": [
        "# Iterate through a list\n",
        "for x in a:\n",
        "    print(x, 2 * x)"
      ]
    },
    {
      "cell_type": "code",
      "execution_count": null,
      "metadata": {
        "id": "SXGIQMa9moIr",
        "colab": {
          "base_uri": "https://localhost:8080/"
        },
        "outputId": "45bef6d2-5fa4-44db-9f94-40602649bd52"
      },
      "outputs": [
        {
          "output_type": "stream",
          "name": "stdout",
          "text": [
            "4\n",
            "9\n"
          ]
        }
      ],
      "source": [
        "# Access element by index (starts at zero)\n",
        "print(a[1])\n",
        "print(a[3])\n",
        "# Try a[5]"
      ]
    },
    {
      "cell_type": "code",
      "execution_count": null,
      "metadata": {
        "id": "ZzOb3bCXmoIs"
      },
      "outputs": [],
      "source": [
        "# Prefix, suffix, and section of list\n",
        "print(a[:2])\n",
        "print(a[1:])\n",
        "print(a[1:3])"
      ]
    },
    {
      "cell_type": "code",
      "execution_count": null,
      "metadata": {
        "id": "0HjM9gg-moIs"
      },
      "outputs": [],
      "source": [
        "# Append to list\n",
        "a.append(12)\n",
        "a.append(14)\n",
        "print(a)"
      ]
    },
    {
      "cell_type": "code",
      "execution_count": null,
      "metadata": {
        "id": "xmAUJBVRmoIs"
      },
      "outputs": [],
      "source": [
        "# Combine two lists\n",
        "a = a + [15, 20, 30]\n",
        "print(a)"
      ]
    },
    {
      "cell_type": "code",
      "execution_count": null,
      "metadata": {
        "id": "mv2m9zBnmoIs"
      },
      "outputs": [],
      "source": [
        "# List elements can be of different types\n",
        "a = [1, 'two', 3.0, [4,5,6]]\n",
        "print(a)\n",
        "print(type(a))\n",
        "print(type(a[0]), type(a[1]), type(a[2]), type (a[3]))"
      ]
    },
    {
      "cell_type": "markdown",
      "metadata": {
        "id": "eJXcVHICmoIs"
      },
      "source": [
        "### Dictionaries (key-value mappings)"
      ]
    },
    {
      "cell_type": "code",
      "execution_count": null,
      "metadata": {
        "id": "hj0EsT8bmoIt"
      },
      "outputs": [],
      "source": [
        "# Dictionary\n",
        "a = {'name': 'Mary', 'age': 20, 'gender': 'F'}\n",
        "print(a)\n",
        "print(type(a))"
      ]
    },
    {
      "cell_type": "code",
      "execution_count": null,
      "metadata": {
        "id": "0jlO6xl7moIt"
      },
      "outputs": [],
      "source": [
        "# Look up value of element by key - most important feature!\n",
        "print(a['age'])\n",
        "# also try a['gender'], a['salary']"
      ]
    },
    {
      "cell_type": "code",
      "execution_count": null,
      "metadata": {
        "id": "6jtbUNLImoIt"
      },
      "outputs": [],
      "source": [
        "# Modify value\n",
        "a['age'] = 21\n",
        "print(a)"
      ]
    },
    {
      "cell_type": "code",
      "execution_count": null,
      "metadata": {
        "id": "KHMABIk1moIt"
      },
      "outputs": [],
      "source": [
        "# Iterating through a list of dictionaries\n",
        "dlist = [{'name':'Mary', 'age':20}, {'name':'John', 'age':30},\n",
        "         {'name':'Bill', 'age':10}, {'name':'Susan', 'age':40}]\n",
        "for x in dlist:\n",
        "    if x['age'] >= 30:\n",
        "        print(x['name'], 'is old')\n",
        "    if x['age'] < 20:\n",
        "        print(x['name'], 'is young')"
      ]
    },
    {
      "cell_type": "code",
      "execution_count": null,
      "metadata": {
        "id": "gTp40A6PmoIt"
      },
      "outputs": [],
      "source": [
        "# Add new key-value pair\n",
        "a['salary'] = 100\n",
        "print(a)"
      ]
    },
    {
      "cell_type": "markdown",
      "metadata": {
        "id": "7uxBmG3imoIu"
      },
      "source": [
        "### <font color = 'green'>**Your Turn**</font>"
      ]
    },
    {
      "cell_type": "code",
      "execution_count": 1,
      "metadata": {
        "id": "15wlVL-3moIu",
        "colab": {
          "base_uri": "https://localhost:8080/"
        },
        "outputId": "f0012823-ef14-49d6-acc6-df2c08e589d1"
      },
      "outputs": [
        {
          "output_type": "stream",
          "name": "stdout",
          "text": [
            "red\n",
            "yellow\n"
          ]
        }
      ],
      "source": [
        "# Here is a dataset of four items, represented as a list of\n",
        "# dictionaries specifying each item's color and size\n",
        "items = [{'color':'red', 'size':10}, {'color':'blue', 'size':3},\n",
        "         {'color':'green', 'size':15}, {'color':'yellow', 'size':6}]\n",
        "# Write code that prints the color of all items whose size\n",
        "# is greater than threshold 'low' and less than threshold 'high'\n",
        "# Note: In Python, use 'and' to combine conditions\n",
        "low = 5\n",
        "high = 11\n",
        "\n",
        "for i in items:\n",
        "    if i['size'] > low and i['size'] < high:\n",
        "        print(i['color'])"
      ]
    },
    {
      "cell_type": "markdown",
      "metadata": {
        "id": "Vk8pPqYsmoIu"
      },
      "source": [
        "### Additional Features - Mostly Just FYI"
      ]
    },
    {
      "cell_type": "markdown",
      "metadata": {
        "id": "byhZ-QjvmoIu"
      },
      "source": [
        "#### User input"
      ]
    },
    {
      "cell_type": "code",
      "execution_count": null,
      "metadata": {
        "id": "fDmEeneRmoIu",
        "colab": {
          "base_uri": "https://localhost:8080/"
        },
        "outputId": "6168b03f-4fc5-4f4d-b9fc-1845461a33ba"
      },
      "outputs": [
        {
          "output_type": "stream",
          "name": "stdout",
          "text": [
            "Enter value 1: 2\n",
            "Enter value 2: 4\n",
            "24\n"
          ]
        }
      ],
      "source": [
        "a = input('Enter value 1: ')\n",
        "b = input('Enter value 2: ')\n",
        "print(a + b)\n",
        "# Fix to do integer addition"
      ]
    },
    {
      "cell_type": "markdown",
      "metadata": {
        "id": "9OC4ni8nmoIv"
      },
      "source": [
        "#### While loops"
      ]
    },
    {
      "cell_type": "code",
      "execution_count": null,
      "metadata": {
        "id": "fssFKkRJmoIv"
      },
      "outputs": [],
      "source": [
        "# Echo user input, 'quit' to end\n",
        "i = input('Enter any string, or \"quit\" to stop: ')\n",
        "while i != 'quit':\n",
        "    print(i)\n",
        "    i = input('Enter any string, or \"quit\" to stop: ')\n",
        "print('Done')\n",
        "# Change to while True and break"
      ]
    },
    {
      "cell_type": "markdown",
      "metadata": {
        "id": "vhVmyfm3moIv"
      },
      "source": [
        "#### Infinite while loop"
      ]
    },
    {
      "cell_type": "code",
      "execution_count": 7,
      "metadata": {
        "id": "a_-3odfWmoIv",
        "colab": {
          "base_uri": "https://localhost:8080/",
          "height": 238
        },
        "outputId": "4333510d-5894-4586-c3a5-5b209fd98241"
      },
      "outputs": [
        {
          "name": "stdout",
          "output_type": "stream",
          "text": [
            "Enter any string, or \"quit\" to stop: quit\n"
          ]
        },
        {
          "output_type": "error",
          "ename": "KeyboardInterrupt",
          "evalue": "",
          "traceback": [
            "\u001b[0;31m---------------------------------------------------------------------------\u001b[0m",
            "\u001b[0;31mKeyboardInterrupt\u001b[0m                         Traceback (most recent call last)",
            "\u001b[0;32m<ipython-input-7-3018224157>\u001b[0m in \u001b[0;36m<cell line: 0>\u001b[0;34m()\u001b[0m\n\u001b[1;32m      1\u001b[0m \u001b[0;31m# Try not 'quit' then try 'quit', Runtime > interrupt\u001b[0m\u001b[0;34m\u001b[0m\u001b[0;34m\u001b[0m\u001b[0m\n\u001b[1;32m      2\u001b[0m \u001b[0mi\u001b[0m \u001b[0;34m=\u001b[0m \u001b[0minput\u001b[0m\u001b[0;34m(\u001b[0m\u001b[0;34m'Enter any string, or \"quit\" to stop: '\u001b[0m\u001b[0;34m)\u001b[0m\u001b[0;34m\u001b[0m\u001b[0;34m\u001b[0m\u001b[0m\n\u001b[0;32m----> 3\u001b[0;31m \u001b[0;32mwhile\u001b[0m \u001b[0;32mTrue\u001b[0m\u001b[0;34m:\u001b[0m\u001b[0;34m\u001b[0m\u001b[0;34m\u001b[0m\u001b[0m\n\u001b[0m\u001b[1;32m      4\u001b[0m     \u001b[0;32mif\u001b[0m \u001b[0mi\u001b[0m \u001b[0;34m!=\u001b[0m \u001b[0;34m'quit'\u001b[0m\u001b[0;34m:\u001b[0m \u001b[0mprint\u001b[0m\u001b[0;34m(\u001b[0m\u001b[0mi\u001b[0m\u001b[0;34m)\u001b[0m\u001b[0;34m\u001b[0m\u001b[0;34m\u001b[0m\u001b[0m\n\u001b[1;32m      5\u001b[0m \u001b[0mprint\u001b[0m\u001b[0;34m(\u001b[0m\u001b[0;34m'Done'\u001b[0m\u001b[0;34m)\u001b[0m\u001b[0;34m\u001b[0m\u001b[0;34m\u001b[0m\u001b[0m\n",
            "\u001b[0;31mKeyboardInterrupt\u001b[0m: "
          ]
        }
      ],
      "source": [
        "# Try not 'quit' then try 'quit', Runtime > interrupt\n",
        "i = input('Enter any string, or \"quit\" to stop: ')\n",
        "while True:\n",
        "    if i != 'quit': print(i)\n",
        "print('Done')\n"
      ]
    },
    {
      "cell_type": "markdown",
      "metadata": {
        "id": "6MijDGC4moIv"
      },
      "source": [
        "#### Functions"
      ]
    },
    {
      "cell_type": "code",
      "execution_count": 2,
      "metadata": {
        "id": "NTZQJkhtmoIv"
      },
      "outputs": [],
      "source": [
        "# Create a function with no arguments or return value\n",
        "def simple():\n",
        "    print('This function has no arguments or return value')"
      ]
    },
    {
      "cell_type": "code",
      "execution_count": 3,
      "metadata": {
        "id": "zXMMyLcHmoIw",
        "colab": {
          "base_uri": "https://localhost:8080/"
        },
        "outputId": "98946143-b797-49ee-e776-dd6fed428701"
      },
      "outputs": [
        {
          "output_type": "stream",
          "name": "stdout",
          "text": [
            "This function has no arguments or return value\n",
            "This function has no arguments or return value\n",
            "This function has no arguments or return value\n",
            "This function has no arguments or return value\n",
            "This function has no arguments or return value\n"
          ]
        }
      ],
      "source": [
        "# Call the function five times\n",
        "for i in [1,2,3,4,5]:\n",
        "    simple()"
      ]
    },
    {
      "cell_type": "code",
      "execution_count": 4,
      "metadata": {
        "id": "lxULIO1CmoIw"
      },
      "outputs": [],
      "source": [
        "# Create a function with arguments and a return value\n",
        "def addthem(a, b):\n",
        "    return a + b"
      ]
    },
    {
      "cell_type": "code",
      "execution_count": 5,
      "metadata": {
        "id": "hPARiTbbmoIw",
        "colab": {
          "base_uri": "https://localhost:8080/"
        },
        "outputId": "1ec408e8-7bc1-4bcd-a103-8013b3e65c9b"
      },
      "outputs": [
        {
          "output_type": "stream",
          "name": "stdout",
          "text": [
            "1 2 3\n",
            "2 3 5\n",
            "3 4 7\n",
            "4 5 9\n",
            "5 6 11\n"
          ]
        }
      ],
      "source": [
        "# Call the function five times\n",
        "for i in [1,2,3,4,5]:\n",
        "    print(i, i+1, addthem(i,i+1))"
      ]
    }
  ],
  "metadata": {
    "kernelspec": {
      "display_name": "Python 3",
      "language": "python",
      "name": "python3"
    },
    "language_info": {
      "codemirror_mode": {
        "name": "ipython",
        "version": 3
      },
      "file_extension": ".py",
      "mimetype": "text/x-python",
      "name": "python",
      "nbconvert_exporter": "python",
      "pygments_lexer": "ipython3",
      "version": "3.7.6"
    },
    "colab": {
      "provenance": [],
      "collapsed_sections": [
        "byhZ-QjvmoIu",
        "9OC4ni8nmoIv",
        "vhVmyfm3moIv",
        "6DrlL_9TmoIv",
        "6MijDGC4moIv"
      ]
    }
  },
  "nbformat": 4,
  "nbformat_minor": 0
}