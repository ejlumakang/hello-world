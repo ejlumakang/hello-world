{
  "cells": [
    {
      "cell_type": "markdown",
      "metadata": {
        "id": "b6vsKwuKchlg"
      },
      "source": [
        "### The R Language: Data Manipulation"
      ]
    },
    {
      "cell_type": "markdown",
      "source": [
        "<font color=\"red\">File access required:</font> In Colab this notebook requires first uploading files **Cities.csv**, **Countries.csv**, **Players.csv**, and **Teams.csv** using the *Files* feature in the left toolbar. If running the notebook on a local computer, simply ensure these files are in the same workspace as the notebook."
      ],
      "metadata": {
        "id": "magkC6R9Vmgk"
      }
    },
    {
      "cell_type": "code",
      "execution_count": 1,
      "metadata": {
        "id": "KPOQkxmgchlj"
      },
      "outputs": [],
      "source": [
        "# Set-up\n",
        "%load_ext rpy2.ipython"
      ]
    },
    {
      "cell_type": "markdown",
      "metadata": {
        "id": "FMLvl3lWchln"
      },
      "source": [
        "#### Open CSV files and load data into data frames"
      ]
    },
    {
      "cell_type": "code",
      "execution_count": 5,
      "metadata": {
        "id": "qQR-ayV2chln"
      },
      "outputs": [],
      "source": [
        "C1 = open('/content/drive/MyDrive/Google Colab/The R Language/Copy of Cities.csv').read()\n",
        "C2 = open('/content/drive/MyDrive/Google Colab/The R Language/Copy of Countries.csv').read()"
      ]
    },
    {
      "cell_type": "code",
      "source": [
        "from google.colab import drive\n",
        "drive.mount('/content/drive')"
      ],
      "metadata": {
        "colab": {
          "base_uri": "https://localhost:8080/"
        },
        "id": "rSJJyrJle1TS",
        "outputId": "2c97db15-3b64-497b-df66-6e29a75e4a2f"
      },
      "execution_count": 3,
      "outputs": [
        {
          "output_type": "stream",
          "name": "stdout",
          "text": [
            "Mounted at /content/drive\n"
          ]
        }
      ]
    },
    {
      "cell_type": "code",
      "execution_count": 6,
      "metadata": {
        "id": "_YGFSnKTchlo"
      },
      "outputs": [],
      "source": [
        "%%R -i C1 -i C2\n",
        "cities <- read.csv(text=C1)\n",
        "countries <- read.csv(text=C2)"
      ]
    },
    {
      "cell_type": "markdown",
      "metadata": {
        "collapsed": true,
        "id": "lIwGNG34chlp"
      },
      "source": [
        "#### Data frame introduction"
      ]
    },
    {
      "cell_type": "code",
      "execution_count": 7,
      "metadata": {
        "id": "pPMqSBxwchlp",
        "colab": {
          "base_uri": "https://localhost:8080/"
        },
        "outputId": "50897ee4-55ac-4a22-9ccd-5e8f476016cf"
      },
      "outputs": [
        {
          "output_type": "stream",
          "name": "stdout",
          "text": [
            "            city                country latitude longitude temperature\n",
            "1        Aalborg                Denmark    57.03      9.92        7.52\n",
            "2       Aberdeen         United Kingdom    57.17     -2.08        8.10\n",
            "3         Abisko                 Sweden    63.35     18.83        0.20\n",
            "4          Adana                 Turkey    36.99     35.32       18.67\n",
            "5       Albacete                  Spain    39.00     -1.87       12.62\n",
            "6      Algeciras                  Spain    36.13     -5.47       17.38\n",
            "7         Amiens                 France    49.90      2.30       10.17\n",
            "8      Amsterdam            Netherlands    52.35      4.92        8.93\n",
            "9         Ancona                  Italy    43.60     13.50       13.52\n",
            "10       Andorra                Andorra    42.50      1.52        9.60\n",
            "11        Angers                 France    47.48     -0.53       10.98\n",
            "12        Ankara                 Turkey    39.93     32.86        9.86\n",
            "13       Antalya                 Turkey    36.89     30.70       11.88\n",
            "14          Arad                Romania    46.17     21.32        9.32\n",
            "15        Athens                 Greece    37.98     23.73       17.41\n",
            "16      Augsburg                Germany    48.35     10.90        4.54\n",
            "17         Bacau                Romania    46.58     26.92        7.51\n",
            "18       Badajoz                  Spain    38.88     -6.97       15.61\n",
            "19     Baia Mare                Romania    47.66     23.58        8.87\n",
            "20         Balti                Moldova    47.76     27.91        8.23\n",
            "21     Barcelona                  Spain    41.38      2.18       15.78\n",
            "22          Bari                  Italy    41.11     16.87       15.15\n",
            "23         Basel            Switzerland    47.58      7.59        6.68\n",
            "24        Batman                 Turkey    37.89     41.14       14.16\n",
            "25       Belfast         United Kingdom    54.60     -5.96        8.48\n",
            "26      Belgrade                 Serbia    44.82     20.47        9.85\n",
            "27       Bergamo                  Italy    45.70      9.67        9.12\n",
            "28        Bergen                 Norway    60.39      5.32        1.75\n",
            "29        Berlin                Germany    52.52     13.40        8.72\n",
            "30     Bialystok                 Poland    53.15     23.17        6.07\n",
            "31     Bielefeld                Germany    52.03      8.53        8.78\n",
            "32  Bila Tserkva                Ukraine    49.77     30.13        6.98\n",
            "33        Bilbao                  Spain    43.25     -2.93       11.41\n",
            "34    Birmingham         United Kingdom    52.47     -1.92        8.81\n",
            "35     Blackpool         United Kingdom    53.83     -3.05        9.15\n",
            "36          Bodo                 Norway    67.25     14.40        4.50\n",
            "37       Bologna                  Italy    44.50     11.34       11.69\n",
            "38          Bonn                Germany    50.72      7.08        8.63\n",
            "39      Bordeaux                 France    44.85     -0.60       11.87\n",
            "40      Botosani                Romania    47.75     26.66        8.23\n",
            "41   Bournemouth         United Kingdom    50.73     -1.90        9.97\n",
            "42      Bradford         United Kingdom    53.80     -1.75        8.39\n",
            "43         Braga               Portugal    41.55     -8.42       13.42\n",
            "44        Braila                Romania    45.29     27.97        9.78\n",
            "45    Bratislava               Slovakia    48.15     17.12        9.65\n",
            "46        Bremen                Germany    53.08      8.80        8.14\n",
            "47         Brest                 France    48.39     -4.50       11.02\n",
            "48         Brest                Belarus    52.10     23.70        6.73\n",
            "49          Brno         Czech Republic    49.20     16.61        7.86\n",
            "50        Brugge                Belgium    51.22      3.23        9.65\n",
            "51     Bucharest                Romania    44.43     26.10       10.59\n",
            "52      Budapest                Hungary    47.50     19.08        9.55\n",
            "53        Burgas               Bulgaria    42.51     27.47       11.93\n",
            "54        Burgos                  Spain    42.35     -3.68       10.45\n",
            "55         Bursa                 Turkey    40.20     29.07       11.16\n",
            "56     Bydgoszcz                 Poland    53.12     18.01        7.14\n",
            "57         Bytom                 Poland    50.35     18.91        7.66\n",
            "58          Caen                 France    49.18     -0.35        9.96\n",
            "59     Cambridge         United Kingdom    52.20      0.12        9.25\n",
            "60     Cartagena                  Spain    37.60     -0.98       17.32\n",
            "61       Catania                  Italy    37.50     15.08       15.04\n",
            "62      Chemnitz                Germany    50.83     12.92        8.05\n",
            "63      Cherkasy                Ukraine    49.43     32.07        7.19\n",
            "64     Chernihiv                Ukraine    51.50     31.30        5.92\n",
            "65    Chernivtsi                Ukraine    48.31     25.92        7.06\n",
            "66      Chisinau                Moldova    47.01     28.86        8.60\n",
            "67     Constanta                Romania    44.20     28.61       11.24\n",
            "68          Cork                Ireland    51.90     -8.50        9.41\n",
            "69       Cosenza                  Italy    39.27     16.29       16.60\n",
            "70       Craiova                Romania    44.33     23.83       10.51\n",
            "71    Daugavpils                 Latvia    55.88     26.51        5.38\n",
            "72      Debrecen                Hungary    47.53     21.63        8.87\n",
            "73       Denizli                 Turkey    37.77     29.08       15.02\n",
            "74         Dijon                 France    47.33      5.03        8.69\n",
            "75        Dublin                Ireland    53.33     -6.25        8.49\n",
            "76        Dundee         United Kingdom    56.47     -3.00        6.40\n",
            "77     Edinburgh         United Kingdom    55.95     -3.22        7.43\n",
            "78        Edirne                 Turkey    41.67     26.57       10.90\n",
            "79       Elbasan                Albania    41.12     20.08       15.18\n",
            "80        Elblag                 Poland    54.19     19.40        6.68\n",
            "81        Erfurt                Germany    50.97     11.03        7.40\n",
            "82      Erzincan                 Turkey    39.75     39.49        8.67\n",
            "83       Erzurum                 Turkey    39.92     41.29        5.17\n",
            "84     Eskisehir                 Turkey    39.79     30.53       11.11\n",
            "85        Exeter         United Kingdom    50.70     -3.53       10.14\n",
            "86        Foggia                  Italy    41.46     15.56       13.83\n",
            "87     Frankfurt                Germany    50.10      8.68        7.98\n",
            "88      Freiburg                Germany    48.00      7.87        6.68\n",
            "89        Galway                Ireland    53.27     -9.05       10.00\n",
            "90     Gaziantep                 Turkey    37.07     37.38       13.46\n",
            "91        Geneva            Switzerland    46.21      6.14        8.40\n",
            "92         Genoa                  Italy    44.41      8.93       12.94\n",
            "93       Glasgow         United Kingdom    55.87     -4.25        8.60\n",
            "94      Göteborg                 Sweden    57.75     12.00        5.76\n",
            "95       Granada                  Spain    37.16     -3.59       16.33\n",
            "96          Graz                Austria    47.08     15.41        6.91\n",
            "97      Grenoble                 France    45.18      5.72        8.40\n",
            "98     Groningen            Netherlands    53.22      6.58        8.71\n",
            "99          Gyor                Hungary    47.70     17.63        9.65\n",
            "100   Heidelberg                Germany    49.42      8.70        8.47\n",
            "101     Helsinki                Finland    60.18     24.93        4.19\n",
            "102     Horlivka                Ukraine    48.30     38.05        7.12\n",
            "103       Hrodna                Belarus    53.68     23.83        6.07\n",
            "104       Huelva                  Spain    37.25     -6.93       17.09\n",
            "105   Ingolstadt                Germany    48.77     11.45        7.57\n",
            "106    Innsbruck                Austria    47.28     11.41        4.54\n",
            "107    Inverness         United Kingdom    57.47     -4.23        8.00\n",
            "108     Istanbul                 Turkey    41.10     29.01       13.20\n",
            "109     Kalamata                 Greece    37.04     22.11       17.30\n",
            "110      Karaman                 Turkey    37.18     33.22       10.41\n",
            "111    Karlsruhe                Germany    49.00      8.40        8.88\n",
            "112       Kaunas              Lithuania    54.95     23.88        6.05\n",
            "113      Kayseri                 Turkey    38.73     35.49        8.89\n",
            "114      Kherson                Ukraine    46.63     32.60        8.64\n",
            "115       Kielce                 Poland    50.89     20.66        7.29\n",
            "116         Kiev                Ukraine    50.43     30.52        6.88\n",
            "117       Kiruna                 Sweden    67.85     20.22       -2.20\n",
            "118     Klaipeda              Lithuania    55.72     21.12        7.00\n",
            "119       Kosice               Slovakia    48.73     21.25        7.31\n",
            "120     Koszalin                 Poland    54.20     16.18        7.73\n",
            "121   Kremenchuk                Ukraine    49.08     33.43        7.43\n",
            "122   Kryvyy Rih                Ukraine    47.93     33.34        8.61\n",
            "123      Le Mans                 France    48.00      0.10       10.59\n",
            "124        Lille                 France    50.65      3.08        9.65\n",
            "125      Limoges                 France    45.83      1.25       10.32\n",
            "126         Linz                Austria    48.32     14.29        6.79\n",
            "127       Lisbon               Portugal    38.72     -9.14       15.52\n",
            "128    Ljubljana               Slovenia    46.06     14.51        9.27\n",
            "129         Lvov                Ukraine    49.83     24.03        7.04\n",
            "130   Maastricht            Netherlands    50.85      5.68        8.63\n",
            "131       Madrid                  Spain    40.40     -3.68       11.19\n",
            "132    Magdeburg                Germany    52.13     11.62        8.26\n",
            "133    Makiyivka                Ukraine    48.03     37.97        8.70\n",
            "134      Malatya                 Turkey    38.37     38.30       14.13\n",
            "135        Malmö                 Sweden    55.58     13.03        7.33\n",
            "136       Manisa                 Turkey    38.63     27.44       15.10\n",
            "137     Marbella                  Spain    36.52     -4.88       17.19\n",
            "138    Marseille                 France    43.29      5.38       14.98\n",
            "139        Mazyr                Belarus    52.05     29.27        6.25\n",
            "140      Messina                  Italy    38.20     15.55       16.54\n",
            "141         Metz                 France    49.12      6.18        8.88\n",
            "142        Milan                  Italy    45.47      9.21        6.65\n",
            "143        Minsk                Belarus    53.90     27.57        5.28\n",
            "144  Montpellier                 France    43.61      3.87       11.11\n",
            "145     Mulhouse                 France    47.75      7.35        6.68\n",
            "146       Murcia                  Spain    37.98     -1.13       15.00\n",
            "147         Nice                 France    43.72      7.27        8.82\n",
            "148          Nis                 Serbia    43.33     21.90        9.36\n",
            "149     Novi Sad                 Serbia    45.25     19.85       10.34\n",
            "150       Odense                Denmark    55.40     10.38        7.73\n",
            "151         Ordu                 Turkey    41.00     37.87       11.92\n",
            "152        Orsha                Belarus    54.52     30.42        4.93\n",
            "153         Oslo                 Norway    59.92     10.75        2.32\n",
            "154      Ostrava         Czech Republic    49.83     18.25        7.66\n",
            "155         Oulu                Finland    65.00     25.47        1.45\n",
            "156       Oviedo                  Spain    43.35     -5.83       10.85\n",
            "157      Palermo                  Italy    38.13     13.35       17.90\n",
            "158       Patras                 Greece    38.23     21.73       16.90\n",
            "159    Perpignan                 France    42.70      2.90       10.95\n",
            "160      Perugia                  Italy    43.11     12.39       11.70\n",
            "161      Pescara                  Italy    42.46     14.22       15.13\n",
            "162        Pinsk                Belarus    52.13     26.09        6.42\n",
            "163       Pleven               Bulgaria    43.42     24.61       10.51\n",
            "164      Plovdiv               Bulgaria    42.15     24.75        8.27\n",
            "165    Podgorica             Montenegro    42.47     19.27        9.99\n",
            "166       Poznan                 Poland    52.41     16.90        8.31\n",
            "167       Prague         Czech Republic    50.08     14.47        8.05\n",
            "168        Reims                 France    49.25      4.03        9.40\n",
            "169         Riga                 Latvia    56.95     24.10        5.16\n",
            "170       Rijeka                Croatia    45.33     14.45        9.27\n",
            "171        Rivne                Ukraine    50.62     26.25        6.76\n",
            "172         Rome                  Italy    41.90     12.48       15.10\n",
            "173      Rostock                Germany    54.07     12.15        8.07\n",
            "174         Ruse               Bulgaria    43.85     25.97       10.59\n",
            "175    Salamanca                  Spain    40.97     -5.67       11.63\n",
            "176     Salzburg                Austria    47.81     13.04        4.62\n",
            "177       Samsun                 Turkey    41.28     36.34       12.05\n",
            "178    Santander                  Spain    43.38     -3.80       13.40\n",
            "179     Sarajevo Bosnia and Herzegovina    43.85     13.38        9.60\n",
            "180        Sibiu                Romania    45.80     24.14        6.97\n",
            "181        Siirt                 Turkey    37.94     41.93       12.48\n",
            "182        Sivas                 Turkey    39.75     37.03        8.05\n",
            "183       Skopje              Macedonia    42.00     21.43        9.36\n",
            "184        Split                Croatia    43.52     16.47       12.46\n",
            "185 Stara Zagora               Bulgaria    42.42     25.62       10.90\n",
            "186    Stavanger                 Norway    58.97      5.68        5.53\n",
            "187    Stockholm                 Sweden    59.35     18.10        6.26\n",
            "188         Sumy                Ukraine    50.92     34.78        6.28\n",
            "189      Swansea         United Kingdom    51.63     -3.95        9.73\n",
            "190       Szeged                Hungary    46.25     20.15       10.34\n",
            "191      Tallinn                Estonia    59.43     24.73        4.82\n",
            "192      Tampere                Finland    61.50     23.75        3.59\n",
            "193       Tarsus                 Turkey    36.92     34.88       11.21\n",
            "194        Tartu                Estonia    58.38     26.71        4.36\n",
            "195     Tekirdag                 Turkey    40.99     27.51       13.02\n",
            "196     Toulouse                 France    43.62      1.45       10.25\n",
            "197      Trabzon                 Turkey    40.98     39.72       10.28\n",
            "198      Trieste                  Italy    45.65     13.80       11.21\n",
            "199      Trikala                 Greece    39.56     21.77       16.00\n",
            "200    Trondheim                 Norway    63.42     10.42        4.53\n",
            "201        Turku                Finland    60.45     22.25        4.72\n",
            "202      Uppsala                 Sweden    59.86     17.64        4.17\n",
            "203     Valencia                  Spain    39.49     -0.40       16.02\n",
            "204       Vienna                Austria    48.20     16.37        7.86\n",
            "205         Vigo                  Spain    42.22     -8.73       12.85\n",
            "206      Vilnius              Lithuania    54.68     25.32        5.38\n",
            "207       Warsaw                 Poland    52.25     21.00        7.20\n",
            "208      Wroclaw                 Poland    51.11     17.03        7.17\n",
            "209  Yevpatoriya                Ukraine    45.20     33.36       10.02\n",
            "210     Zaragoza                  Spain    41.65     -0.89       14.17\n",
            "211     Zhytomyr                Ukraine    50.25     28.66        6.67\n",
            "212    Zonguldak                 Turkey    41.43     31.78       10.64\n",
            "213       Zurich            Switzerland    47.38      8.56        6.68\n"
          ]
        }
      ],
      "source": [
        "%%R\n",
        "cities"
      ]
    },
    {
      "cell_type": "code",
      "execution_count": 8,
      "metadata": {
        "id": "ntFYF6l2chlq",
        "colab": {
          "base_uri": "https://localhost:8080/"
        },
        "outputId": "a7fa9829-6c32-4e6b-8ae6-d7e7cc6db70f"
      },
      "outputs": [
        {
          "output_type": "stream",
          "name": "stdout",
          "text": [
            "[1] 213\n",
            "[1] 5\n"
          ]
        }
      ],
      "source": [
        "%%R\n",
        "print(nrow(cities))\n",
        "print(ncol(cities))"
      ]
    },
    {
      "cell_type": "code",
      "execution_count": 9,
      "metadata": {
        "id": "mVBYGINRchls",
        "colab": {
          "base_uri": "https://localhost:8080/"
        },
        "outputId": "aecb1753-b111-4b8b-d5c0-73b26df02dd6"
      },
      "outputs": [
        {
          "output_type": "stream",
          "name": "stdout",
          "text": [
            "     city country latitude longitude temperature\n",
            "1 Aalborg Denmark    57.03      9.92        7.52\n"
          ]
        }
      ],
      "source": [
        "%%R\n",
        "cities[1,]"
      ]
    },
    {
      "cell_type": "code",
      "execution_count": 10,
      "metadata": {
        "id": "xbjtF86Uchlt",
        "colab": {
          "base_uri": "https://localhost:8080/"
        },
        "outputId": "68bfc3a3-d60e-4e61-c605-34488805a258"
      },
      "outputs": [
        {
          "output_type": "stream",
          "name": "stdout",
          "text": [
            "        city        country latitude longitude temperature\n",
            "1    Aalborg        Denmark    57.03      9.92        7.52\n",
            "2   Aberdeen United Kingdom    57.17     -2.08        8.10\n",
            "3     Abisko         Sweden    63.35     18.83        0.20\n",
            "4      Adana         Turkey    36.99     35.32       18.67\n",
            "5   Albacete          Spain    39.00     -1.87       12.62\n",
            "6  Algeciras          Spain    36.13     -5.47       17.38\n",
            "7     Amiens         France    49.90      2.30       10.17\n",
            "8  Amsterdam    Netherlands    52.35      4.92        8.93\n",
            "9     Ancona          Italy    43.60     13.50       13.52\n",
            "10   Andorra        Andorra    42.50      1.52        9.60\n"
          ]
        }
      ],
      "source": [
        "%%R\n",
        "cities[1:10,]"
      ]
    },
    {
      "cell_type": "code",
      "execution_count": 11,
      "metadata": {
        "id": "6YxTNbkqchlt",
        "colab": {
          "base_uri": "https://localhost:8080/"
        },
        "outputId": "8fd2bfb2-6fb7-47da-d562-c7a6cbeedb80"
      },
      "outputs": [
        {
          "output_type": "stream",
          "name": "stdout",
          "text": [
            "     city country latitude longitude temperature\n",
            "1 Aalborg Denmark    57.03      9.92        7.52\n",
            "      city        country latitude longitude temperature\n",
            "2 Aberdeen United Kingdom    57.17     -2.08         8.1\n",
            "    city country latitude longitude temperature\n",
            "3 Abisko  Sweden    63.35     18.83         0.2\n",
            "   city country latitude longitude temperature\n",
            "4 Adana  Turkey    36.99     35.32       18.67\n",
            "      city country latitude longitude temperature\n",
            "5 Albacete   Spain       39     -1.87       12.62\n",
            "       city country latitude longitude temperature\n",
            "6 Algeciras   Spain    36.13     -5.47       17.38\n",
            "    city country latitude longitude temperature\n",
            "7 Amiens  France     49.9       2.3       10.17\n",
            "       city     country latitude longitude temperature\n",
            "8 Amsterdam Netherlands    52.35      4.92        8.93\n",
            "    city country latitude longitude temperature\n",
            "9 Ancona   Italy     43.6      13.5       13.52\n",
            "      city country latitude longitude temperature\n",
            "10 Andorra Andorra     42.5      1.52         9.6\n"
          ]
        }
      ],
      "source": [
        "%%R\n",
        "for (i in 1:10) { print(cities[i,]) }"
      ]
    },
    {
      "cell_type": "code",
      "execution_count": 12,
      "metadata": {
        "id": "2b1nxCnJchlu",
        "colab": {
          "base_uri": "https://localhost:8080/"
        },
        "outputId": "8f4f9093-aaef-47ca-8c59-37a42da0c08d"
      },
      "outputs": [
        {
          "output_type": "stream",
          "name": "stdout",
          "text": [
            "  [1] \"Denmark\"                \"United Kingdom\"         \"Sweden\"                \n",
            "  [4] \"Turkey\"                 \"Spain\"                  \"Spain\"                 \n",
            "  [7] \"France\"                 \"Netherlands\"            \"Italy\"                 \n",
            " [10] \"Andorra\"                \"France\"                 \"Turkey\"                \n",
            " [13] \"Turkey\"                 \"Romania\"                \"Greece\"                \n",
            " [16] \"Germany\"                \"Romania\"                \"Spain\"                 \n",
            " [19] \"Romania\"                \"Moldova\"                \"Spain\"                 \n",
            " [22] \"Italy\"                  \"Switzerland\"            \"Turkey\"                \n",
            " [25] \"United Kingdom\"         \"Serbia\"                 \"Italy\"                 \n",
            " [28] \"Norway\"                 \"Germany\"                \"Poland\"                \n",
            " [31] \"Germany\"                \"Ukraine\"                \"Spain\"                 \n",
            " [34] \"United Kingdom\"         \"United Kingdom\"         \"Norway\"                \n",
            " [37] \"Italy\"                  \"Germany\"                \"France\"                \n",
            " [40] \"Romania\"                \"United Kingdom\"         \"United Kingdom\"        \n",
            " [43] \"Portugal\"               \"Romania\"                \"Slovakia\"              \n",
            " [46] \"Germany\"                \"France\"                 \"Belarus\"               \n",
            " [49] \"Czech Republic\"         \"Belgium\"                \"Romania\"               \n",
            " [52] \"Hungary\"                \"Bulgaria\"               \"Spain\"                 \n",
            " [55] \"Turkey\"                 \"Poland\"                 \"Poland\"                \n",
            " [58] \"France\"                 \"United Kingdom\"         \"Spain\"                 \n",
            " [61] \"Italy\"                  \"Germany\"                \"Ukraine\"               \n",
            " [64] \"Ukraine\"                \"Ukraine\"                \"Moldova\"               \n",
            " [67] \"Romania\"                \"Ireland\"                \"Italy\"                 \n",
            " [70] \"Romania\"                \"Latvia\"                 \"Hungary\"               \n",
            " [73] \"Turkey\"                 \"France\"                 \"Ireland\"               \n",
            " [76] \"United Kingdom\"         \"United Kingdom\"         \"Turkey\"                \n",
            " [79] \"Albania\"                \"Poland\"                 \"Germany\"               \n",
            " [82] \"Turkey\"                 \"Turkey\"                 \"Turkey\"                \n",
            " [85] \"United Kingdom\"         \"Italy\"                  \"Germany\"               \n",
            " [88] \"Germany\"                \"Ireland\"                \"Turkey\"                \n",
            " [91] \"Switzerland\"            \"Italy\"                  \"United Kingdom\"        \n",
            " [94] \"Sweden\"                 \"Spain\"                  \"Austria\"               \n",
            " [97] \"France\"                 \"Netherlands\"            \"Hungary\"               \n",
            "[100] \"Germany\"                \"Finland\"                \"Ukraine\"               \n",
            "[103] \"Belarus\"                \"Spain\"                  \"Germany\"               \n",
            "[106] \"Austria\"                \"United Kingdom\"         \"Turkey\"                \n",
            "[109] \"Greece\"                 \"Turkey\"                 \"Germany\"               \n",
            "[112] \"Lithuania\"              \"Turkey\"                 \"Ukraine\"               \n",
            "[115] \"Poland\"                 \"Ukraine\"                \"Sweden\"                \n",
            "[118] \"Lithuania\"              \"Slovakia\"               \"Poland\"                \n",
            "[121] \"Ukraine\"                \"Ukraine\"                \"France\"                \n",
            "[124] \"France\"                 \"France\"                 \"Austria\"               \n",
            "[127] \"Portugal\"               \"Slovenia\"               \"Ukraine\"               \n",
            "[130] \"Netherlands\"            \"Spain\"                  \"Germany\"               \n",
            "[133] \"Ukraine\"                \"Turkey\"                 \"Sweden\"                \n",
            "[136] \"Turkey\"                 \"Spain\"                  \"France\"                \n",
            "[139] \"Belarus\"                \"Italy\"                  \"France\"                \n",
            "[142] \"Italy\"                  \"Belarus\"                \"France\"                \n",
            "[145] \"France\"                 \"Spain\"                  \"France\"                \n",
            "[148] \"Serbia\"                 \"Serbia\"                 \"Denmark\"               \n",
            "[151] \"Turkey\"                 \"Belarus\"                \"Norway\"                \n",
            "[154] \"Czech Republic\"         \"Finland\"                \"Spain\"                 \n",
            "[157] \"Italy\"                  \"Greece\"                 \"France\"                \n",
            "[160] \"Italy\"                  \"Italy\"                  \"Belarus\"               \n",
            "[163] \"Bulgaria\"               \"Bulgaria\"               \"Montenegro\"            \n",
            "[166] \"Poland\"                 \"Czech Republic\"         \"France\"                \n",
            "[169] \"Latvia\"                 \"Croatia\"                \"Ukraine\"               \n",
            "[172] \"Italy\"                  \"Germany\"                \"Bulgaria\"              \n",
            "[175] \"Spain\"                  \"Austria\"                \"Turkey\"                \n",
            "[178] \"Spain\"                  \"Bosnia and Herzegovina\" \"Romania\"               \n",
            "[181] \"Turkey\"                 \"Turkey\"                 \"Macedonia\"             \n",
            "[184] \"Croatia\"                \"Bulgaria\"               \"Norway\"                \n",
            "[187] \"Sweden\"                 \"Ukraine\"                \"United Kingdom\"        \n",
            "[190] \"Hungary\"                \"Estonia\"                \"Finland\"               \n",
            "[193] \"Turkey\"                 \"Estonia\"                \"Turkey\"                \n",
            "[196] \"France\"                 \"Turkey\"                 \"Italy\"                 \n",
            "[199] \"Greece\"                 \"Norway\"                 \"Finland\"               \n",
            "[202] \"Sweden\"                 \"Spain\"                  \"Austria\"               \n",
            "[205] \"Spain\"                  \"Lithuania\"              \"Poland\"                \n",
            "[208] \"Poland\"                 \"Ukraine\"                \"Spain\"                 \n",
            "[211] \"Ukraine\"                \"Turkey\"                 \"Switzerland\"           \n"
          ]
        }
      ],
      "source": [
        "%%R\n",
        "cities[,2]\n",
        "# change to cities[,4]"
      ]
    },
    {
      "cell_type": "code",
      "execution_count": 13,
      "metadata": {
        "id": "jtoNvKeLchlu",
        "colab": {
          "base_uri": "https://localhost:8080/"
        },
        "outputId": "b8061c6a-d3ba-42f0-e2bf-4590124a5a32"
      },
      "outputs": [
        {
          "output_type": "stream",
          "name": "stdout",
          "text": [
            "[1] -1.87\n"
          ]
        }
      ],
      "source": [
        "%%R\n",
        "cities[5,4]\n",
        "# change to cities[5:10,2:4]"
      ]
    },
    {
      "cell_type": "code",
      "execution_count": 14,
      "metadata": {
        "id": "ujR3-PYochlv",
        "colab": {
          "base_uri": "https://localhost:8080/"
        },
        "outputId": "6669eba6-5b97-4f0d-a1c2-900771c1b25a"
      },
      "outputs": [
        {
          "output_type": "stream",
          "name": "stdout",
          "text": [
            "       city        country latitude longitude temperature\n",
            "1   Aalborg        Denmark    57.03      9.92        7.52\n",
            "2  Aberdeen United Kingdom    57.17     -2.08        8.10\n",
            "3    Abisko         Sweden    63.35     18.83        0.20\n",
            "4     Adana         Turkey    36.99     35.32       18.67\n",
            "5  Albacete          Spain    39.00     -1.87       12.62\n",
            "6 Algeciras          Spain    36.13     -5.47       17.38\n"
          ]
        }
      ],
      "source": [
        "%%R\n",
        "head(cities)\n",
        "# also show number of rows, tail()"
      ]
    },
    {
      "cell_type": "markdown",
      "metadata": {
        "collapsed": true,
        "id": "P419JBhichlv"
      },
      "source": [
        "#### Basic data operations"
      ]
    },
    {
      "cell_type": "markdown",
      "metadata": {
        "collapsed": true,
        "id": "x6FO8H2ochlw"
      },
      "source": [
        "*Select single column*"
      ]
    },
    {
      "cell_type": "code",
      "execution_count": 15,
      "metadata": {
        "id": "QOsPUX5Ochlw",
        "colab": {
          "base_uri": "https://localhost:8080/"
        },
        "outputId": "3eefc98b-903d-4375-9b0e-75f0d7ef600f"
      },
      "outputs": [
        {
          "output_type": "stream",
          "name": "stdout",
          "text": [
            "  [1] \"Aalborg\"      \"Aberdeen\"     \"Abisko\"       \"Adana\"        \"Albacete\"    \n",
            "  [6] \"Algeciras\"    \"Amiens\"       \"Amsterdam\"    \"Ancona\"       \"Andorra\"     \n",
            " [11] \"Angers\"       \"Ankara\"       \"Antalya\"      \"Arad\"         \"Athens\"      \n",
            " [16] \"Augsburg\"     \"Bacau\"        \"Badajoz\"      \"Baia Mare\"    \"Balti\"       \n",
            " [21] \"Barcelona\"    \"Bari\"         \"Basel\"        \"Batman\"       \"Belfast\"     \n",
            " [26] \"Belgrade\"     \"Bergamo\"      \"Bergen\"       \"Berlin\"       \"Bialystok\"   \n",
            " [31] \"Bielefeld\"    \"Bila Tserkva\" \"Bilbao\"       \"Birmingham\"   \"Blackpool\"   \n",
            " [36] \"Bodo\"         \"Bologna\"      \"Bonn\"         \"Bordeaux\"     \"Botosani\"    \n",
            " [41] \"Bournemouth\"  \"Bradford\"     \"Braga\"        \"Braila\"       \"Bratislava\"  \n",
            " [46] \"Bremen\"       \"Brest\"        \"Brest\"        \"Brno\"         \"Brugge\"      \n",
            " [51] \"Bucharest\"    \"Budapest\"     \"Burgas\"       \"Burgos\"       \"Bursa\"       \n",
            " [56] \"Bydgoszcz\"    \"Bytom\"        \"Caen\"         \"Cambridge\"    \"Cartagena\"   \n",
            " [61] \"Catania\"      \"Chemnitz\"     \"Cherkasy\"     \"Chernihiv\"    \"Chernivtsi\"  \n",
            " [66] \"Chisinau\"     \"Constanta\"    \"Cork\"         \"Cosenza\"      \"Craiova\"     \n",
            " [71] \"Daugavpils\"   \"Debrecen\"     \"Denizli\"      \"Dijon\"        \"Dublin\"      \n",
            " [76] \"Dundee\"       \"Edinburgh\"    \"Edirne\"       \"Elbasan\"      \"Elblag\"      \n",
            " [81] \"Erfurt\"       \"Erzincan\"     \"Erzurum\"      \"Eskisehir\"    \"Exeter\"      \n",
            " [86] \"Foggia\"       \"Frankfurt\"    \"Freiburg\"     \"Galway\"       \"Gaziantep\"   \n",
            " [91] \"Geneva\"       \"Genoa\"        \"Glasgow\"      \"Göteborg\"     \"Granada\"     \n",
            " [96] \"Graz\"         \"Grenoble\"     \"Groningen\"    \"Gyor\"         \"Heidelberg\"  \n",
            "[101] \"Helsinki\"     \"Horlivka\"     \"Hrodna\"       \"Huelva\"       \"Ingolstadt\"  \n",
            "[106] \"Innsbruck\"    \"Inverness\"    \"Istanbul\"     \"Kalamata\"     \"Karaman\"     \n",
            "[111] \"Karlsruhe\"    \"Kaunas\"       \"Kayseri\"      \"Kherson\"      \"Kielce\"      \n",
            "[116] \"Kiev\"         \"Kiruna\"       \"Klaipeda\"     \"Kosice\"       \"Koszalin\"    \n",
            "[121] \"Kremenchuk\"   \"Kryvyy Rih\"   \"Le Mans\"      \"Lille\"        \"Limoges\"     \n",
            "[126] \"Linz\"         \"Lisbon\"       \"Ljubljana\"    \"Lvov\"         \"Maastricht\"  \n",
            "[131] \"Madrid\"       \"Magdeburg\"    \"Makiyivka\"    \"Malatya\"      \"Malmö\"       \n",
            "[136] \"Manisa\"       \"Marbella\"     \"Marseille\"    \"Mazyr\"        \"Messina\"     \n",
            "[141] \"Metz\"         \"Milan\"        \"Minsk\"        \"Montpellier\"  \"Mulhouse\"    \n",
            "[146] \"Murcia\"       \"Nice\"         \"Nis\"          \"Novi Sad\"     \"Odense\"      \n",
            "[151] \"Ordu\"         \"Orsha\"        \"Oslo\"         \"Ostrava\"      \"Oulu\"        \n",
            "[156] \"Oviedo\"       \"Palermo\"      \"Patras\"       \"Perpignan\"    \"Perugia\"     \n",
            "[161] \"Pescara\"      \"Pinsk\"        \"Pleven\"       \"Plovdiv\"      \"Podgorica\"   \n",
            "[166] \"Poznan\"       \"Prague\"       \"Reims\"        \"Riga\"         \"Rijeka\"      \n",
            "[171] \"Rivne\"        \"Rome\"         \"Rostock\"      \"Ruse\"         \"Salamanca\"   \n",
            "[176] \"Salzburg\"     \"Samsun\"       \"Santander\"    \"Sarajevo\"     \"Sibiu\"       \n",
            "[181] \"Siirt\"        \"Sivas\"        \"Skopje\"       \"Split\"        \"Stara Zagora\"\n",
            "[186] \"Stavanger\"    \"Stockholm\"    \"Sumy\"         \"Swansea\"      \"Szeged\"      \n",
            "[191] \"Tallinn\"      \"Tampere\"      \"Tarsus\"       \"Tartu\"        \"Tekirdag\"    \n",
            "[196] \"Toulouse\"     \"Trabzon\"      \"Trieste\"      \"Trikala\"      \"Trondheim\"   \n",
            "[201] \"Turku\"        \"Uppsala\"      \"Valencia\"     \"Vienna\"       \"Vigo\"        \n",
            "[206] \"Vilnius\"      \"Warsaw\"       \"Wroclaw\"      \"Yevpatoriya\"  \"Zaragoza\"    \n",
            "[211] \"Zhytomyr\"     \"Zonguldak\"    \"Zurich\"      \n"
          ]
        }
      ],
      "source": [
        "%%R\n",
        "cities[,'city']"
      ]
    },
    {
      "cell_type": "markdown",
      "metadata": {
        "collapsed": true,
        "id": "2TivAEPdchlw"
      },
      "source": [
        "*Select multiple columns*"
      ]
    },
    {
      "cell_type": "code",
      "execution_count": 16,
      "metadata": {
        "id": "W2903iNfchlx",
        "colab": {
          "base_uri": "https://localhost:8080/"
        },
        "outputId": "03fe9e52-cdaf-4831-da7b-fb149b62b59c"
      },
      "outputs": [
        {
          "output_type": "stream",
          "name": "stdout",
          "text": [
            "            city temperature\n",
            "1        Aalborg        7.52\n",
            "2       Aberdeen        8.10\n",
            "3         Abisko        0.20\n",
            "4          Adana       18.67\n",
            "5       Albacete       12.62\n",
            "6      Algeciras       17.38\n",
            "7         Amiens       10.17\n",
            "8      Amsterdam        8.93\n",
            "9         Ancona       13.52\n",
            "10       Andorra        9.60\n",
            "11        Angers       10.98\n",
            "12        Ankara        9.86\n",
            "13       Antalya       11.88\n",
            "14          Arad        9.32\n",
            "15        Athens       17.41\n",
            "16      Augsburg        4.54\n",
            "17         Bacau        7.51\n",
            "18       Badajoz       15.61\n",
            "19     Baia Mare        8.87\n",
            "20         Balti        8.23\n",
            "21     Barcelona       15.78\n",
            "22          Bari       15.15\n",
            "23         Basel        6.68\n",
            "24        Batman       14.16\n",
            "25       Belfast        8.48\n",
            "26      Belgrade        9.85\n",
            "27       Bergamo        9.12\n",
            "28        Bergen        1.75\n",
            "29        Berlin        8.72\n",
            "30     Bialystok        6.07\n",
            "31     Bielefeld        8.78\n",
            "32  Bila Tserkva        6.98\n",
            "33        Bilbao       11.41\n",
            "34    Birmingham        8.81\n",
            "35     Blackpool        9.15\n",
            "36          Bodo        4.50\n",
            "37       Bologna       11.69\n",
            "38          Bonn        8.63\n",
            "39      Bordeaux       11.87\n",
            "40      Botosani        8.23\n",
            "41   Bournemouth        9.97\n",
            "42      Bradford        8.39\n",
            "43         Braga       13.42\n",
            "44        Braila        9.78\n",
            "45    Bratislava        9.65\n",
            "46        Bremen        8.14\n",
            "47         Brest       11.02\n",
            "48         Brest        6.73\n",
            "49          Brno        7.86\n",
            "50        Brugge        9.65\n",
            "51     Bucharest       10.59\n",
            "52      Budapest        9.55\n",
            "53        Burgas       11.93\n",
            "54        Burgos       10.45\n",
            "55         Bursa       11.16\n",
            "56     Bydgoszcz        7.14\n",
            "57         Bytom        7.66\n",
            "58          Caen        9.96\n",
            "59     Cambridge        9.25\n",
            "60     Cartagena       17.32\n",
            "61       Catania       15.04\n",
            "62      Chemnitz        8.05\n",
            "63      Cherkasy        7.19\n",
            "64     Chernihiv        5.92\n",
            "65    Chernivtsi        7.06\n",
            "66      Chisinau        8.60\n",
            "67     Constanta       11.24\n",
            "68          Cork        9.41\n",
            "69       Cosenza       16.60\n",
            "70       Craiova       10.51\n",
            "71    Daugavpils        5.38\n",
            "72      Debrecen        8.87\n",
            "73       Denizli       15.02\n",
            "74         Dijon        8.69\n",
            "75        Dublin        8.49\n",
            "76        Dundee        6.40\n",
            "77     Edinburgh        7.43\n",
            "78        Edirne       10.90\n",
            "79       Elbasan       15.18\n",
            "80        Elblag        6.68\n",
            "81        Erfurt        7.40\n",
            "82      Erzincan        8.67\n",
            "83       Erzurum        5.17\n",
            "84     Eskisehir       11.11\n",
            "85        Exeter       10.14\n",
            "86        Foggia       13.83\n",
            "87     Frankfurt        7.98\n",
            "88      Freiburg        6.68\n",
            "89        Galway       10.00\n",
            "90     Gaziantep       13.46\n",
            "91        Geneva        8.40\n",
            "92         Genoa       12.94\n",
            "93       Glasgow        8.60\n",
            "94      Göteborg        5.76\n",
            "95       Granada       16.33\n",
            "96          Graz        6.91\n",
            "97      Grenoble        8.40\n",
            "98     Groningen        8.71\n",
            "99          Gyor        9.65\n",
            "100   Heidelberg        8.47\n",
            "101     Helsinki        4.19\n",
            "102     Horlivka        7.12\n",
            "103       Hrodna        6.07\n",
            "104       Huelva       17.09\n",
            "105   Ingolstadt        7.57\n",
            "106    Innsbruck        4.54\n",
            "107    Inverness        8.00\n",
            "108     Istanbul       13.20\n",
            "109     Kalamata       17.30\n",
            "110      Karaman       10.41\n",
            "111    Karlsruhe        8.88\n",
            "112       Kaunas        6.05\n",
            "113      Kayseri        8.89\n",
            "114      Kherson        8.64\n",
            "115       Kielce        7.29\n",
            "116         Kiev        6.88\n",
            "117       Kiruna       -2.20\n",
            "118     Klaipeda        7.00\n",
            "119       Kosice        7.31\n",
            "120     Koszalin        7.73\n",
            "121   Kremenchuk        7.43\n",
            "122   Kryvyy Rih        8.61\n",
            "123      Le Mans       10.59\n",
            "124        Lille        9.65\n",
            "125      Limoges       10.32\n",
            "126         Linz        6.79\n",
            "127       Lisbon       15.52\n",
            "128    Ljubljana        9.27\n",
            "129         Lvov        7.04\n",
            "130   Maastricht        8.63\n",
            "131       Madrid       11.19\n",
            "132    Magdeburg        8.26\n",
            "133    Makiyivka        8.70\n",
            "134      Malatya       14.13\n",
            "135        Malmö        7.33\n",
            "136       Manisa       15.10\n",
            "137     Marbella       17.19\n",
            "138    Marseille       14.98\n",
            "139        Mazyr        6.25\n",
            "140      Messina       16.54\n",
            "141         Metz        8.88\n",
            "142        Milan        6.65\n",
            "143        Minsk        5.28\n",
            "144  Montpellier       11.11\n",
            "145     Mulhouse        6.68\n",
            "146       Murcia       15.00\n",
            "147         Nice        8.82\n",
            "148          Nis        9.36\n",
            "149     Novi Sad       10.34\n",
            "150       Odense        7.73\n",
            "151         Ordu       11.92\n",
            "152        Orsha        4.93\n",
            "153         Oslo        2.32\n",
            "154      Ostrava        7.66\n",
            "155         Oulu        1.45\n",
            "156       Oviedo       10.85\n",
            "157      Palermo       17.90\n",
            "158       Patras       16.90\n",
            "159    Perpignan       10.95\n",
            "160      Perugia       11.70\n",
            "161      Pescara       15.13\n",
            "162        Pinsk        6.42\n",
            "163       Pleven       10.51\n",
            "164      Plovdiv        8.27\n",
            "165    Podgorica        9.99\n",
            "166       Poznan        8.31\n",
            "167       Prague        8.05\n",
            "168        Reims        9.40\n",
            "169         Riga        5.16\n",
            "170       Rijeka        9.27\n",
            "171        Rivne        6.76\n",
            "172         Rome       15.10\n",
            "173      Rostock        8.07\n",
            "174         Ruse       10.59\n",
            "175    Salamanca       11.63\n",
            "176     Salzburg        4.62\n",
            "177       Samsun       12.05\n",
            "178    Santander       13.40\n",
            "179     Sarajevo        9.60\n",
            "180        Sibiu        6.97\n",
            "181        Siirt       12.48\n",
            "182        Sivas        8.05\n",
            "183       Skopje        9.36\n",
            "184        Split       12.46\n",
            "185 Stara Zagora       10.90\n",
            "186    Stavanger        5.53\n",
            "187    Stockholm        6.26\n",
            "188         Sumy        6.28\n",
            "189      Swansea        9.73\n",
            "190       Szeged       10.34\n",
            "191      Tallinn        4.82\n",
            "192      Tampere        3.59\n",
            "193       Tarsus       11.21\n",
            "194        Tartu        4.36\n",
            "195     Tekirdag       13.02\n",
            "196     Toulouse       10.25\n",
            "197      Trabzon       10.28\n",
            "198      Trieste       11.21\n",
            "199      Trikala       16.00\n",
            "200    Trondheim        4.53\n",
            "201        Turku        4.72\n",
            "202      Uppsala        4.17\n",
            "203     Valencia       16.02\n",
            "204       Vienna        7.86\n",
            "205         Vigo       12.85\n",
            "206      Vilnius        5.38\n",
            "207       Warsaw        7.20\n",
            "208      Wroclaw        7.17\n",
            "209  Yevpatoriya       10.02\n",
            "210     Zaragoza       14.17\n",
            "211     Zhytomyr        6.67\n",
            "212    Zonguldak       10.64\n",
            "213       Zurich        6.68\n"
          ]
        }
      ],
      "source": [
        "%%R\n",
        "cities[,c('city','temperature')]"
      ]
    },
    {
      "cell_type": "markdown",
      "metadata": {
        "collapsed": true,
        "id": "IzfxIadechlx"
      },
      "source": [
        "*Select rows*"
      ]
    },
    {
      "cell_type": "code",
      "execution_count": 17,
      "metadata": {
        "id": "JBpu16Nwchlx",
        "colab": {
          "base_uri": "https://localhost:8080/"
        },
        "outputId": "bcfab157-3303-4ca5-dd4e-50936c9e5a17"
      },
      "outputs": [
        {
          "output_type": "stream",
          "name": "stdout",
          "text": [
            "           city        country latitude longitude temperature\n",
            "2      Aberdeen United Kingdom    57.17     -2.08        8.10\n",
            "5      Albacete          Spain    39.00     -1.87       12.62\n",
            "6     Algeciras          Spain    36.13     -5.47       17.38\n",
            "11       Angers         France    47.48     -0.53       10.98\n",
            "18      Badajoz          Spain    38.88     -6.97       15.61\n",
            "25      Belfast United Kingdom    54.60     -5.96        8.48\n",
            "33       Bilbao          Spain    43.25     -2.93       11.41\n",
            "34   Birmingham United Kingdom    52.47     -1.92        8.81\n",
            "35    Blackpool United Kingdom    53.83     -3.05        9.15\n",
            "39     Bordeaux         France    44.85     -0.60       11.87\n",
            "41  Bournemouth United Kingdom    50.73     -1.90        9.97\n",
            "42     Bradford United Kingdom    53.80     -1.75        8.39\n",
            "43        Braga       Portugal    41.55     -8.42       13.42\n",
            "47        Brest         France    48.39     -4.50       11.02\n",
            "54       Burgos          Spain    42.35     -3.68       10.45\n",
            "58         Caen         France    49.18     -0.35        9.96\n",
            "60    Cartagena          Spain    37.60     -0.98       17.32\n",
            "68         Cork        Ireland    51.90     -8.50        9.41\n",
            "75       Dublin        Ireland    53.33     -6.25        8.49\n",
            "76       Dundee United Kingdom    56.47     -3.00        6.40\n",
            "77    Edinburgh United Kingdom    55.95     -3.22        7.43\n",
            "85       Exeter United Kingdom    50.70     -3.53       10.14\n",
            "89       Galway        Ireland    53.27     -9.05       10.00\n",
            "93      Glasgow United Kingdom    55.87     -4.25        8.60\n",
            "95      Granada          Spain    37.16     -3.59       16.33\n",
            "104      Huelva          Spain    37.25     -6.93       17.09\n",
            "107   Inverness United Kingdom    57.47     -4.23        8.00\n",
            "127      Lisbon       Portugal    38.72     -9.14       15.52\n",
            "131      Madrid          Spain    40.40     -3.68       11.19\n",
            "137    Marbella          Spain    36.52     -4.88       17.19\n",
            "146      Murcia          Spain    37.98     -1.13       15.00\n",
            "156      Oviedo          Spain    43.35     -5.83       10.85\n",
            "175   Salamanca          Spain    40.97     -5.67       11.63\n",
            "178   Santander          Spain    43.38     -3.80       13.40\n",
            "189     Swansea United Kingdom    51.63     -3.95        9.73\n",
            "203    Valencia          Spain    39.49     -0.40       16.02\n",
            "205        Vigo          Spain    42.22     -8.73       12.85\n",
            "210    Zaragoza          Spain    41.65     -0.89       14.17\n"
          ]
        }
      ],
      "source": [
        "%%R\n",
        "cities[cities$longitude < 0,]"
      ]
    },
    {
      "cell_type": "markdown",
      "metadata": {
        "collapsed": true,
        "id": "ql2ZLoZWchly"
      },
      "source": [
        "*Select rows and columns*"
      ]
    },
    {
      "cell_type": "code",
      "execution_count": 18,
      "metadata": {
        "id": "Li6DFOcschly",
        "colab": {
          "base_uri": "https://localhost:8080/"
        },
        "outputId": "c0dd3135-4ac3-4ef6-b035-6552aca84a09"
      },
      "outputs": [
        {
          "output_type": "stream",
          "name": "stdout",
          "text": [
            "           city latitude temperature\n",
            "35    Blackpool    53.83        9.15\n",
            "41  Bournemouth    50.73        9.97\n",
            "50       Brugge    51.22        9.65\n",
            "59    Cambridge    52.20        9.25\n",
            "68         Cork    51.90        9.41\n",
            "85       Exeter    50.70       10.14\n",
            "89       Galway    53.27       10.00\n",
            "124       Lille    50.65        9.65\n",
            "189     Swansea    51.63        9.73\n"
          ]
        }
      ],
      "source": [
        "%%R\n",
        "cities[cities$latitude > 50 & cities$temperature > 9,\n",
        "       c('city','latitude','temperature')]"
      ]
    },
    {
      "cell_type": "markdown",
      "metadata": {
        "collapsed": true,
        "id": "Po5-y_l9chly"
      },
      "source": [
        "*Sort by temperature*"
      ]
    },
    {
      "cell_type": "code",
      "execution_count": 19,
      "metadata": {
        "id": "gYvM7-iTchlz",
        "colab": {
          "base_uri": "https://localhost:8080/"
        },
        "outputId": "22c85736-df4c-4cba-8581-93bd9864e68f"
      },
      "outputs": [
        {
          "output_type": "stream",
          "name": "stdout",
          "text": [
            "            city                country latitude longitude temperature\n",
            "117       Kiruna                 Sweden    67.85     20.22       -2.20\n",
            "3         Abisko                 Sweden    63.35     18.83        0.20\n",
            "155         Oulu                Finland    65.00     25.47        1.45\n",
            "28        Bergen                 Norway    60.39      5.32        1.75\n",
            "153         Oslo                 Norway    59.92     10.75        2.32\n",
            "192      Tampere                Finland    61.50     23.75        3.59\n",
            "202      Uppsala                 Sweden    59.86     17.64        4.17\n",
            "101     Helsinki                Finland    60.18     24.93        4.19\n",
            "194        Tartu                Estonia    58.38     26.71        4.36\n",
            "36          Bodo                 Norway    67.25     14.40        4.50\n",
            "200    Trondheim                 Norway    63.42     10.42        4.53\n",
            "16      Augsburg                Germany    48.35     10.90        4.54\n",
            "106    Innsbruck                Austria    47.28     11.41        4.54\n",
            "176     Salzburg                Austria    47.81     13.04        4.62\n",
            "201        Turku                Finland    60.45     22.25        4.72\n",
            "191      Tallinn                Estonia    59.43     24.73        4.82\n",
            "152        Orsha                Belarus    54.52     30.42        4.93\n",
            "169         Riga                 Latvia    56.95     24.10        5.16\n",
            "83       Erzurum                 Turkey    39.92     41.29        5.17\n",
            "143        Minsk                Belarus    53.90     27.57        5.28\n",
            "71    Daugavpils                 Latvia    55.88     26.51        5.38\n",
            "206      Vilnius              Lithuania    54.68     25.32        5.38\n",
            "186    Stavanger                 Norway    58.97      5.68        5.53\n",
            "94      Göteborg                 Sweden    57.75     12.00        5.76\n",
            "64     Chernihiv                Ukraine    51.50     31.30        5.92\n",
            "112       Kaunas              Lithuania    54.95     23.88        6.05\n",
            "30     Bialystok                 Poland    53.15     23.17        6.07\n",
            "103       Hrodna                Belarus    53.68     23.83        6.07\n",
            "139        Mazyr                Belarus    52.05     29.27        6.25\n",
            "187    Stockholm                 Sweden    59.35     18.10        6.26\n",
            "188         Sumy                Ukraine    50.92     34.78        6.28\n",
            "76        Dundee         United Kingdom    56.47     -3.00        6.40\n",
            "162        Pinsk                Belarus    52.13     26.09        6.42\n",
            "142        Milan                  Italy    45.47      9.21        6.65\n",
            "211     Zhytomyr                Ukraine    50.25     28.66        6.67\n",
            "23         Basel            Switzerland    47.58      7.59        6.68\n",
            "80        Elblag                 Poland    54.19     19.40        6.68\n",
            "88      Freiburg                Germany    48.00      7.87        6.68\n",
            "145     Mulhouse                 France    47.75      7.35        6.68\n",
            "213       Zurich            Switzerland    47.38      8.56        6.68\n",
            "48         Brest                Belarus    52.10     23.70        6.73\n",
            "171        Rivne                Ukraine    50.62     26.25        6.76\n",
            "126         Linz                Austria    48.32     14.29        6.79\n",
            "116         Kiev                Ukraine    50.43     30.52        6.88\n",
            "96          Graz                Austria    47.08     15.41        6.91\n",
            "180        Sibiu                Romania    45.80     24.14        6.97\n",
            "32  Bila Tserkva                Ukraine    49.77     30.13        6.98\n",
            "118     Klaipeda              Lithuania    55.72     21.12        7.00\n",
            "129         Lvov                Ukraine    49.83     24.03        7.04\n",
            "65    Chernivtsi                Ukraine    48.31     25.92        7.06\n",
            "102     Horlivka                Ukraine    48.30     38.05        7.12\n",
            "56     Bydgoszcz                 Poland    53.12     18.01        7.14\n",
            "208      Wroclaw                 Poland    51.11     17.03        7.17\n",
            "63      Cherkasy                Ukraine    49.43     32.07        7.19\n",
            "207       Warsaw                 Poland    52.25     21.00        7.20\n",
            "115       Kielce                 Poland    50.89     20.66        7.29\n",
            "119       Kosice               Slovakia    48.73     21.25        7.31\n",
            "135        Malmö                 Sweden    55.58     13.03        7.33\n",
            "81        Erfurt                Germany    50.97     11.03        7.40\n",
            "77     Edinburgh         United Kingdom    55.95     -3.22        7.43\n",
            "121   Kremenchuk                Ukraine    49.08     33.43        7.43\n",
            "17         Bacau                Romania    46.58     26.92        7.51\n",
            "1        Aalborg                Denmark    57.03      9.92        7.52\n",
            "105   Ingolstadt                Germany    48.77     11.45        7.57\n",
            "57         Bytom                 Poland    50.35     18.91        7.66\n",
            "154      Ostrava         Czech Republic    49.83     18.25        7.66\n",
            "120     Koszalin                 Poland    54.20     16.18        7.73\n",
            "150       Odense                Denmark    55.40     10.38        7.73\n",
            "49          Brno         Czech Republic    49.20     16.61        7.86\n",
            "204       Vienna                Austria    48.20     16.37        7.86\n",
            "87     Frankfurt                Germany    50.10      8.68        7.98\n",
            "107    Inverness         United Kingdom    57.47     -4.23        8.00\n",
            "62      Chemnitz                Germany    50.83     12.92        8.05\n",
            "167       Prague         Czech Republic    50.08     14.47        8.05\n",
            "182        Sivas                 Turkey    39.75     37.03        8.05\n",
            "173      Rostock                Germany    54.07     12.15        8.07\n",
            "2       Aberdeen         United Kingdom    57.17     -2.08        8.10\n",
            "46        Bremen                Germany    53.08      8.80        8.14\n",
            "20         Balti                Moldova    47.76     27.91        8.23\n",
            "40      Botosani                Romania    47.75     26.66        8.23\n",
            "132    Magdeburg                Germany    52.13     11.62        8.26\n",
            "164      Plovdiv               Bulgaria    42.15     24.75        8.27\n",
            "166       Poznan                 Poland    52.41     16.90        8.31\n",
            "42      Bradford         United Kingdom    53.80     -1.75        8.39\n",
            "91        Geneva            Switzerland    46.21      6.14        8.40\n",
            "97      Grenoble                 France    45.18      5.72        8.40\n",
            "100   Heidelberg                Germany    49.42      8.70        8.47\n",
            "25       Belfast         United Kingdom    54.60     -5.96        8.48\n",
            "75        Dublin                Ireland    53.33     -6.25        8.49\n",
            "66      Chisinau                Moldova    47.01     28.86        8.60\n",
            "93       Glasgow         United Kingdom    55.87     -4.25        8.60\n",
            "122   Kryvyy Rih                Ukraine    47.93     33.34        8.61\n",
            "38          Bonn                Germany    50.72      7.08        8.63\n",
            "130   Maastricht            Netherlands    50.85      5.68        8.63\n",
            "114      Kherson                Ukraine    46.63     32.60        8.64\n",
            "82      Erzincan                 Turkey    39.75     39.49        8.67\n",
            "74         Dijon                 France    47.33      5.03        8.69\n",
            "133    Makiyivka                Ukraine    48.03     37.97        8.70\n",
            "98     Groningen            Netherlands    53.22      6.58        8.71\n",
            "29        Berlin                Germany    52.52     13.40        8.72\n",
            "31     Bielefeld                Germany    52.03      8.53        8.78\n",
            "34    Birmingham         United Kingdom    52.47     -1.92        8.81\n",
            "147         Nice                 France    43.72      7.27        8.82\n",
            "19     Baia Mare                Romania    47.66     23.58        8.87\n",
            "72      Debrecen                Hungary    47.53     21.63        8.87\n",
            "111    Karlsruhe                Germany    49.00      8.40        8.88\n",
            "141         Metz                 France    49.12      6.18        8.88\n",
            "113      Kayseri                 Turkey    38.73     35.49        8.89\n",
            "8      Amsterdam            Netherlands    52.35      4.92        8.93\n",
            "27       Bergamo                  Italy    45.70      9.67        9.12\n",
            "35     Blackpool         United Kingdom    53.83     -3.05        9.15\n",
            "59     Cambridge         United Kingdom    52.20      0.12        9.25\n",
            "128    Ljubljana               Slovenia    46.06     14.51        9.27\n",
            "170       Rijeka                Croatia    45.33     14.45        9.27\n",
            "14          Arad                Romania    46.17     21.32        9.32\n",
            "148          Nis                 Serbia    43.33     21.90        9.36\n",
            "183       Skopje              Macedonia    42.00     21.43        9.36\n",
            "168        Reims                 France    49.25      4.03        9.40\n",
            "68          Cork                Ireland    51.90     -8.50        9.41\n",
            "52      Budapest                Hungary    47.50     19.08        9.55\n",
            "10       Andorra                Andorra    42.50      1.52        9.60\n",
            "179     Sarajevo Bosnia and Herzegovina    43.85     13.38        9.60\n",
            "45    Bratislava               Slovakia    48.15     17.12        9.65\n",
            "50        Brugge                Belgium    51.22      3.23        9.65\n",
            "99          Gyor                Hungary    47.70     17.63        9.65\n",
            "124        Lille                 France    50.65      3.08        9.65\n",
            "189      Swansea         United Kingdom    51.63     -3.95        9.73\n",
            "44        Braila                Romania    45.29     27.97        9.78\n",
            "26      Belgrade                 Serbia    44.82     20.47        9.85\n",
            "12        Ankara                 Turkey    39.93     32.86        9.86\n",
            "58          Caen                 France    49.18     -0.35        9.96\n",
            "41   Bournemouth         United Kingdom    50.73     -1.90        9.97\n",
            "165    Podgorica             Montenegro    42.47     19.27        9.99\n",
            "89        Galway                Ireland    53.27     -9.05       10.00\n",
            "209  Yevpatoriya                Ukraine    45.20     33.36       10.02\n",
            "85        Exeter         United Kingdom    50.70     -3.53       10.14\n",
            "7         Amiens                 France    49.90      2.30       10.17\n",
            "196     Toulouse                 France    43.62      1.45       10.25\n",
            "197      Trabzon                 Turkey    40.98     39.72       10.28\n",
            "125      Limoges                 France    45.83      1.25       10.32\n",
            "149     Novi Sad                 Serbia    45.25     19.85       10.34\n",
            "190       Szeged                Hungary    46.25     20.15       10.34\n",
            "110      Karaman                 Turkey    37.18     33.22       10.41\n",
            "54        Burgos                  Spain    42.35     -3.68       10.45\n",
            "70       Craiova                Romania    44.33     23.83       10.51\n",
            "163       Pleven               Bulgaria    43.42     24.61       10.51\n",
            "51     Bucharest                Romania    44.43     26.10       10.59\n",
            "123      Le Mans                 France    48.00      0.10       10.59\n",
            "174         Ruse               Bulgaria    43.85     25.97       10.59\n",
            "212    Zonguldak                 Turkey    41.43     31.78       10.64\n",
            "156       Oviedo                  Spain    43.35     -5.83       10.85\n",
            "78        Edirne                 Turkey    41.67     26.57       10.90\n",
            "185 Stara Zagora               Bulgaria    42.42     25.62       10.90\n",
            "159    Perpignan                 France    42.70      2.90       10.95\n",
            "11        Angers                 France    47.48     -0.53       10.98\n",
            "47         Brest                 France    48.39     -4.50       11.02\n",
            "84     Eskisehir                 Turkey    39.79     30.53       11.11\n",
            "144  Montpellier                 France    43.61      3.87       11.11\n",
            "55         Bursa                 Turkey    40.20     29.07       11.16\n",
            "131       Madrid                  Spain    40.40     -3.68       11.19\n",
            "193       Tarsus                 Turkey    36.92     34.88       11.21\n",
            "198      Trieste                  Italy    45.65     13.80       11.21\n",
            "67     Constanta                Romania    44.20     28.61       11.24\n",
            "33        Bilbao                  Spain    43.25     -2.93       11.41\n",
            "175    Salamanca                  Spain    40.97     -5.67       11.63\n",
            "37       Bologna                  Italy    44.50     11.34       11.69\n",
            "160      Perugia                  Italy    43.11     12.39       11.70\n",
            "39      Bordeaux                 France    44.85     -0.60       11.87\n",
            "13       Antalya                 Turkey    36.89     30.70       11.88\n",
            "151         Ordu                 Turkey    41.00     37.87       11.92\n",
            "53        Burgas               Bulgaria    42.51     27.47       11.93\n",
            "177       Samsun                 Turkey    41.28     36.34       12.05\n",
            "184        Split                Croatia    43.52     16.47       12.46\n",
            "181        Siirt                 Turkey    37.94     41.93       12.48\n",
            "5       Albacete                  Spain    39.00     -1.87       12.62\n",
            "205         Vigo                  Spain    42.22     -8.73       12.85\n",
            "92         Genoa                  Italy    44.41      8.93       12.94\n",
            "195     Tekirdag                 Turkey    40.99     27.51       13.02\n",
            "108     Istanbul                 Turkey    41.10     29.01       13.20\n",
            "178    Santander                  Spain    43.38     -3.80       13.40\n",
            "43         Braga               Portugal    41.55     -8.42       13.42\n",
            "90     Gaziantep                 Turkey    37.07     37.38       13.46\n",
            "9         Ancona                  Italy    43.60     13.50       13.52\n",
            "86        Foggia                  Italy    41.46     15.56       13.83\n",
            "134      Malatya                 Turkey    38.37     38.30       14.13\n",
            "24        Batman                 Turkey    37.89     41.14       14.16\n",
            "210     Zaragoza                  Spain    41.65     -0.89       14.17\n",
            "138    Marseille                 France    43.29      5.38       14.98\n",
            "146       Murcia                  Spain    37.98     -1.13       15.00\n",
            "73       Denizli                 Turkey    37.77     29.08       15.02\n",
            "61       Catania                  Italy    37.50     15.08       15.04\n",
            "136       Manisa                 Turkey    38.63     27.44       15.10\n",
            "172         Rome                  Italy    41.90     12.48       15.10\n",
            "161      Pescara                  Italy    42.46     14.22       15.13\n",
            "22          Bari                  Italy    41.11     16.87       15.15\n",
            "79       Elbasan                Albania    41.12     20.08       15.18\n",
            "127       Lisbon               Portugal    38.72     -9.14       15.52\n",
            "18       Badajoz                  Spain    38.88     -6.97       15.61\n",
            "21     Barcelona                  Spain    41.38      2.18       15.78\n",
            "199      Trikala                 Greece    39.56     21.77       16.00\n",
            "203     Valencia                  Spain    39.49     -0.40       16.02\n",
            "95       Granada                  Spain    37.16     -3.59       16.33\n",
            "140      Messina                  Italy    38.20     15.55       16.54\n",
            "69       Cosenza                  Italy    39.27     16.29       16.60\n",
            "158       Patras                 Greece    38.23     21.73       16.90\n",
            "104       Huelva                  Spain    37.25     -6.93       17.09\n",
            "137     Marbella                  Spain    36.52     -4.88       17.19\n",
            "109     Kalamata                 Greece    37.04     22.11       17.30\n",
            "60     Cartagena                  Spain    37.60     -0.98       17.32\n",
            "6      Algeciras                  Spain    36.13     -5.47       17.38\n",
            "15        Athens                 Greece    37.98     23.73       17.41\n",
            "157      Palermo                  Italy    38.13     13.35       17.90\n",
            "4          Adana                 Turkey    36.99     35.32       18.67\n"
          ]
        }
      ],
      "source": [
        "%%R\n",
        "cities[order(cities$temperature),]\n",
        "# descending using decreasing=TRUE\n",
        "# add cities$country\n",
        "# ascending country with descending temperature\n",
        "# descending country with ascending temperature?"
      ]
    },
    {
      "cell_type": "markdown",
      "metadata": {
        "collapsed": true,
        "id": "jFjRMrK_chlz"
      },
      "source": [
        "*Selection plus sort*"
      ]
    },
    {
      "cell_type": "code",
      "execution_count": 20,
      "metadata": {
        "id": "GXx2y4fhchlz",
        "colab": {
          "base_uri": "https://localhost:8080/"
        },
        "outputId": "15f68ae0-faa2-4be9-f987-35f718cdb037"
      },
      "outputs": [
        {
          "output_type": "stream",
          "name": "stdout",
          "text": [
            "         city temperature\n",
            "5    Albacete       12.62\n",
            "205      Vigo       12.85\n",
            "178 Santander       13.40\n",
            "43      Braga       13.42\n",
            "210  Zaragoza       14.17\n",
            "146    Murcia       15.00\n",
            "127    Lisbon       15.52\n",
            "18    Badajoz       15.61\n",
            "203  Valencia       16.02\n",
            "95    Granada       16.33\n",
            "104    Huelva       17.09\n",
            "137  Marbella       17.19\n",
            "60  Cartagena       17.32\n",
            "6   Algeciras       17.38\n"
          ]
        }
      ],
      "source": [
        "%%R\n",
        "cities2 <- cities[cities$longitude < 0 & cities$temperature > 12,\n",
        "                  c('city','temperature')]\n",
        "cities2[order(cities2$temperature),]"
      ]
    },
    {
      "cell_type": "markdown",
      "metadata": {
        "id": "a8Y79mfcchlz"
      },
      "source": [
        "### <font color=\"green\">**Your Turn**</font>"
      ]
    },
    {
      "cell_type": "markdown",
      "metadata": {
        "collapsed": true,
        "id": "L-ZQ5-hWchl0"
      },
      "source": [
        "*Find all countries that are not in the EU and don't have coastline, together with their populations, sorted by country name in reverse alphabetical order. Note: equality uses '==' and strings can be single (') or double (\") quoted.*"
      ]
    },
    {
      "cell_type": "code",
      "execution_count": 21,
      "metadata": {
        "id": "wY7Us37xchl0",
        "colab": {
          "base_uri": "https://localhost:8080/"
        },
        "outputId": "0a7bb491-7c01-4c23-ea23-706eff5e5636"
      },
      "outputs": [
        {
          "output_type": "stream",
          "name": "stdout",
          "text": [
            "         country population\n",
            "39   Switzerland       8.38\n",
            "34        Serbia       8.81\n",
            "27       Moldova       4.06\n",
            "26     Macedonia       2.08\n",
            "23 Liechtenstein       0.04\n",
            "21        Kosovo       1.91\n",
            "4        Belarus       9.48\n",
            "2        Andorra       0.07\n"
          ]
        }
      ],
      "source": [
        "%%R\n",
        "countries2 <- countries[countries$EU == 'no' & countries$coastline == 'no',\n",
        "                        c('country','population')]\n",
        "countries2[order(countries2$country, decreasing=TRUE),]"
      ]
    },
    {
      "cell_type": "markdown",
      "metadata": {
        "collapsed": true,
        "id": "AMOw2kSxchl0"
      },
      "source": [
        "#### Aggregation"
      ]
    },
    {
      "cell_type": "markdown",
      "metadata": {
        "id": "mNCgA9D7chl0"
      },
      "source": [
        "*Overall average temperature*"
      ]
    },
    {
      "cell_type": "code",
      "execution_count": 22,
      "metadata": {
        "id": "ntJyN8jrchl1",
        "colab": {
          "base_uri": "https://localhost:8080/"
        },
        "outputId": "73b807c3-d21a-43c9-9358-0d3e401eab8b"
      },
      "outputs": [
        {
          "output_type": "stream",
          "name": "stdout",
          "text": [
            "[1] 9.49784\n"
          ]
        }
      ],
      "source": [
        "%%R\n",
        "mean(cities$temperature)"
      ]
    },
    {
      "cell_type": "markdown",
      "metadata": {
        "id": "jvIRwMlRchl1"
      },
      "source": [
        "*Average temperature of cities in each country*"
      ]
    },
    {
      "cell_type": "code",
      "execution_count": 23,
      "metadata": {
        "id": "xZHRdNiYchl1",
        "colab": {
          "base_uri": "https://localhost:8080/"
        },
        "outputId": "349f1103-a413-4529-89ff-35d0b63c4421"
      },
      "outputs": [
        {
          "output_type": "stream",
          "name": "stdout",
          "text": [
            "                  Group.1         x\n",
            "1                 Albania 15.180000\n",
            "2                 Andorra  9.600000\n",
            "3                 Austria  6.144000\n",
            "4                 Belarus  5.946667\n",
            "5                 Belgium  9.650000\n",
            "6  Bosnia and Herzegovina  9.600000\n",
            "7                Bulgaria 10.440000\n",
            "8                 Croatia 10.865000\n",
            "9          Czech Republic  7.856667\n",
            "10                Denmark  7.625000\n",
            "11                Estonia  4.590000\n",
            "12                Finland  3.487500\n",
            "13                 France 10.151111\n",
            "14                Germany  7.869286\n",
            "15                 Greece 16.902500\n",
            "16                Hungary  9.602500\n",
            "17                Ireland  9.300000\n",
            "18                  Italy 13.474667\n",
            "19                 Latvia  5.270000\n",
            "20              Lithuania  6.143333\n",
            "21              Macedonia  9.360000\n",
            "22                Moldova  8.415000\n",
            "23             Montenegro  9.990000\n",
            "24            Netherlands  8.756667\n",
            "25                 Norway  3.726000\n",
            "26                 Poland  7.250000\n",
            "27               Portugal 14.470000\n",
            "28                Romania  9.224444\n",
            "29                 Serbia  9.850000\n",
            "30               Slovakia  8.480000\n",
            "31               Slovenia  9.270000\n",
            "32                  Spain 14.238333\n",
            "33                 Sweden  3.586667\n",
            "34            Switzerland  7.253333\n",
            "35                 Turkey 11.726667\n",
            "36                Ukraine  7.420000\n",
            "37         United Kingdom  8.650000\n"
          ]
        }
      ],
      "source": [
        "%%R\n",
        "aggregate(cities$temperature, by=list(cities$country), FUN=mean)"
      ]
    },
    {
      "cell_type": "markdown",
      "metadata": {
        "id": "uCoSlPOfchl1"
      },
      "source": [
        "*More examples*"
      ]
    },
    {
      "cell_type": "code",
      "execution_count": 24,
      "metadata": {
        "id": "b8hhrmsgchl2",
        "colab": {
          "base_uri": "https://localhost:8080/"
        },
        "outputId": "e793f8ce-797a-4931-e35d-a8327adc8ada"
      },
      "outputs": [
        {
          "output_type": "stream",
          "name": "stdout",
          "text": [
            "[1] -2.2\n",
            "[1] 18.67\n"
          ]
        }
      ],
      "source": [
        "%%R\n",
        "print(min(cities$temperature))\n",
        "print(max(cities$temperature))"
      ]
    },
    {
      "cell_type": "code",
      "execution_count": 25,
      "metadata": {
        "id": "fgQcZWyVchl2",
        "colab": {
          "base_uri": "https://localhost:8080/"
        },
        "outputId": "270b4cd5-1474-4a8d-96d0-29e6905ef6af"
      },
      "outputs": [
        {
          "output_type": "stream",
          "name": "stdout",
          "text": [
            "  Group.1 Group.2        x\n",
            "1      no      no  4.35375\n",
            "2     yes      no  6.99000\n",
            "3      no     yes 19.59571\n",
            "4     yes     yes 21.37818\n"
          ]
        }
      ],
      "source": [
        "%%R\n",
        "aggregate(countries$population, by=list(countries$EU,countries$coastline), FUN=mean)"
      ]
    },
    {
      "cell_type": "markdown",
      "metadata": {
        "id": "GDfVXvfIchl2"
      },
      "source": [
        "*Number of cities west of the Prime Meridian (i.e., longitude < 0) - error then fix*"
      ]
    },
    {
      "cell_type": "code",
      "execution_count": 33,
      "metadata": {
        "id": "DGTZ8nqbchl2",
        "colab": {
          "base_uri": "https://localhost:8080/"
        },
        "outputId": "ee36892f-4a65-465f-d3ac-25a5752394a3"
      },
      "outputs": [
        {
          "output_type": "stream",
          "name": "stdout",
          "text": [
            "   n\n",
            "1 38\n"
          ]
        }
      ],
      "source": [
        "%%R\n",
        "count(cities[cities$longitude < 0,])"
      ]
    },
    {
      "cell_type": "markdown",
      "metadata": {
        "id": "k-sSlLY7chl3"
      },
      "source": [
        "### <font color=\"green\">**Your Turn**</font>"
      ]
    },
    {
      "cell_type": "markdown",
      "metadata": {
        "collapsed": true,
        "id": "Zw4gtY_1chl3"
      },
      "source": [
        "*Considering only cities with latitude < 40, find the average temperature for each country. Then considering only cities with latitude > 60, find the average temperature for each country. Hint: Create temporary dataframes for cities with latitude < 40 and cities with latitude > 60, then use aggregate() on these dataframes. Remember print() is needed to see a result unless it's the last line.*"
      ]
    },
    {
      "cell_type": "code",
      "execution_count": 28,
      "metadata": {
        "id": "UKhtTQWCchl3",
        "colab": {
          "base_uri": "https://localhost:8080/"
        },
        "outputId": "b5082e4e-c821-4f57-facb-5869fdfdd55f"
      },
      "outputs": [
        {
          "output_type": "stream",
          "name": "stdout",
          "text": [
            "   Group.1        x\n",
            "1   Greece 16.90250\n",
            "2    Italy 16.52000\n",
            "3 Portugal 15.52000\n",
            "4    Spain 16.06222\n",
            "5   Turkey 11.76688\n",
            "  Group.1         x\n",
            "1 Finland  3.487500\n",
            "2  Norway  3.593333\n",
            "3  Sweden -1.000000\n"
          ]
        }
      ],
      "source": [
        "%%R\n",
        "south <- cities[cities$latitude < 40,]\n",
        "north <- cities[cities$latitude > 60,]\n",
        "print(aggregate(south$temperature, by=list(south$country), FUN=mean))\n",
        "print(aggregate(north$temperature, by=list(north$country), FUN=mean))"
      ]
    },
    {
      "cell_type": "markdown",
      "metadata": {
        "collapsed": true,
        "id": "VEXDmSo9chl3"
      },
      "source": [
        "#### Joining"
      ]
    },
    {
      "cell_type": "code",
      "source": [
        "%%R\n",
        "merge(cities,countries)"
      ],
      "metadata": {
        "id": "HqHTcEfNJWDo",
        "colab": {
          "base_uri": "https://localhost:8080/"
        },
        "outputId": "34ba19b0-1de8-4271-a757-6f54686fea61"
      },
      "execution_count": 29,
      "outputs": [
        {
          "output_type": "stream",
          "name": "stdout",
          "text": [
            "                   country         city latitude longitude temperature\n",
            "1                  Albania      Elbasan    41.12     20.08       15.18\n",
            "2                  Andorra      Andorra    42.50      1.52        9.60\n",
            "3                  Austria         Linz    48.32     14.29        6.79\n",
            "4                  Austria       Vienna    48.20     16.37        7.86\n",
            "5                  Austria         Graz    47.08     15.41        6.91\n",
            "6                  Austria     Salzburg    47.81     13.04        4.62\n",
            "7                  Austria    Innsbruck    47.28     11.41        4.54\n",
            "8                  Belarus        Mazyr    52.05     29.27        6.25\n",
            "9                  Belarus       Hrodna    53.68     23.83        6.07\n",
            "10                 Belarus        Brest    52.10     23.70        6.73\n",
            "11                 Belarus        Minsk    53.90     27.57        5.28\n",
            "12                 Belarus        Orsha    54.52     30.42        4.93\n",
            "13                 Belarus        Pinsk    52.13     26.09        6.42\n",
            "14                 Belgium       Brugge    51.22      3.23        9.65\n",
            "15  Bosnia and Herzegovina     Sarajevo    43.85     13.38        9.60\n",
            "16                Bulgaria       Pleven    43.42     24.61       10.51\n",
            "17                Bulgaria Stara Zagora    42.42     25.62       10.90\n",
            "18                Bulgaria         Ruse    43.85     25.97       10.59\n",
            "19                Bulgaria      Plovdiv    42.15     24.75        8.27\n",
            "20                Bulgaria       Burgas    42.51     27.47       11.93\n",
            "21                 Croatia        Split    43.52     16.47       12.46\n",
            "22                 Croatia       Rijeka    45.33     14.45        9.27\n",
            "23          Czech Republic         Brno    49.20     16.61        7.86\n",
            "24          Czech Republic       Prague    50.08     14.47        8.05\n",
            "25          Czech Republic      Ostrava    49.83     18.25        7.66\n",
            "26                 Denmark      Aalborg    57.03      9.92        7.52\n",
            "27                 Denmark       Odense    55.40     10.38        7.73\n",
            "28                 Estonia        Tartu    58.38     26.71        4.36\n",
            "29                 Estonia      Tallinn    59.43     24.73        4.82\n",
            "30                 Finland      Tampere    61.50     23.75        3.59\n",
            "31                 Finland         Oulu    65.00     25.47        1.45\n",
            "32                 Finland        Turku    60.45     22.25        4.72\n",
            "33                 Finland     Helsinki    60.18     24.93        4.19\n",
            "34                  France       Amiens    49.90      2.30       10.17\n",
            "35                  France        Lille    50.65      3.08        9.65\n",
            "36                  France    Perpignan    42.70      2.90       10.95\n",
            "37                  France         Metz    49.12      6.18        8.88\n",
            "38                  France        Reims    49.25      4.03        9.40\n",
            "39                  France        Dijon    47.33      5.03        8.69\n",
            "40                  France     Mulhouse    47.75      7.35        6.68\n",
            "41                  France         Caen    49.18     -0.35        9.96\n",
            "42                  France        Brest    48.39     -4.50       11.02\n",
            "43                  France     Bordeaux    44.85     -0.60       11.87\n",
            "44                  France    Marseille    43.29      5.38       14.98\n",
            "45                  France     Grenoble    45.18      5.72        8.40\n",
            "46                  France      Le Mans    48.00      0.10       10.59\n",
            "47                  France      Limoges    45.83      1.25       10.32\n",
            "48                  France     Toulouse    43.62      1.45       10.25\n",
            "49                  France  Montpellier    43.61      3.87       11.11\n",
            "50                  France       Angers    47.48     -0.53       10.98\n",
            "51                  France         Nice    43.72      7.27        8.82\n",
            "52                 Germany     Freiburg    48.00      7.87        6.68\n",
            "53                 Germany       Bremen    53.08      8.80        8.14\n",
            "54                 Germany     Chemnitz    50.83     12.92        8.05\n",
            "55                 Germany   Heidelberg    49.42      8.70        8.47\n",
            "56                 Germany   Ingolstadt    48.77     11.45        7.57\n",
            "57                 Germany    Magdeburg    52.13     11.62        8.26\n",
            "58                 Germany    Karlsruhe    49.00      8.40        8.88\n",
            "59                 Germany     Augsburg    48.35     10.90        4.54\n",
            "60                 Germany    Frankfurt    50.10      8.68        7.98\n",
            "61                 Germany    Bielefeld    52.03      8.53        8.78\n",
            "62                 Germany      Rostock    54.07     12.15        8.07\n",
            "63                 Germany         Bonn    50.72      7.08        8.63\n",
            "64                 Germany       Erfurt    50.97     11.03        7.40\n",
            "65                 Germany       Berlin    52.52     13.40        8.72\n",
            "66                  Greece      Trikala    39.56     21.77       16.00\n",
            "67                  Greece       Patras    38.23     21.73       16.90\n",
            "68                  Greece       Athens    37.98     23.73       17.41\n",
            "69                  Greece     Kalamata    37.04     22.11       17.30\n",
            "70                 Hungary     Budapest    47.50     19.08        9.55\n",
            "71                 Hungary     Debrecen    47.53     21.63        8.87\n",
            "72                 Hungary       Szeged    46.25     20.15       10.34\n",
            "73                 Hungary         Gyor    47.70     17.63        9.65\n",
            "74                 Ireland         Cork    51.90     -8.50        9.41\n",
            "75                 Ireland       Galway    53.27     -9.05       10.00\n",
            "76                 Ireland       Dublin    53.33     -6.25        8.49\n",
            "77                   Italy       Foggia    41.46     15.56       13.83\n",
            "78                   Italy        Milan    45.47      9.21        6.65\n",
            "79                   Italy      Perugia    43.11     12.39       11.70\n",
            "80                   Italy         Rome    41.90     12.48       15.10\n",
            "81                   Italy      Catania    37.50     15.08       15.04\n",
            "82                   Italy      Cosenza    39.27     16.29       16.60\n",
            "83                   Italy         Bari    41.11     16.87       15.15\n",
            "84                   Italy      Bologna    44.50     11.34       11.69\n",
            "85                   Italy      Palermo    38.13     13.35       17.90\n",
            "86                   Italy      Pescara    42.46     14.22       15.13\n",
            "87                   Italy        Genoa    44.41      8.93       12.94\n",
            "88                   Italy       Ancona    43.60     13.50       13.52\n",
            "89                   Italy      Bergamo    45.70      9.67        9.12\n",
            "90                   Italy      Trieste    45.65     13.80       11.21\n",
            "91                   Italy      Messina    38.20     15.55       16.54\n",
            "92                  Latvia   Daugavpils    55.88     26.51        5.38\n",
            "93                  Latvia         Riga    56.95     24.10        5.16\n",
            "94               Lithuania       Kaunas    54.95     23.88        6.05\n",
            "95               Lithuania      Vilnius    54.68     25.32        5.38\n",
            "96               Lithuania     Klaipeda    55.72     21.12        7.00\n",
            "97               Macedonia       Skopje    42.00     21.43        9.36\n",
            "98                 Moldova     Chisinau    47.01     28.86        8.60\n",
            "99                 Moldova        Balti    47.76     27.91        8.23\n",
            "100             Montenegro    Podgorica    42.47     19.27        9.99\n",
            "101            Netherlands    Amsterdam    52.35      4.92        8.93\n",
            "102            Netherlands    Groningen    53.22      6.58        8.71\n",
            "103            Netherlands   Maastricht    50.85      5.68        8.63\n",
            "104                 Norway         Oslo    59.92     10.75        2.32\n",
            "105                 Norway         Bodo    67.25     14.40        4.50\n",
            "106                 Norway       Bergen    60.39      5.32        1.75\n",
            "107                 Norway    Trondheim    63.42     10.42        4.53\n",
            "108                 Norway    Stavanger    58.97      5.68        5.53\n",
            "109                 Poland        Bytom    50.35     18.91        7.66\n",
            "110                 Poland       Kielce    50.89     20.66        7.29\n",
            "111                 Poland      Wroclaw    51.11     17.03        7.17\n",
            "112                 Poland    Bydgoszcz    53.12     18.01        7.14\n",
            "113                 Poland     Koszalin    54.20     16.18        7.73\n",
            "114                 Poland    Bialystok    53.15     23.17        6.07\n",
            "115                 Poland       Warsaw    52.25     21.00        7.20\n",
            "116                 Poland       Elblag    54.19     19.40        6.68\n",
            "117                 Poland       Poznan    52.41     16.90        8.31\n",
            "118               Portugal        Braga    41.55     -8.42       13.42\n",
            "119               Portugal       Lisbon    38.72     -9.14       15.52\n",
            "120                Romania       Braila    45.29     27.97        9.78\n",
            "121                Romania    Baia Mare    47.66     23.58        8.87\n",
            "122                Romania     Botosani    47.75     26.66        8.23\n",
            "123                Romania         Arad    46.17     21.32        9.32\n",
            "124                Romania      Craiova    44.33     23.83       10.51\n",
            "125                Romania    Constanta    44.20     28.61       11.24\n",
            "126                Romania        Bacau    46.58     26.92        7.51\n",
            "127                Romania        Sibiu    45.80     24.14        6.97\n",
            "128                Romania    Bucharest    44.43     26.10       10.59\n",
            "129                 Serbia          Nis    43.33     21.90        9.36\n",
            "130                 Serbia     Novi Sad    45.25     19.85       10.34\n",
            "131                 Serbia     Belgrade    44.82     20.47        9.85\n",
            "132               Slovakia       Kosice    48.73     21.25        7.31\n",
            "133               Slovakia   Bratislava    48.15     17.12        9.65\n",
            "134               Slovenia    Ljubljana    46.06     14.51        9.27\n",
            "135                  Spain         Vigo    42.22     -8.73       12.85\n",
            "136                  Spain    Cartagena    37.60     -0.98       17.32\n",
            "137                  Spain       Madrid    40.40     -3.68       11.19\n",
            "138                  Spain     Albacete    39.00     -1.87       12.62\n",
            "139                  Spain    Santander    43.38     -3.80       13.40\n",
            "140                  Spain     Zaragoza    41.65     -0.89       14.17\n",
            "141                  Spain    Barcelona    41.38      2.18       15.78\n",
            "142                  Spain       Bilbao    43.25     -2.93       11.41\n",
            "143                  Spain      Badajoz    38.88     -6.97       15.61\n",
            "144                  Spain    Algeciras    36.13     -5.47       17.38\n",
            "145                  Spain       Murcia    37.98     -1.13       15.00\n",
            "146                  Spain      Granada    37.16     -3.59       16.33\n",
            "147                  Spain       Oviedo    43.35     -5.83       10.85\n",
            "148                  Spain       Huelva    37.25     -6.93       17.09\n",
            "149                  Spain    Salamanca    40.97     -5.67       11.63\n",
            "150                  Spain     Marbella    36.52     -4.88       17.19\n",
            "151                  Spain       Burgos    42.35     -3.68       10.45\n",
            "152                  Spain     Valencia    39.49     -0.40       16.02\n",
            "153                 Sweden     Göteborg    57.75     12.00        5.76\n",
            "154                 Sweden      Uppsala    59.86     17.64        4.17\n",
            "155                 Sweden        Malmö    55.58     13.03        7.33\n",
            "156                 Sweden       Kiruna    67.85     20.22       -2.20\n",
            "157                 Sweden       Abisko    63.35     18.83        0.20\n",
            "158                 Sweden    Stockholm    59.35     18.10        6.26\n",
            "159            Switzerland       Zurich    47.38      8.56        6.68\n",
            "160            Switzerland        Basel    47.58      7.59        6.68\n",
            "161            Switzerland       Geneva    46.21      6.14        8.40\n",
            "162                 Turkey         Ordu    41.00     37.87       11.92\n",
            "163                 Turkey      Denizli    37.77     29.08       15.02\n",
            "164                 Turkey        Sivas    39.75     37.03        8.05\n",
            "165                 Turkey    Gaziantep    37.07     37.38       13.46\n",
            "166                 Turkey       Batman    37.89     41.14       14.16\n",
            "167                 Turkey    Zonguldak    41.43     31.78       10.64\n",
            "168                 Turkey    Eskisehir    39.79     30.53       11.11\n",
            "169                 Turkey     Tekirdag    40.99     27.51       13.02\n",
            "170                 Turkey        Adana    36.99     35.32       18.67\n",
            "171                 Turkey       Tarsus    36.92     34.88       11.21\n",
            "172                 Turkey      Antalya    36.89     30.70       11.88\n",
            "173                 Turkey        Siirt    37.94     41.93       12.48\n",
            "174                 Turkey      Kayseri    38.73     35.49        8.89\n",
            "175                 Turkey      Trabzon    40.98     39.72       10.28\n",
            "176                 Turkey      Karaman    37.18     33.22       10.41\n",
            "177                 Turkey     Erzincan    39.75     39.49        8.67\n",
            "178                 Turkey       Ankara    39.93     32.86        9.86\n",
            "179                 Turkey       Samsun    41.28     36.34       12.05\n",
            "180                 Turkey      Erzurum    39.92     41.29        5.17\n",
            "181                 Turkey       Manisa    38.63     27.44       15.10\n",
            "182                 Turkey       Edirne    41.67     26.57       10.90\n",
            "183                 Turkey     Istanbul    41.10     29.01       13.20\n",
            "184                 Turkey        Bursa    40.20     29.07       11.16\n",
            "185                 Turkey      Malatya    38.37     38.30       14.13\n",
            "186                Ukraine Bila Tserkva    49.77     30.13        6.98\n",
            "187                Ukraine     Cherkasy    49.43     32.07        7.19\n",
            "188                Ukraine         Lvov    49.83     24.03        7.04\n",
            "189                Ukraine      Kherson    46.63     32.60        8.64\n",
            "190                Ukraine   Kryvyy Rih    47.93     33.34        8.61\n",
            "191                Ukraine  Yevpatoriya    45.20     33.36       10.02\n",
            "192                Ukraine     Horlivka    48.30     38.05        7.12\n",
            "193                Ukraine    Chernihiv    51.50     31.30        5.92\n",
            "194                Ukraine         Kiev    50.43     30.52        6.88\n",
            "195                Ukraine   Chernivtsi    48.31     25.92        7.06\n",
            "196                Ukraine     Zhytomyr    50.25     28.66        6.67\n",
            "197                Ukraine    Makiyivka    48.03     37.97        8.70\n",
            "198                Ukraine         Sumy    50.92     34.78        6.28\n",
            "199                Ukraine   Kremenchuk    49.08     33.43        7.43\n",
            "200                Ukraine        Rivne    50.62     26.25        6.76\n",
            "201         United Kingdom     Aberdeen    57.17     -2.08        8.10\n",
            "202         United Kingdom      Swansea    51.63     -3.95        9.73\n",
            "203         United Kingdom       Exeter    50.70     -3.53       10.14\n",
            "204         United Kingdom    Cambridge    52.20      0.12        9.25\n",
            "205         United Kingdom    Edinburgh    55.95     -3.22        7.43\n",
            "206         United Kingdom   Birmingham    52.47     -1.92        8.81\n",
            "207         United Kingdom    Blackpool    53.83     -3.05        9.15\n",
            "208         United Kingdom       Dundee    56.47     -3.00        6.40\n",
            "209         United Kingdom  Bournemouth    50.73     -1.90        9.97\n",
            "210         United Kingdom      Belfast    54.60     -5.96        8.48\n",
            "211         United Kingdom      Glasgow    55.87     -4.25        8.60\n",
            "212         United Kingdom    Inverness    57.47     -4.23        8.00\n",
            "213         United Kingdom     Bradford    53.80     -1.75        8.39\n",
            "    population  EU coastline\n",
            "1         2.90  no       yes\n",
            "2         0.07  no        no\n",
            "3         8.57 yes        no\n",
            "4         8.57 yes        no\n",
            "5         8.57 yes        no\n",
            "6         8.57 yes        no\n",
            "7         8.57 yes        no\n",
            "8         9.48  no        no\n",
            "9         9.48  no        no\n",
            "10        9.48  no        no\n",
            "11        9.48  no        no\n",
            "12        9.48  no        no\n",
            "13        9.48  no        no\n",
            "14       11.37 yes       yes\n",
            "15        3.80  no       yes\n",
            "16        7.10 yes       yes\n",
            "17        7.10 yes       yes\n",
            "18        7.10 yes       yes\n",
            "19        7.10 yes       yes\n",
            "20        7.10 yes       yes\n",
            "21        4.23 yes       yes\n",
            "22        4.23 yes       yes\n",
            "23       10.55 yes        no\n",
            "24       10.55 yes        no\n",
            "25       10.55 yes        no\n",
            "26        5.69 yes       yes\n",
            "27        5.69 yes       yes\n",
            "28        1.31 yes       yes\n",
            "29        1.31 yes       yes\n",
            "30        5.52 yes       yes\n",
            "31        5.52 yes       yes\n",
            "32        5.52 yes       yes\n",
            "33        5.52 yes       yes\n",
            "34       64.67 yes       yes\n",
            "35       64.67 yes       yes\n",
            "36       64.67 yes       yes\n",
            "37       64.67 yes       yes\n",
            "38       64.67 yes       yes\n",
            "39       64.67 yes       yes\n",
            "40       64.67 yes       yes\n",
            "41       64.67 yes       yes\n",
            "42       64.67 yes       yes\n",
            "43       64.67 yes       yes\n",
            "44       64.67 yes       yes\n",
            "45       64.67 yes       yes\n",
            "46       64.67 yes       yes\n",
            "47       64.67 yes       yes\n",
            "48       64.67 yes       yes\n",
            "49       64.67 yes       yes\n",
            "50       64.67 yes       yes\n",
            "51       64.67 yes       yes\n",
            "52       80.68 yes       yes\n",
            "53       80.68 yes       yes\n",
            "54       80.68 yes       yes\n",
            "55       80.68 yes       yes\n",
            "56       80.68 yes       yes\n",
            "57       80.68 yes       yes\n",
            "58       80.68 yes       yes\n",
            "59       80.68 yes       yes\n",
            "60       80.68 yes       yes\n",
            "61       80.68 yes       yes\n",
            "62       80.68 yes       yes\n",
            "63       80.68 yes       yes\n",
            "64       80.68 yes       yes\n",
            "65       80.68 yes       yes\n",
            "66       10.92 yes       yes\n",
            "67       10.92 yes       yes\n",
            "68       10.92 yes       yes\n",
            "69       10.92 yes       yes\n",
            "70        9.82 yes        no\n",
            "71        9.82 yes        no\n",
            "72        9.82 yes        no\n",
            "73        9.82 yes        no\n",
            "74        4.71 yes       yes\n",
            "75        4.71 yes       yes\n",
            "76        4.71 yes       yes\n",
            "77       59.80 yes       yes\n",
            "78       59.80 yes       yes\n",
            "79       59.80 yes       yes\n",
            "80       59.80 yes       yes\n",
            "81       59.80 yes       yes\n",
            "82       59.80 yes       yes\n",
            "83       59.80 yes       yes\n",
            "84       59.80 yes       yes\n",
            "85       59.80 yes       yes\n",
            "86       59.80 yes       yes\n",
            "87       59.80 yes       yes\n",
            "88       59.80 yes       yes\n",
            "89       59.80 yes       yes\n",
            "90       59.80 yes       yes\n",
            "91       59.80 yes       yes\n",
            "92        1.96 yes       yes\n",
            "93        1.96 yes       yes\n",
            "94        2.85 yes       yes\n",
            "95        2.85 yes       yes\n",
            "96        2.85 yes       yes\n",
            "97        2.08  no        no\n",
            "98        4.06  no        no\n",
            "99        4.06  no        no\n",
            "100       0.63  no       yes\n",
            "101      16.98 yes       yes\n",
            "102      16.98 yes       yes\n",
            "103      16.98 yes       yes\n",
            "104       5.27  no       yes\n",
            "105       5.27  no       yes\n",
            "106       5.27  no       yes\n",
            "107       5.27  no       yes\n",
            "108       5.27  no       yes\n",
            "109      38.59 yes       yes\n",
            "110      38.59 yes       yes\n",
            "111      38.59 yes       yes\n",
            "112      38.59 yes       yes\n",
            "113      38.59 yes       yes\n",
            "114      38.59 yes       yes\n",
            "115      38.59 yes       yes\n",
            "116      38.59 yes       yes\n",
            "117      38.59 yes       yes\n",
            "118      10.30 yes       yes\n",
            "119      10.30 yes       yes\n",
            "120      19.37 yes       yes\n",
            "121      19.37 yes       yes\n",
            "122      19.37 yes       yes\n",
            "123      19.37 yes       yes\n",
            "124      19.37 yes       yes\n",
            "125      19.37 yes       yes\n",
            "126      19.37 yes       yes\n",
            "127      19.37 yes       yes\n",
            "128      19.37 yes       yes\n",
            "129       8.81  no        no\n",
            "130       8.81  no        no\n",
            "131       8.81  no        no\n",
            "132       5.43 yes        no\n",
            "133       5.43 yes        no\n",
            "134       2.07 yes       yes\n",
            "135      46.06 yes       yes\n",
            "136      46.06 yes       yes\n",
            "137      46.06 yes       yes\n",
            "138      46.06 yes       yes\n",
            "139      46.06 yes       yes\n",
            "140      46.06 yes       yes\n",
            "141      46.06 yes       yes\n",
            "142      46.06 yes       yes\n",
            "143      46.06 yes       yes\n",
            "144      46.06 yes       yes\n",
            "145      46.06 yes       yes\n",
            "146      46.06 yes       yes\n",
            "147      46.06 yes       yes\n",
            "148      46.06 yes       yes\n",
            "149      46.06 yes       yes\n",
            "150      46.06 yes       yes\n",
            "151      46.06 yes       yes\n",
            "152      46.06 yes       yes\n",
            "153       9.85 yes       yes\n",
            "154       9.85 yes       yes\n",
            "155       9.85 yes       yes\n",
            "156       9.85 yes       yes\n",
            "157       9.85 yes       yes\n",
            "158       9.85 yes       yes\n",
            "159       8.38  no        no\n",
            "160       8.38  no        no\n",
            "161       8.38  no        no\n",
            "162      79.62  no       yes\n",
            "163      79.62  no       yes\n",
            "164      79.62  no       yes\n",
            "165      79.62  no       yes\n",
            "166      79.62  no       yes\n",
            "167      79.62  no       yes\n",
            "168      79.62  no       yes\n",
            "169      79.62  no       yes\n",
            "170      79.62  no       yes\n",
            "171      79.62  no       yes\n",
            "172      79.62  no       yes\n",
            "173      79.62  no       yes\n",
            "174      79.62  no       yes\n",
            "175      79.62  no       yes\n",
            "176      79.62  no       yes\n",
            "177      79.62  no       yes\n",
            "178      79.62  no       yes\n",
            "179      79.62  no       yes\n",
            "180      79.62  no       yes\n",
            "181      79.62  no       yes\n",
            "182      79.62  no       yes\n",
            "183      79.62  no       yes\n",
            "184      79.62  no       yes\n",
            "185      79.62  no       yes\n",
            "186      44.62  no       yes\n",
            "187      44.62  no       yes\n",
            "188      44.62  no       yes\n",
            "189      44.62  no       yes\n",
            "190      44.62  no       yes\n",
            "191      44.62  no       yes\n",
            "192      44.62  no       yes\n",
            "193      44.62  no       yes\n",
            "194      44.62  no       yes\n",
            "195      44.62  no       yes\n",
            "196      44.62  no       yes\n",
            "197      44.62  no       yes\n",
            "198      44.62  no       yes\n",
            "199      44.62  no       yes\n",
            "200      44.62  no       yes\n",
            "201      65.11 yes       yes\n",
            "202      65.11 yes       yes\n",
            "203      65.11 yes       yes\n",
            "204      65.11 yes       yes\n",
            "205      65.11 yes       yes\n",
            "206      65.11 yes       yes\n",
            "207      65.11 yes       yes\n",
            "208      65.11 yes       yes\n",
            "209      65.11 yes       yes\n",
            "210      65.11 yes       yes\n",
            "211      65.11 yes       yes\n",
            "212      65.11 yes       yes\n",
            "213      65.11 yes       yes\n"
          ]
        }
      ]
    },
    {
      "cell_type": "markdown",
      "metadata": {
        "id": "nNmZP-OKchl3"
      },
      "source": [
        "*Cities not in the EU with latitude > 50; return city, country, latitude, and whether country has coastline*"
      ]
    },
    {
      "cell_type": "code",
      "execution_count": 34,
      "metadata": {
        "id": "MEs9wnC0chl4",
        "colab": {
          "base_uri": "https://localhost:8080/"
        },
        "outputId": "d7ee0138-f7c2-4cc6-dae2-74c70e726d5b"
      },
      "outputs": [
        {
          "output_type": "stream",
          "name": "stdout",
          "text": [
            "         city country latitude coastline\n",
            "8       Mazyr Belarus    52.05        no\n",
            "9      Hrodna Belarus    53.68        no\n",
            "10      Brest Belarus    52.10        no\n",
            "11      Minsk Belarus    53.90        no\n",
            "12      Orsha Belarus    54.52        no\n",
            "13      Pinsk Belarus    52.13        no\n",
            "104      Oslo  Norway    59.92       yes\n",
            "105      Bodo  Norway    67.25       yes\n",
            "106    Bergen  Norway    60.39       yes\n",
            "107 Trondheim  Norway    63.42       yes\n",
            "108 Stavanger  Norway    58.97       yes\n",
            "193 Chernihiv Ukraine    51.50       yes\n",
            "194      Kiev Ukraine    50.43       yes\n",
            "196  Zhytomyr Ukraine    50.25       yes\n",
            "198      Sumy Ukraine    50.92       yes\n",
            "200     Rivne Ukraine    50.62       yes\n"
          ]
        }
      ],
      "source": [
        "%%R\n",
        "citiesext <- merge(cities,countries)\n",
        "citiesext[citiesext$EU == 'no' & citiesext$latitude > 50,\n",
        "          c('city','country','latitude','coastline')]"
      ]
    },
    {
      "cell_type": "markdown",
      "metadata": {
        "collapsed": true,
        "id": "0dHIrET2chl4"
      },
      "source": [
        "#### Miscellaneous features"
      ]
    },
    {
      "cell_type": "markdown",
      "metadata": {
        "collapsed": true,
        "id": "rYMha4Hfchl4"
      },
      "source": [
        "*String operations - countries with 'ia' in their name*"
      ]
    },
    {
      "cell_type": "code",
      "execution_count": 35,
      "metadata": {
        "id": "QPaCI5xKchl4",
        "colab": {
          "base_uri": "https://localhost:8080/"
        },
        "outputId": "7aa263c6-0887-405c-8414-62ad455efda3"
      },
      "outputs": [
        {
          "output_type": "stream",
          "name": "stdout",
          "text": [
            "                  country population  EU coastline\n",
            "1                 Albania       2.90  no       yes\n",
            "3                 Austria       8.57 yes        no\n",
            "6  Bosnia and Herzegovina       3.80  no       yes\n",
            "7                Bulgaria       7.10 yes       yes\n",
            "8                 Croatia       4.23 yes       yes\n",
            "12                Estonia       1.31 yes       yes\n",
            "22                 Latvia       1.96 yes       yes\n",
            "24              Lithuania       2.85 yes       yes\n",
            "26              Macedonia       2.08  no        no\n",
            "33                Romania      19.37 yes       yes\n",
            "34                 Serbia       8.81  no        no\n",
            "35               Slovakia       5.43 yes        no\n",
            "36               Slovenia       2.07 yes       yes\n"
          ]
        }
      ],
      "source": [
        "%%R\n",
        "countries[grepl('ia',countries$country),]"
      ]
    },
    {
      "cell_type": "markdown",
      "metadata": {
        "id": "2h4t8EAPchl5"
      },
      "source": [
        "*Add fahrenheit column*"
      ]
    },
    {
      "cell_type": "code",
      "execution_count": 36,
      "metadata": {
        "id": "OXVu61Umchl5",
        "colab": {
          "base_uri": "https://localhost:8080/"
        },
        "outputId": "afbde2ae-1f3c-49ea-be74-435cc50041bd"
      },
      "outputs": [
        {
          "output_type": "stream",
          "name": "stdout",
          "text": [
            "        city        country latitude longitude temperature fahrenheit\n",
            "1    Aalborg        Denmark    57.03      9.92        7.52     45.536\n",
            "2   Aberdeen United Kingdom    57.17     -2.08        8.10     46.580\n",
            "3     Abisko         Sweden    63.35     18.83        0.20     32.360\n",
            "4      Adana         Turkey    36.99     35.32       18.67     65.606\n",
            "5   Albacete          Spain    39.00     -1.87       12.62     54.716\n",
            "6  Algeciras          Spain    36.13     -5.47       17.38     63.284\n",
            "7     Amiens         France    49.90      2.30       10.17     50.306\n",
            "8  Amsterdam    Netherlands    52.35      4.92        8.93     48.074\n",
            "9     Ancona          Italy    43.60     13.50       13.52     56.336\n",
            "10   Andorra        Andorra    42.50      1.52        9.60     49.280\n"
          ]
        }
      ],
      "source": [
        "%%R\n",
        "cities['fahrenheit'] <- (cities$temperature * 9/5) + 32\n",
        "head(cities, 10)"
      ]
    },
    {
      "cell_type": "markdown",
      "metadata": {
        "id": "sIHfc3Kjchl5"
      },
      "source": [
        "*Print using cat( )*"
      ]
    },
    {
      "cell_type": "code",
      "execution_count": 37,
      "metadata": {
        "id": "9V8X_cUachl5",
        "colab": {
          "base_uri": "https://localhost:8080/"
        },
        "outputId": "d085cc02-47fc-4f55-a0a1-d963e3623dfc"
      },
      "outputs": [
        {
          "output_type": "stream",
          "name": "stdout",
          "text": [
            "Miniumum temperature: -2.2 \n",
            "Maxiumum temperature: 18.67 \n"
          ]
        }
      ],
      "source": [
        "%%R\n",
        "cat('Miniumum temperature:', min(cities$temperature), '\\n')\n",
        "cat('Maxiumum temperature:', max(cities$temperature), '\\n')"
      ]
    },
    {
      "cell_type": "markdown",
      "metadata": {
        "id": "KU4WJARQchl5"
      },
      "source": [
        "### <font color=\"green\">**Your Turn: World Cup Data**</font>"
      ]
    },
    {
      "cell_type": "markdown",
      "metadata": {
        "id": "uJVE55Ygchl6"
      },
      "source": [
        "#### Open CSV files and load data into data frames"
      ]
    },
    {
      "cell_type": "code",
      "execution_count": 38,
      "metadata": {
        "id": "T3nQeYmLchl6"
      },
      "outputs": [],
      "source": [
        "P = open('/content/drive/MyDrive/Google Colab/The R Language/Copy of Players.csv').read()\n",
        "T = open('/content/drive/MyDrive/Google Colab/The R Language/Copy of Teams.csv').read()"
      ]
    },
    {
      "cell_type": "code",
      "execution_count": 39,
      "metadata": {
        "id": "ZYpFQTR-chl6"
      },
      "outputs": [],
      "source": [
        "%%R -i P -i T\n",
        "players <- read.csv(text=P)\n",
        "teams <- read.csv(text=T)"
      ]
    },
    {
      "cell_type": "markdown",
      "metadata": {
        "id": "bkTO-L2qchl6"
      },
      "source": [
        "*1) What player on a team with “ia” in the team name played less than 200 minutes and made more than 100 passes? Print the player surname.*"
      ]
    },
    {
      "cell_type": "code",
      "execution_count": 40,
      "metadata": {
        "id": "O7b3oVk9chl7",
        "colab": {
          "base_uri": "https://localhost:8080/"
        },
        "outputId": "62325b8d-fb28-452c-f7ee-b6cdff30570f"
      },
      "outputs": [
        {
          "output_type": "stream",
          "name": "stdout",
          "text": [
            "[1] \"Kuzmanovic\"\n"
          ]
        }
      ],
      "source": [
        "%%R\n",
        "players[grepl('ia',players$team) & players$minutes < 200 & players$passes > 100,\n",
        "              'surname']"
      ]
    },
    {
      "cell_type": "markdown",
      "metadata": {
        "id": "0plueP-uchl7"
      },
      "source": [
        "*2) What is the average number of passes made by forwards? By midfielders? Make sure the answer specifies which is which, and don't include other positions in your result.*"
      ]
    },
    {
      "cell_type": "code",
      "execution_count": 41,
      "metadata": {
        "id": "twSC4i7jchl8",
        "colab": {
          "base_uri": "https://localhost:8080/"
        },
        "outputId": "6257eb3f-31b2-4c61-f035-784f67d63e6f"
      },
      "outputs": [
        {
          "output_type": "stream",
          "name": "stdout",
          "text": [
            "Forwards: 50.82517 \n",
            "Midfielders: 95.27193 \n"
          ]
        }
      ],
      "source": [
        "%%R\n",
        "f <- players[players$position == 'forward',]\n",
        "m <- players[players$position == 'midfielder',]\n",
        "cat('Forwards:', mean(f$passes), '\\n')\n",
        "cat('Midfielders:', mean(m$passes), '\\n')"
      ]
    },
    {
      "cell_type": "markdown",
      "metadata": {
        "id": "WG8NXjvgchl8"
      },
      "source": [
        "*3) Which team has the highest ratio of goalsFor to goalsAgainst? Print the team name only. Hint: Add a \"ratio\" column to the teams dataframe, then sort and pick the first or last row depending how you sorted.*"
      ]
    },
    {
      "cell_type": "code",
      "execution_count": 43,
      "metadata": {
        "id": "xSi5MBLychl8",
        "colab": {
          "base_uri": "https://localhost:8080/"
        },
        "outputId": "6d9b56f3-db99-4b84-d5d5-b72c68340b51"
      },
      "outputs": [
        {
          "output_type": "stream",
          "name": "stdout",
          "text": [
            "[1] \"Portugal\"\n"
          ]
        }
      ],
      "source": [
        "%%R\n",
        "teams['ratio'] <- teams$goalsFor/teams$goalsAgainst\n",
        "teams2 <- teams[order(-teams$ratio),]\n",
        "teams2[1, 'team']"
      ]
    },
    {
      "cell_type": "markdown",
      "metadata": {
        "id": "99Vjsdcvchl8"
      },
      "source": [
        "*4) How many players who play on a team with ranking <10 played more than 350 minutes?*"
      ]
    },
    {
      "cell_type": "code",
      "execution_count": 42,
      "metadata": {
        "id": "jJTJ0mpuchl8",
        "colab": {
          "base_uri": "https://localhost:8080/"
        },
        "outputId": "c448a85b-985b-4586-a43f-129cca92b3f7"
      },
      "outputs": [
        {
          "output_type": "stream",
          "name": "stdout",
          "text": [
            "[1] 54\n"
          ]
        }
      ],
      "source": [
        "%%R\n",
        "playersext <- merge(players,teams)\n",
        "nrow(playersext[playersext$ranking < 10 & playersext$minutes > 350,])"
      ]
    },
    {
      "cell_type": "markdown",
      "metadata": {
        "id": "EVJrHhPschl8"
      },
      "source": [
        "### <font color=\"green\">**Your Turn Extra: Titanic Data**</font>"
      ]
    },
    {
      "cell_type": "markdown",
      "source": [
        "<font color=\"red\">File access required:</font> In Colab these extra problems require first uploading **Titanic.csv** using the *Files* feature in the left toolbar. If running the notebook on a local computer, simply ensure this file is in the same workspace as the notebook."
      ],
      "metadata": {
        "id": "MOYZr-kNWLi3"
      }
    },
    {
      "cell_type": "markdown",
      "metadata": {
        "id": "ISgnQ-T0chl9"
      },
      "source": [
        "#### Open CSV file and load data into data frame"
      ]
    },
    {
      "cell_type": "code",
      "execution_count": 44,
      "metadata": {
        "id": "jNAZDP4cchl9"
      },
      "outputs": [],
      "source": [
        "T = open('/content/drive/MyDrive/Google Colab/The R Language/Copy of Titanic.csv').read()"
      ]
    },
    {
      "cell_type": "code",
      "execution_count": 45,
      "metadata": {
        "id": "s43rkiEFchl9"
      },
      "outputs": [],
      "source": [
        "%%R -i T\n",
        "titanic <- read.csv(text=T)"
      ]
    },
    {
      "cell_type": "markdown",
      "metadata": {
        "id": "l51MNZmAchl9"
      },
      "source": [
        "*1) How many passengers sailed for free (i.e., fare is zero)?*"
      ]
    },
    {
      "cell_type": "code",
      "execution_count": 46,
      "metadata": {
        "scrolled": true,
        "id": "D8A4G1gKchl9",
        "colab": {
          "base_uri": "https://localhost:8080/"
        },
        "outputId": "9b6857d2-d65b-4f43-fed4-f34affd2acbd"
      },
      "outputs": [
        {
          "output_type": "stream",
          "name": "stdout",
          "text": [
            "[1] 15\n"
          ]
        }
      ],
      "source": [
        "%%R\n",
        "nrow(titanic[titanic$fare == 0, ])"
      ]
    },
    {
      "cell_type": "markdown",
      "metadata": {
        "id": "jJwpBut4chl-"
      },
      "source": [
        "*2) How many passengers are missing their age, and what is the average fare paid by these passengers? Note: In R, function is.na() checks whether a value is null*"
      ]
    },
    {
      "cell_type": "code",
      "execution_count": 47,
      "metadata": {
        "id": "dKJd2-58chl-",
        "colab": {
          "base_uri": "https://localhost:8080/"
        },
        "outputId": "3c6c464d-971f-4224-b956-f8984d971e5c"
      },
      "outputs": [
        {
          "output_type": "stream",
          "name": "stdout",
          "text": [
            "177 passengers are missing their age and their average fare is 22.15949"
          ]
        }
      ],
      "source": [
        "%%R\n",
        "noage <- titanic[is.na(titanic$age), ]\n",
        "cat(nrow(noage), 'passengers are missing their age and their average fare is', mean(noage$fare))"
      ]
    },
    {
      "cell_type": "markdown",
      "metadata": {
        "id": "7kjKOOvvchl-"
      },
      "source": [
        "*3) For male survivors, female survivors, male non-survivors, and female non-survivors, how many passengers were in each of those four categories and what was their average fare?*"
      ]
    },
    {
      "cell_type": "code",
      "execution_count": 48,
      "metadata": {
        "scrolled": true,
        "id": "YtmQ1JZZchl-",
        "colab": {
          "base_uri": "https://localhost:8080/"
        },
        "outputId": "33e151d2-0291-431b-9793-e3e052ecff43"
      },
      "outputs": [
        {
          "output_type": "stream",
          "name": "stdout",
          "text": [
            "  Group.1 Group.2        x\n",
            "1       F      no 23.02556\n",
            "2       M      no 21.96192\n",
            "3       F     yes 51.93901\n",
            "4       M     yes 40.82229\n"
          ]
        }
      ],
      "source": [
        "%%R\n",
        "aggregate(titanic$fare, by=list(titanic$gender,titanic$survived), FUN=mean)"
      ]
    },
    {
      "cell_type": "markdown",
      "metadata": {
        "id": "c1pfaMS1chl-"
      },
      "source": [
        "*4) What is the survival rate of passengers in the three classes, i.e., what fraction of passengers in each class survived? What is the survival rate of females versus males? Of children (under 18) versus adults (age 18 or over)?*"
      ]
    },
    {
      "cell_type": "code",
      "execution_count": 49,
      "metadata": {
        "scrolled": true,
        "id": "tgCpgIYachl_",
        "colab": {
          "base_uri": "https://localhost:8080/"
        },
        "outputId": "ee0a33d2-b4d5-40cf-88d6-7e0715bf93e4"
      },
      "outputs": [
        {
          "output_type": "stream",
          "name": "stdout",
          "text": [
            "First class: 0.6296296 \n",
            "Second class: 0.4728261 \n",
            "Third class: 0.2423625 \n",
            "Females: 0.7420382 \n",
            "Males: 0.1889081 \n",
            "Children: 0.3896552 \n",
            "Adults: 0.3611825 \n"
          ]
        }
      ],
      "source": [
        "%%R\n",
        "cat('First class:', nrow(titanic[titanic$class == 1 & titanic$survived == 'yes',])/nrow(titanic[titanic$class == 1,]),'\\n')\n",
        "cat('Second class:', nrow(titanic[titanic$class == 2 & titanic$survived == 'yes',])/nrow(titanic[titanic$class == 2,]),'\\n')\n",
        "cat('Third class:', nrow(titanic[titanic$class == 3 & titanic$survived == 'yes',])/nrow(titanic[titanic$class == 3,]),'\\n')\n",
        "cat('Females:', nrow(titanic[titanic$gender == 'F' & titanic$survived == 'yes',])/nrow(titanic[titanic$gender == 'F',]),'\\n')\n",
        "cat('Males:', nrow(titanic[titanic$gender == 'M' & titanic$survived == 'yes',])/nrow(titanic[titanic$gender == 'M',]),'\\n')\n",
        "cat('Children:', nrow(titanic[titanic$age < 18 & titanic$survived == 'yes',])/nrow(titanic[titanic$age < 18,]),'\\n')\n",
        "cat('Adults:', nrow(titanic[titanic$age >= 18 & titanic$survived == 'yes',])/nrow(titanic[titanic$age >= 18,]),'\\n')"
      ]
    }
  ],
  "metadata": {
    "kernelspec": {
      "display_name": "Python 3",
      "language": "python",
      "name": "python3"
    },
    "language_info": {
      "codemirror_mode": {
        "name": "ipython",
        "version": 3
      },
      "file_extension": ".py",
      "mimetype": "text/x-python",
      "name": "python",
      "nbconvert_exporter": "python",
      "pygments_lexer": "ipython3",
      "version": "3.7.6"
    },
    "colab": {
      "provenance": []
    }
  },
  "nbformat": 4,
  "nbformat_minor": 0
}