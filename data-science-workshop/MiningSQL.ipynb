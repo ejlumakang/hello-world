{
  "cells": [
    {
      "cell_type": "markdown",
      "metadata": {
        "id": "EpPcJ-xl5hc9"
      },
      "source": [
        "### **Data Mining Using SQL**"
      ]
    },
    {
      "cell_type": "markdown",
      "source": [
        "<font color=\"red\">File access required:</font> In Colab this notebook requires first uploading files **Shop.csv** and **Movies.csv** using the *Files* feature in the left toolbar. If running the notebook on a local computer, simply ensure these files are in the same workspace as the notebook."
      ],
      "metadata": {
        "id": "lzFcrE1dawwS"
      }
    },
    {
      "cell_type": "code",
      "execution_count": null,
      "metadata": {
        "id": "l3JT1orL5hdD"
      },
      "outputs": [],
      "source": [
        "# Set-up\n",
        "%load_ext sql\n",
        "%sql sqlite://\n",
        "import pandas as pd"
      ]
    },
    {
      "cell_type": "code",
      "source": [
        "from google.colab import drive\n",
        "drive.mount('/content/drive')"
      ],
      "metadata": {
        "colab": {
          "base_uri": "https://localhost:8080/"
        },
        "id": "43_z887sByR5",
        "outputId": "b9aeb0a9-55ca-43f5-d247-ea8154b7bb70"
      },
      "execution_count": null,
      "outputs": [
        {
          "output_type": "stream",
          "name": "stdout",
          "text": [
            "Mounted at /content/drive\n"
          ]
        }
      ]
    },
    {
      "cell_type": "code",
      "execution_count": null,
      "metadata": {
        "id": "ufm8OqvQ5hdG",
        "colab": {
          "base_uri": "https://localhost:8080/",
          "height": 140
        },
        "outputId": "2558b07d-16c3-427d-f19c-da06e7062930"
      },
      "outputs": [
        {
          "output_type": "stream",
          "name": "stdout",
          "text": [
            " * sqlite://\n",
            "Done.\n",
            " * sqlite://\n",
            " * sqlite://\n",
            "Done.\n",
            " * sqlite://\n"
          ]
        },
        {
          "output_type": "execute_result",
          "data": {
            "text/plain": [
              "'Persisted movies'"
            ],
            "application/vnd.google.colaboratory.intrinsic+json": {
              "type": "string"
            }
          },
          "metadata": {},
          "execution_count": 51
        }
      ],
      "source": [
        "# Load tables from CSV files\n",
        "# Shop\n",
        "with open('/content/drive/MyDrive/Google Colab/Data Mining Using Python and SQL/Copy of Shop.csv') as f: Shop = pd.read_csv(f, index_col=0)\n",
        "%sql drop table if exists Shop;\n",
        "%sql --persist Shop\n",
        "# Movies\n",
        "with open('/content/drive/MyDrive/Google Colab/Data Mining Using Python and SQL/Copy of Movies.csv') as f: Movies = pd.read_csv(f, index_col=0)\n",
        "%sql drop table if exists Movies;\n",
        "%sql --persist Movies"
      ]
    },
    {
      "cell_type": "markdown",
      "metadata": {
        "id": "N3XTfNJC5hdH"
      },
      "source": [
        "## Shopping dataset - frequent item-sets"
      ]
    },
    {
      "cell_type": "code",
      "execution_count": null,
      "metadata": {
        "scrolled": true,
        "id": "Z7aPAOV85hdI",
        "colab": {
          "base_uri": "https://localhost:8080/",
          "height": 368
        },
        "outputId": "39095b9e-8f3e-42f2-9191-19df9ecfbfc0"
      },
      "outputs": [
        {
          "output_type": "stream",
          "name": "stdout",
          "text": [
            " * sqlite://\n",
            "Done.\n"
          ]
        },
        {
          "output_type": "execute_result",
          "data": {
            "text/plain": [
              "[(1, 'milk'),\n",
              " (1, 'eggs'),\n",
              " (1, 'juice'),\n",
              " (2, 'milk'),\n",
              " (2, 'juice'),\n",
              " (2, 'cookies'),\n",
              " (3, 'eggs'),\n",
              " (3, 'chips'),\n",
              " (4, 'milk'),\n",
              " (4, 'eggs'),\n",
              " (5, 'milk'),\n",
              " (5, 'juice'),\n",
              " (5, 'cookies'),\n",
              " (5, 'chips')]"
            ],
            "text/html": [
              "<table>\n",
              "    <thead>\n",
              "        <tr>\n",
              "            <th>TID</th>\n",
              "            <th>item</th>\n",
              "        </tr>\n",
              "    </thead>\n",
              "    <tbody>\n",
              "        <tr>\n",
              "            <td>1</td>\n",
              "            <td>milk</td>\n",
              "        </tr>\n",
              "        <tr>\n",
              "            <td>1</td>\n",
              "            <td>eggs</td>\n",
              "        </tr>\n",
              "        <tr>\n",
              "            <td>1</td>\n",
              "            <td>juice</td>\n",
              "        </tr>\n",
              "        <tr>\n",
              "            <td>2</td>\n",
              "            <td>milk</td>\n",
              "        </tr>\n",
              "        <tr>\n",
              "            <td>2</td>\n",
              "            <td>juice</td>\n",
              "        </tr>\n",
              "        <tr>\n",
              "            <td>2</td>\n",
              "            <td>cookies</td>\n",
              "        </tr>\n",
              "        <tr>\n",
              "            <td>3</td>\n",
              "            <td>eggs</td>\n",
              "        </tr>\n",
              "        <tr>\n",
              "            <td>3</td>\n",
              "            <td>chips</td>\n",
              "        </tr>\n",
              "        <tr>\n",
              "            <td>4</td>\n",
              "            <td>milk</td>\n",
              "        </tr>\n",
              "        <tr>\n",
              "            <td>4</td>\n",
              "            <td>eggs</td>\n",
              "        </tr>\n",
              "        <tr>\n",
              "            <td>5</td>\n",
              "            <td>milk</td>\n",
              "        </tr>\n",
              "        <tr>\n",
              "            <td>5</td>\n",
              "            <td>juice</td>\n",
              "        </tr>\n",
              "        <tr>\n",
              "            <td>5</td>\n",
              "            <td>cookies</td>\n",
              "        </tr>\n",
              "        <tr>\n",
              "            <td>5</td>\n",
              "            <td>chips</td>\n",
              "        </tr>\n",
              "    </tbody>\n",
              "</table>"
            ]
          },
          "metadata": {},
          "execution_count": 52
        }
      ],
      "source": [
        "%%sql\n",
        "select * from Shop"
      ]
    },
    {
      "cell_type": "markdown",
      "metadata": {
        "id": "V4NraeBW5hdI"
      },
      "source": [
        "### Frequent item-sets of two"
      ]
    },
    {
      "cell_type": "markdown",
      "metadata": {
        "id": "2rEaUB685hdJ"
      },
      "source": [
        "#### All pairs of items occurring together"
      ]
    },
    {
      "cell_type": "code",
      "execution_count": null,
      "metadata": {
        "id": "w5CSXEqi5hdK",
        "colab": {
          "base_uri": "https://localhost:8080/",
          "height": 368
        },
        "outputId": "b8506d72-5f86-43ec-ef26-2b83e20c9082"
      },
      "outputs": [
        {
          "output_type": "stream",
          "name": "stdout",
          "text": [
            " * sqlite://\n",
            "Done.\n"
          ]
        },
        {
          "output_type": "execute_result",
          "data": {
            "text/plain": [
              "[('eggs', 'milk'),\n",
              " ('eggs', 'juice'),\n",
              " ('juice', 'milk'),\n",
              " ('juice', 'milk'),\n",
              " ('cookies', 'milk'),\n",
              " ('cookies', 'juice'),\n",
              " ('chips', 'eggs'),\n",
              " ('eggs', 'milk'),\n",
              " ('juice', 'milk'),\n",
              " ('cookies', 'milk'),\n",
              " ('cookies', 'juice'),\n",
              " ('chips', 'milk'),\n",
              " ('chips', 'juice'),\n",
              " ('chips', 'cookies')]"
            ],
            "text/html": [
              "<table>\n",
              "    <thead>\n",
              "        <tr>\n",
              "            <th>item1</th>\n",
              "            <th>item2</th>\n",
              "        </tr>\n",
              "    </thead>\n",
              "    <tbody>\n",
              "        <tr>\n",
              "            <td>eggs</td>\n",
              "            <td>milk</td>\n",
              "        </tr>\n",
              "        <tr>\n",
              "            <td>eggs</td>\n",
              "            <td>juice</td>\n",
              "        </tr>\n",
              "        <tr>\n",
              "            <td>juice</td>\n",
              "            <td>milk</td>\n",
              "        </tr>\n",
              "        <tr>\n",
              "            <td>juice</td>\n",
              "            <td>milk</td>\n",
              "        </tr>\n",
              "        <tr>\n",
              "            <td>cookies</td>\n",
              "            <td>milk</td>\n",
              "        </tr>\n",
              "        <tr>\n",
              "            <td>cookies</td>\n",
              "            <td>juice</td>\n",
              "        </tr>\n",
              "        <tr>\n",
              "            <td>chips</td>\n",
              "            <td>eggs</td>\n",
              "        </tr>\n",
              "        <tr>\n",
              "            <td>eggs</td>\n",
              "            <td>milk</td>\n",
              "        </tr>\n",
              "        <tr>\n",
              "            <td>juice</td>\n",
              "            <td>milk</td>\n",
              "        </tr>\n",
              "        <tr>\n",
              "            <td>cookies</td>\n",
              "            <td>milk</td>\n",
              "        </tr>\n",
              "        <tr>\n",
              "            <td>cookies</td>\n",
              "            <td>juice</td>\n",
              "        </tr>\n",
              "        <tr>\n",
              "            <td>chips</td>\n",
              "            <td>milk</td>\n",
              "        </tr>\n",
              "        <tr>\n",
              "            <td>chips</td>\n",
              "            <td>juice</td>\n",
              "        </tr>\n",
              "        <tr>\n",
              "            <td>chips</td>\n",
              "            <td>cookies</td>\n",
              "        </tr>\n",
              "    </tbody>\n",
              "</table>"
            ]
          },
          "metadata": {},
          "execution_count": 53
        }
      ],
      "source": [
        "%%sql\n",
        "select T1.item as item1, T2.item as item2\n",
        "from Shop T1, Shop T2\n",
        "where T1.TID = T2.TID\n",
        "and T1.item < T2.item"
      ]
    },
    {
      "cell_type": "markdown",
      "metadata": {
        "id": "fpK4GpEe5hdM"
      },
      "source": [
        "#### Now with number of transactions they occur together in"
      ]
    },
    {
      "cell_type": "code",
      "execution_count": null,
      "metadata": {
        "id": "ALNLmub25hdM",
        "colab": {
          "base_uri": "https://localhost:8080/",
          "height": 263
        },
        "outputId": "13209ad2-7a02-43cc-978c-f105aac73176"
      },
      "outputs": [
        {
          "output_type": "stream",
          "name": "stdout",
          "text": [
            " * sqlite://\n",
            "Done.\n"
          ]
        },
        {
          "output_type": "execute_result",
          "data": {
            "text/plain": [
              "[('chips', 'cookies', 1),\n",
              " ('chips', 'eggs', 1),\n",
              " ('chips', 'juice', 1),\n",
              " ('chips', 'milk', 1),\n",
              " ('cookies', 'juice', 2),\n",
              " ('cookies', 'milk', 2),\n",
              " ('eggs', 'juice', 1),\n",
              " ('eggs', 'milk', 2),\n",
              " ('juice', 'milk', 3)]"
            ],
            "text/html": [
              "<table>\n",
              "    <thead>\n",
              "        <tr>\n",
              "            <th>item1</th>\n",
              "            <th>item2</th>\n",
              "            <th>count()</th>\n",
              "        </tr>\n",
              "    </thead>\n",
              "    <tbody>\n",
              "        <tr>\n",
              "            <td>chips</td>\n",
              "            <td>cookies</td>\n",
              "            <td>1</td>\n",
              "        </tr>\n",
              "        <tr>\n",
              "            <td>chips</td>\n",
              "            <td>eggs</td>\n",
              "            <td>1</td>\n",
              "        </tr>\n",
              "        <tr>\n",
              "            <td>chips</td>\n",
              "            <td>juice</td>\n",
              "            <td>1</td>\n",
              "        </tr>\n",
              "        <tr>\n",
              "            <td>chips</td>\n",
              "            <td>milk</td>\n",
              "            <td>1</td>\n",
              "        </tr>\n",
              "        <tr>\n",
              "            <td>cookies</td>\n",
              "            <td>juice</td>\n",
              "            <td>2</td>\n",
              "        </tr>\n",
              "        <tr>\n",
              "            <td>cookies</td>\n",
              "            <td>milk</td>\n",
              "            <td>2</td>\n",
              "        </tr>\n",
              "        <tr>\n",
              "            <td>eggs</td>\n",
              "            <td>juice</td>\n",
              "            <td>1</td>\n",
              "        </tr>\n",
              "        <tr>\n",
              "            <td>eggs</td>\n",
              "            <td>milk</td>\n",
              "            <td>2</td>\n",
              "        </tr>\n",
              "        <tr>\n",
              "            <td>juice</td>\n",
              "            <td>milk</td>\n",
              "            <td>3</td>\n",
              "        </tr>\n",
              "    </tbody>\n",
              "</table>"
            ]
          },
          "metadata": {},
          "execution_count": 54
        }
      ],
      "source": [
        "%%sql\n",
        "select T1.item as item1, T2.item as item2, count()\n",
        "from Shop T1, Shop T2\n",
        "where T1.TID = T2.TID\n",
        "and T1.item < T2.item\n",
        "group by T1.item, T2.item"
      ]
    },
    {
      "cell_type": "markdown",
      "metadata": {
        "id": "3gfCfoFD5hdN"
      },
      "source": [
        "#### Total number of transactions"
      ]
    },
    {
      "cell_type": "code",
      "execution_count": null,
      "metadata": {
        "id": "pKv2p5Ok5hdO",
        "colab": {
          "base_uri": "https://localhost:8080/",
          "height": 95
        },
        "outputId": "32297073-7aad-46fc-91a4-dd15f92ed683"
      },
      "outputs": [
        {
          "output_type": "stream",
          "name": "stdout",
          "text": [
            " * sqlite://\n",
            "Done.\n"
          ]
        },
        {
          "output_type": "execute_result",
          "data": {
            "text/plain": [
              "[(5,)]"
            ],
            "text/html": [
              "<table>\n",
              "    <thead>\n",
              "        <tr>\n",
              "            <th>count(distinct TID)</th>\n",
              "        </tr>\n",
              "    </thead>\n",
              "    <tbody>\n",
              "        <tr>\n",
              "            <td>5</td>\n",
              "        </tr>\n",
              "    </tbody>\n",
              "</table>"
            ]
          },
          "metadata": {},
          "execution_count": 55
        }
      ],
      "source": [
        "%%sql\n",
        "select count(distinct TID) from Shop"
      ]
    },
    {
      "cell_type": "markdown",
      "metadata": {
        "id": "owIcNYJf5hdO"
      },
      "source": [
        "#### Put it together for frequent item-sets"
      ]
    },
    {
      "cell_type": "code",
      "execution_count": null,
      "metadata": {
        "id": "IeuQH9Fx5hdP",
        "colab": {
          "base_uri": "https://localhost:8080/"
        },
        "outputId": "da9baeca-7d49-45dd-d8fe-e01715aa1304"
      },
      "outputs": [
        {
          "output_type": "stream",
          "name": "stdout",
          "text": [
            "0.3\n"
          ]
        }
      ],
      "source": [
        "support = .3\n",
        "print(support)"
      ]
    },
    {
      "cell_type": "code",
      "execution_count": null,
      "metadata": {
        "id": "h2PlysEv5hdP",
        "colab": {
          "base_uri": "https://localhost:8080/",
          "height": 158
        },
        "outputId": "bb0c68d3-b25f-4c2a-ccd6-1208029f039e"
      },
      "outputs": [
        {
          "output_type": "stream",
          "name": "stdout",
          "text": [
            " * sqlite://\n",
            "Done.\n"
          ]
        },
        {
          "output_type": "execute_result",
          "data": {
            "text/plain": [
              "[('cookies', 'juice'),\n",
              " ('cookies', 'milk'),\n",
              " ('eggs', 'milk'),\n",
              " ('juice', 'milk')]"
            ],
            "text/html": [
              "<table>\n",
              "    <thead>\n",
              "        <tr>\n",
              "            <th>item1</th>\n",
              "            <th>item2</th>\n",
              "        </tr>\n",
              "    </thead>\n",
              "    <tbody>\n",
              "        <tr>\n",
              "            <td>cookies</td>\n",
              "            <td>juice</td>\n",
              "        </tr>\n",
              "        <tr>\n",
              "            <td>cookies</td>\n",
              "            <td>milk</td>\n",
              "        </tr>\n",
              "        <tr>\n",
              "            <td>eggs</td>\n",
              "            <td>milk</td>\n",
              "        </tr>\n",
              "        <tr>\n",
              "            <td>juice</td>\n",
              "            <td>milk</td>\n",
              "        </tr>\n",
              "    </tbody>\n",
              "</table>"
            ]
          },
          "metadata": {},
          "execution_count": 57
        }
      ],
      "source": [
        "%%sql\n",
        "select T1.item as item1, T2.item as item2\n",
        "from Shop T1, Shop T2\n",
        "where T1.TID = T2.TID\n",
        "and T1.item < T2.item\n",
        "group by T1.item, T2.item\n",
        "having 1.0*count() / (select count(distinct TID) from Shop) > :support"
      ]
    },
    {
      "cell_type": "markdown",
      "metadata": {
        "id": "xg6t4sZN5hdQ"
      },
      "source": [
        "### Frequent item-sets of three"
      ]
    },
    {
      "cell_type": "markdown",
      "metadata": {
        "id": "lFBLKHXc5hdQ"
      },
      "source": [
        "#### All triples of items occurring together"
      ]
    },
    {
      "cell_type": "code",
      "execution_count": null,
      "metadata": {
        "id": "_DRsgu8Z5hdQ",
        "colab": {
          "base_uri": "https://localhost:8080/",
          "height": 200
        },
        "outputId": "e6873818-9a09-451c-eda6-f62b1ad2dad7"
      },
      "outputs": [
        {
          "output_type": "stream",
          "name": "stdout",
          "text": [
            " * sqlite://\n",
            "Done.\n"
          ]
        },
        {
          "output_type": "execute_result",
          "data": {
            "text/plain": [
              "[('eggs', 'juice', 'milk'),\n",
              " ('cookies', 'juice', 'milk'),\n",
              " ('cookies', 'juice', 'milk'),\n",
              " ('chips', 'juice', 'milk'),\n",
              " ('chips', 'cookies', 'milk'),\n",
              " ('chips', 'cookies', 'juice')]"
            ],
            "text/html": [
              "<table>\n",
              "    <thead>\n",
              "        <tr>\n",
              "            <th>item1</th>\n",
              "            <th>item2</th>\n",
              "            <th>item3</th>\n",
              "        </tr>\n",
              "    </thead>\n",
              "    <tbody>\n",
              "        <tr>\n",
              "            <td>eggs</td>\n",
              "            <td>juice</td>\n",
              "            <td>milk</td>\n",
              "        </tr>\n",
              "        <tr>\n",
              "            <td>cookies</td>\n",
              "            <td>juice</td>\n",
              "            <td>milk</td>\n",
              "        </tr>\n",
              "        <tr>\n",
              "            <td>cookies</td>\n",
              "            <td>juice</td>\n",
              "            <td>milk</td>\n",
              "        </tr>\n",
              "        <tr>\n",
              "            <td>chips</td>\n",
              "            <td>juice</td>\n",
              "            <td>milk</td>\n",
              "        </tr>\n",
              "        <tr>\n",
              "            <td>chips</td>\n",
              "            <td>cookies</td>\n",
              "            <td>milk</td>\n",
              "        </tr>\n",
              "        <tr>\n",
              "            <td>chips</td>\n",
              "            <td>cookies</td>\n",
              "            <td>juice</td>\n",
              "        </tr>\n",
              "    </tbody>\n",
              "</table>"
            ]
          },
          "metadata": {},
          "execution_count": 58
        }
      ],
      "source": [
        "%%sql\n",
        "select T1.item as item1, T2.item as item2, T3.item as item3\n",
        "from Shop T1, Shop T2, Shop T3\n",
        "where T1.TID = T2.TID and T2.TID = T3.TID\n",
        "and T1.item < T2.item and T2.item < T3.item"
      ]
    },
    {
      "cell_type": "markdown",
      "metadata": {
        "id": "Mk-dSwOm5hdR"
      },
      "source": [
        "#### Now with number of transactions they occur together in"
      ]
    },
    {
      "cell_type": "code",
      "execution_count": null,
      "metadata": {
        "id": "H9xuY9_t5hdR",
        "colab": {
          "base_uri": "https://localhost:8080/",
          "height": 179
        },
        "outputId": "613eacec-e394-4541-a4b3-4146e10546c0"
      },
      "outputs": [
        {
          "output_type": "stream",
          "name": "stdout",
          "text": [
            " * sqlite://\n",
            "Done.\n"
          ]
        },
        {
          "output_type": "execute_result",
          "data": {
            "text/plain": [
              "[('chips', 'cookies', 'juice', 1),\n",
              " ('chips', 'cookies', 'milk', 1),\n",
              " ('chips', 'juice', 'milk', 1),\n",
              " ('cookies', 'juice', 'milk', 2),\n",
              " ('eggs', 'juice', 'milk', 1)]"
            ],
            "text/html": [
              "<table>\n",
              "    <thead>\n",
              "        <tr>\n",
              "            <th>item1</th>\n",
              "            <th>item2</th>\n",
              "            <th>item3</th>\n",
              "            <th>count()</th>\n",
              "        </tr>\n",
              "    </thead>\n",
              "    <tbody>\n",
              "        <tr>\n",
              "            <td>chips</td>\n",
              "            <td>cookies</td>\n",
              "            <td>juice</td>\n",
              "            <td>1</td>\n",
              "        </tr>\n",
              "        <tr>\n",
              "            <td>chips</td>\n",
              "            <td>cookies</td>\n",
              "            <td>milk</td>\n",
              "            <td>1</td>\n",
              "        </tr>\n",
              "        <tr>\n",
              "            <td>chips</td>\n",
              "            <td>juice</td>\n",
              "            <td>milk</td>\n",
              "            <td>1</td>\n",
              "        </tr>\n",
              "        <tr>\n",
              "            <td>cookies</td>\n",
              "            <td>juice</td>\n",
              "            <td>milk</td>\n",
              "            <td>2</td>\n",
              "        </tr>\n",
              "        <tr>\n",
              "            <td>eggs</td>\n",
              "            <td>juice</td>\n",
              "            <td>milk</td>\n",
              "            <td>1</td>\n",
              "        </tr>\n",
              "    </tbody>\n",
              "</table>"
            ]
          },
          "metadata": {},
          "execution_count": 59
        }
      ],
      "source": [
        "%%sql\n",
        "select T1.item as item1, T2.item as item2, T3.item as item3, count()\n",
        "from Shop T1, Shop T2, Shop T3\n",
        "where T1.TID = T2.TID and T2.TID = T3.TID\n",
        "and T1.item < T2.item and T2.item < T3.item\n",
        "group by T1.item, T2.item, T3.item"
      ]
    },
    {
      "cell_type": "markdown",
      "metadata": {
        "id": "_5l8msyI5hdR"
      },
      "source": [
        "#### Put it together for frequent item-sets"
      ]
    },
    {
      "cell_type": "code",
      "execution_count": null,
      "metadata": {
        "id": "PKAeQx5R5hdS",
        "colab": {
          "base_uri": "https://localhost:8080/"
        },
        "outputId": "72499719-480f-405d-8581-d7856f1c826c"
      },
      "outputs": [
        {
          "output_type": "stream",
          "name": "stdout",
          "text": [
            "0.3\n"
          ]
        }
      ],
      "source": [
        "support = .3\n",
        "print(support)"
      ]
    },
    {
      "cell_type": "code",
      "execution_count": null,
      "metadata": {
        "id": "h8ISpu_45hdS",
        "colab": {
          "base_uri": "https://localhost:8080/",
          "height": 95
        },
        "outputId": "b78caac5-2930-462a-ab2f-8af5a38511d8"
      },
      "outputs": [
        {
          "output_type": "stream",
          "name": "stdout",
          "text": [
            " * sqlite://\n",
            "Done.\n"
          ]
        },
        {
          "output_type": "execute_result",
          "data": {
            "text/plain": [
              "[('cookies', 'juice', 'milk')]"
            ],
            "text/html": [
              "<table>\n",
              "    <thead>\n",
              "        <tr>\n",
              "            <th>item1</th>\n",
              "            <th>item2</th>\n",
              "            <th>item3</th>\n",
              "        </tr>\n",
              "    </thead>\n",
              "    <tbody>\n",
              "        <tr>\n",
              "            <td>cookies</td>\n",
              "            <td>juice</td>\n",
              "            <td>milk</td>\n",
              "        </tr>\n",
              "    </tbody>\n",
              "</table>"
            ]
          },
          "metadata": {},
          "execution_count": 61
        }
      ],
      "source": [
        "%%sql\n",
        "select T1.item as item1, T2.item as item2, T3.item as item3\n",
        "from Shop T1, Shop T2, Shop T3\n",
        "where T1.TID = T2.TID and T2.TID = T3.TID\n",
        "and T1.item < T2.item and T2.item < T3.item\n",
        "group by T1.item, T2.item, T3.item\n",
        "having 1.0*count() / (select count(distinct TID) from Shop) > :support"
      ]
    },
    {
      "cell_type": "markdown",
      "metadata": {
        "id": "pcAB736X5hdT"
      },
      "source": [
        "### <font color = 'green'>**Your Turn - Movies dataset frequent item-sets**</font>"
      ]
    },
    {
      "cell_type": "code",
      "execution_count": null,
      "metadata": {
        "id": "rIYvcGKv5hdT",
        "colab": {
          "base_uri": "https://localhost:8080/",
          "height": 389
        },
        "outputId": "f34fbfd9-7990-4264-a0f9-69c7f47439ce"
      },
      "outputs": [
        {
          "output_type": "stream",
          "name": "stdout",
          "text": [
            " * sqlite://\n",
            "Done.\n"
          ]
        },
        {
          "output_type": "execute_result",
          "data": {
            "text/plain": [
              "[(145755, 'The Fault in Our Stars'),\n",
              " (145755, 'Boyhood'),\n",
              " (145755, 'Big Hero 6'),\n",
              " (145755, 'The Imitation Game'),\n",
              " (145755, 'Inside Out'),\n",
              " (117070, 'Inside Out'),\n",
              " (239040, 'Inside Out'),\n",
              " (177796, 'Gone Girl'),\n",
              " (177796, 'Magic Mike XXL'),\n",
              " (126875, 'The Imitation Game'),\n",
              " (126875, 'Inside Out'),\n",
              " (55295, 'The Imitation Game'),\n",
              " (55295, 'Inside Out'),\n",
              " (92094, 'The Fault in Our Stars'),\n",
              " (92094, 'Boyhood')]"
            ],
            "text/html": [
              "<table>\n",
              "    <thead>\n",
              "        <tr>\n",
              "            <th>TID</th>\n",
              "            <th>item</th>\n",
              "        </tr>\n",
              "    </thead>\n",
              "    <tbody>\n",
              "        <tr>\n",
              "            <td>145755</td>\n",
              "            <td>The Fault in Our Stars</td>\n",
              "        </tr>\n",
              "        <tr>\n",
              "            <td>145755</td>\n",
              "            <td>Boyhood</td>\n",
              "        </tr>\n",
              "        <tr>\n",
              "            <td>145755</td>\n",
              "            <td>Big Hero 6</td>\n",
              "        </tr>\n",
              "        <tr>\n",
              "            <td>145755</td>\n",
              "            <td>The Imitation Game</td>\n",
              "        </tr>\n",
              "        <tr>\n",
              "            <td>145755</td>\n",
              "            <td>Inside Out</td>\n",
              "        </tr>\n",
              "        <tr>\n",
              "            <td>117070</td>\n",
              "            <td>Inside Out</td>\n",
              "        </tr>\n",
              "        <tr>\n",
              "            <td>239040</td>\n",
              "            <td>Inside Out</td>\n",
              "        </tr>\n",
              "        <tr>\n",
              "            <td>177796</td>\n",
              "            <td>Gone Girl</td>\n",
              "        </tr>\n",
              "        <tr>\n",
              "            <td>177796</td>\n",
              "            <td>Magic Mike XXL</td>\n",
              "        </tr>\n",
              "        <tr>\n",
              "            <td>126875</td>\n",
              "            <td>The Imitation Game</td>\n",
              "        </tr>\n",
              "        <tr>\n",
              "            <td>126875</td>\n",
              "            <td>Inside Out</td>\n",
              "        </tr>\n",
              "        <tr>\n",
              "            <td>55295</td>\n",
              "            <td>The Imitation Game</td>\n",
              "        </tr>\n",
              "        <tr>\n",
              "            <td>55295</td>\n",
              "            <td>Inside Out</td>\n",
              "        </tr>\n",
              "        <tr>\n",
              "            <td>92094</td>\n",
              "            <td>The Fault in Our Stars</td>\n",
              "        </tr>\n",
              "        <tr>\n",
              "            <td>92094</td>\n",
              "            <td>Boyhood</td>\n",
              "        </tr>\n",
              "    </tbody>\n",
              "</table>"
            ]
          },
          "metadata": {},
          "execution_count": 62
        }
      ],
      "source": [
        "%%sql\n",
        "select * from Movies limit 15"
      ]
    },
    {
      "cell_type": "code",
      "execution_count": null,
      "metadata": {
        "id": "uTkprV8i5hdT",
        "colab": {
          "base_uri": "https://localhost:8080/",
          "height": 96
        },
        "outputId": "861f6403-c780-417d-b662-63b7c11f0814"
      },
      "outputs": [
        {
          "output_type": "stream",
          "name": "stdout",
          "text": [
            " * sqlite://\n",
            "Done.\n"
          ]
        },
        {
          "output_type": "execute_result",
          "data": {
            "text/plain": [
              "[(1382, 123)]"
            ],
            "text/html": [
              "<table>\n",
              "    <thead>\n",
              "        <tr>\n",
              "            <th>numUsers</th>\n",
              "            <th>numMovies</th>\n",
              "        </tr>\n",
              "    </thead>\n",
              "    <tbody>\n",
              "        <tr>\n",
              "            <td>1382</td>\n",
              "            <td>123</td>\n",
              "        </tr>\n",
              "    </tbody>\n",
              "</table>"
            ]
          },
          "metadata": {},
          "execution_count": 16
        }
      ],
      "source": [
        "%%sql\n",
        "select count(distinct TID) as numUsers,\n",
        "       count(distinct item) as numMovies\n",
        "from Movies"
      ]
    },
    {
      "cell_type": "markdown",
      "metadata": {
        "id": "_tGzAocJ5hdU"
      },
      "source": [
        "#### Mine for frequent item-sets of three and four items in the Movies dataset. Find a single support threshold where the number of frequent item-sets of three items is more than 10 but less than 20, and the number of frequent item-sets of four items is more than 0."
      ]
    },
    {
      "cell_type": "code",
      "execution_count": null,
      "metadata": {
        "id": "kliCRrDB5hdU",
        "colab": {
          "base_uri": "https://localhost:8080/"
        },
        "outputId": "16618c2b-154c-4869-b2ea-5400985c23a8"
      },
      "outputs": [
        {
          "output_type": "stream",
          "name": "stdout",
          "text": [
            "0.03\n"
          ]
        }
      ],
      "source": [
        "support = .03\n",
        "print(support)"
      ]
    },
    {
      "cell_type": "code",
      "source": [
        "%config SqlMagic.style = '_DEPRECATED_DEFAULT'"
      ],
      "metadata": {
        "id": "Qdxxr-bRZEEx"
      },
      "execution_count": null,
      "outputs": []
    },
    {
      "cell_type": "code",
      "execution_count": null,
      "metadata": {
        "id": "44vXgzV75hdU",
        "colab": {
          "base_uri": "https://localhost:8080/"
        },
        "outputId": "331bb2a5-3ee2-4e30-d762-d581da42281b"
      },
      "outputs": [
        {
          "output_type": "stream",
          "name": "stdout",
          "text": [
            " * sqlite://\n",
            "(sqlite3.OperationalError) near \"for\": syntax error\n",
            "[SQL: for i1 in Mitems:\n",
            "    for i2 in Mitems:\n",
            "        for i3 in Mitems:\n",
            "            if i1 < i2 and i2 < i3:\n",
            "                common = len(Mitems[i1] & Mitems[i2] & Mitems[i3])\n",
            "                if common/Mnumtrans > support:\n",
            "                    print(i1, '|', i2, '|', i3)]\n",
            "(Background on this error at: https://sqlalche.me/e/20/e3q8)\n"
          ]
        }
      ],
      "source": [
        "# Frequent item-sets of three\n",
        "%%sql\n",
        "for i1 in Mitems:\n",
        "    for i2 in Mitems:\n",
        "        for i3 in Mitems:\n",
        "            if i1 < i2 and i2 < i3:\n",
        "                common = len(Mitems[i1] & Mitems[i2] & Mitems[i3])\n",
        "                if common/Mnumtrans > support:\n",
        "                    print(i1, '|', i2, '|', i3)"
      ]
    },
    {
      "cell_type": "code",
      "execution_count": null,
      "metadata": {
        "id": "fWmhbFSQ5hdU",
        "colab": {
          "base_uri": "https://localhost:8080/"
        },
        "outputId": "6977c82d-1f7c-46d1-d1eb-5b92321dcf20"
      },
      "outputs": [
        {
          "output_type": "stream",
          "name": "stdout",
          "text": [
            " * sqlite://\n",
            "(sqlite3.OperationalError) near \"for\": syntax error\n",
            "[SQL: for i1 in Mitems:\n",
            "    for i2 in Mitems:\n",
            "        for i3 in Mitems:\n",
            "            for i4 in Mitems:\n",
            "                if i1 < i2 and i2 < i3 and i3 < i4:\n",
            "                    common = len(Mitems[i1] & Mitems[i2] & Mitems[i3] & Mitems[i4])\n",
            "                    if common/Mnumtrans > support:\n",
            "                        print(i1, '|', i2, '|', i3, '|', i4)]\n",
            "(Background on this error at: https://sqlalche.me/e/20/e3q8)\n"
          ]
        }
      ],
      "source": [
        "# Frequent item-sets of four\n",
        "%%sql\n",
        "for i1 in Mitems:\n",
        "    for i2 in Mitems:\n",
        "        for i3 in Mitems:\n",
        "            for i4 in Mitems:\n",
        "                if i1 < i2 and i2 < i3 and i3 < i4:\n",
        "                    common = len(Mitems[i1] & Mitems[i2] & Mitems[i3] & Mitems[i4])\n",
        "                    if common/Mnumtrans > support:\n",
        "                        print(i1, '|', i2, '|', i3, '|', i4)"
      ]
    },
    {
      "cell_type": "markdown",
      "metadata": {
        "id": "-SKQ_gjV5hdV"
      },
      "source": [
        "## Shopping dataset - association rules"
      ]
    },
    {
      "cell_type": "markdown",
      "metadata": {
        "id": "R3sqv_jw5hdV"
      },
      "source": [
        "### Association rules with one item on the left-hand side"
      ]
    },
    {
      "cell_type": "code",
      "execution_count": null,
      "metadata": {
        "id": "4ofaGtmk5hdV",
        "colab": {
          "base_uri": "https://localhost:8080/"
        },
        "outputId": "ce6fe79e-8529-4a96-90c0-9ec07dbf89e8"
      },
      "outputs": [
        {
          "output_type": "stream",
          "name": "stdout",
          "text": [
            "0.5 0.5\n"
          ]
        }
      ],
      "source": [
        "support = .5\n",
        "confidence = .5\n",
        "print(support, confidence)"
      ]
    },
    {
      "cell_type": "markdown",
      "metadata": {
        "id": "Y7YVpiQD5hdV"
      },
      "source": [
        "#### First compute frequent item-sets of one item with specified support, as candidate left-hand sides of assocation rules; include number of transactions"
      ]
    },
    {
      "cell_type": "code",
      "execution_count": null,
      "metadata": {
        "id": "bfP63hl-5hdW",
        "colab": {
          "base_uri": "https://localhost:8080/",
          "height": 179
        },
        "outputId": "671aede1-414a-4091-a183-b5ade8987439"
      },
      "outputs": [
        {
          "output_type": "stream",
          "name": "stdout",
          "text": [
            " * sqlite://\n",
            "Done.\n"
          ]
        },
        {
          "output_type": "execute_result",
          "data": {
            "text/plain": [
              "[('chips', 2), ('cookies', 2), ('eggs', 3), ('juice', 3), ('milk', 4)]"
            ],
            "text/html": [
              "<table>\n",
              "    <thead>\n",
              "        <tr>\n",
              "            <th>item</th>\n",
              "            <th>numtrans</th>\n",
              "        </tr>\n",
              "    </thead>\n",
              "    <tbody>\n",
              "        <tr>\n",
              "            <td>chips</td>\n",
              "            <td>2</td>\n",
              "        </tr>\n",
              "        <tr>\n",
              "            <td>cookies</td>\n",
              "            <td>2</td>\n",
              "        </tr>\n",
              "        <tr>\n",
              "            <td>eggs</td>\n",
              "            <td>3</td>\n",
              "        </tr>\n",
              "        <tr>\n",
              "            <td>juice</td>\n",
              "            <td>3</td>\n",
              "        </tr>\n",
              "        <tr>\n",
              "            <td>milk</td>\n",
              "            <td>4</td>\n",
              "        </tr>\n",
              "    </tbody>\n",
              "</table>"
            ]
          },
          "metadata": {},
          "execution_count": 67
        }
      ],
      "source": [
        "%%sql\n",
        "select item, count() as numtrans\n",
        "from Shop\n",
        "group by item\n",
        "having 1.0*count() / (select count(distinct TID) from Shop) > :support"
      ]
    },
    {
      "cell_type": "markdown",
      "metadata": {
        "id": "kWeKGQKY5hdW"
      },
      "source": [
        "#### Do the same query but save the result in a table called \"Frequents\""
      ]
    },
    {
      "cell_type": "code",
      "execution_count": null,
      "metadata": {
        "id": "rPL_cAqm5hdW",
        "colab": {
          "base_uri": "https://localhost:8080/",
          "height": 231
        },
        "outputId": "a794ddfa-24a7-4ccf-cb70-aff5aaf6dc1b"
      },
      "outputs": [
        {
          "output_type": "stream",
          "name": "stdout",
          "text": [
            " * sqlite://\n",
            "Done.\n",
            "Done.\n",
            "5 rows affected.\n",
            "Done.\n"
          ]
        },
        {
          "output_type": "execute_result",
          "data": {
            "text/plain": [
              "[('chips', 2), ('cookies', 2), ('eggs', 3), ('juice', 3), ('milk', 4)]"
            ],
            "text/html": [
              "<table>\n",
              "    <thead>\n",
              "        <tr>\n",
              "            <th>item</th>\n",
              "            <th>numtrans</th>\n",
              "        </tr>\n",
              "    </thead>\n",
              "    <tbody>\n",
              "        <tr>\n",
              "            <td>chips</td>\n",
              "            <td>2</td>\n",
              "        </tr>\n",
              "        <tr>\n",
              "            <td>cookies</td>\n",
              "            <td>2</td>\n",
              "        </tr>\n",
              "        <tr>\n",
              "            <td>eggs</td>\n",
              "            <td>3</td>\n",
              "        </tr>\n",
              "        <tr>\n",
              "            <td>juice</td>\n",
              "            <td>3</td>\n",
              "        </tr>\n",
              "        <tr>\n",
              "            <td>milk</td>\n",
              "            <td>4</td>\n",
              "        </tr>\n",
              "    </tbody>\n",
              "</table>"
            ]
          },
          "metadata": {},
          "execution_count": 66
        }
      ],
      "source": [
        "%%sql\n",
        "drop table if exists Frequent;\n",
        "create table Frequent(item, numtrans);\n",
        "insert into Frequent\n",
        "select item, count()\n",
        "from Shop\n",
        "group by item\n",
        "having 1.0*count() / (select count(distinct TID) from Shop) > :support;\n",
        "select * from Frequent"
      ]
    },
    {
      "cell_type": "markdown",
      "metadata": {
        "collapsed": true,
        "id": "i0-6crn65hdX"
      },
      "source": [
        "#### All pairs with frequent left-hand side, number of transactions for left-hand side, and number of transactions for both"
      ]
    },
    {
      "cell_type": "code",
      "execution_count": null,
      "metadata": {
        "id": "GxzuOaw65hdX",
        "colab": {
          "base_uri": "https://localhost:8080/",
          "height": 451
        },
        "outputId": "628fb1e4-4587-48a5-da1a-35da7e1e15b1"
      },
      "outputs": [
        {
          "output_type": "stream",
          "name": "stdout",
          "text": [
            " * sqlite://\n",
            "Done.\n"
          ]
        },
        {
          "output_type": "execute_result",
          "data": {
            "text/plain": [
              "[('chips', 'cookies', 2, 1),\n",
              " ('chips', 'eggs', 2, 1),\n",
              " ('chips', 'juice', 2, 1),\n",
              " ('chips', 'milk', 2, 1),\n",
              " ('cookies', 'chips', 2, 1),\n",
              " ('cookies', 'juice', 2, 2),\n",
              " ('cookies', 'milk', 2, 2),\n",
              " ('eggs', 'chips', 3, 1),\n",
              " ('eggs', 'juice', 3, 1),\n",
              " ('eggs', 'milk', 3, 2),\n",
              " ('juice', 'chips', 3, 1),\n",
              " ('juice', 'cookies', 3, 2),\n",
              " ('juice', 'eggs', 3, 1),\n",
              " ('juice', 'milk', 3, 3),\n",
              " ('milk', 'chips', 4, 1),\n",
              " ('milk', 'cookies', 4, 2),\n",
              " ('milk', 'eggs', 4, 2),\n",
              " ('milk', 'juice', 4, 3)]"
            ],
            "text/html": [
              "<table>\n",
              "    <thead>\n",
              "        <tr>\n",
              "            <th>LHS</th>\n",
              "            <th>RHS</th>\n",
              "            <th>numtrans</th>\n",
              "            <th>count()</th>\n",
              "        </tr>\n",
              "    </thead>\n",
              "    <tbody>\n",
              "        <tr>\n",
              "            <td>chips</td>\n",
              "            <td>cookies</td>\n",
              "            <td>2</td>\n",
              "            <td>1</td>\n",
              "        </tr>\n",
              "        <tr>\n",
              "            <td>chips</td>\n",
              "            <td>eggs</td>\n",
              "            <td>2</td>\n",
              "            <td>1</td>\n",
              "        </tr>\n",
              "        <tr>\n",
              "            <td>chips</td>\n",
              "            <td>juice</td>\n",
              "            <td>2</td>\n",
              "            <td>1</td>\n",
              "        </tr>\n",
              "        <tr>\n",
              "            <td>chips</td>\n",
              "            <td>milk</td>\n",
              "            <td>2</td>\n",
              "            <td>1</td>\n",
              "        </tr>\n",
              "        <tr>\n",
              "            <td>cookies</td>\n",
              "            <td>chips</td>\n",
              "            <td>2</td>\n",
              "            <td>1</td>\n",
              "        </tr>\n",
              "        <tr>\n",
              "            <td>cookies</td>\n",
              "            <td>juice</td>\n",
              "            <td>2</td>\n",
              "            <td>2</td>\n",
              "        </tr>\n",
              "        <tr>\n",
              "            <td>cookies</td>\n",
              "            <td>milk</td>\n",
              "            <td>2</td>\n",
              "            <td>2</td>\n",
              "        </tr>\n",
              "        <tr>\n",
              "            <td>eggs</td>\n",
              "            <td>chips</td>\n",
              "            <td>3</td>\n",
              "            <td>1</td>\n",
              "        </tr>\n",
              "        <tr>\n",
              "            <td>eggs</td>\n",
              "            <td>juice</td>\n",
              "            <td>3</td>\n",
              "            <td>1</td>\n",
              "        </tr>\n",
              "        <tr>\n",
              "            <td>eggs</td>\n",
              "            <td>milk</td>\n",
              "            <td>3</td>\n",
              "            <td>2</td>\n",
              "        </tr>\n",
              "        <tr>\n",
              "            <td>juice</td>\n",
              "            <td>chips</td>\n",
              "            <td>3</td>\n",
              "            <td>1</td>\n",
              "        </tr>\n",
              "        <tr>\n",
              "            <td>juice</td>\n",
              "            <td>cookies</td>\n",
              "            <td>3</td>\n",
              "            <td>2</td>\n",
              "        </tr>\n",
              "        <tr>\n",
              "            <td>juice</td>\n",
              "            <td>eggs</td>\n",
              "            <td>3</td>\n",
              "            <td>1</td>\n",
              "        </tr>\n",
              "        <tr>\n",
              "            <td>juice</td>\n",
              "            <td>milk</td>\n",
              "            <td>3</td>\n",
              "            <td>3</td>\n",
              "        </tr>\n",
              "        <tr>\n",
              "            <td>milk</td>\n",
              "            <td>chips</td>\n",
              "            <td>4</td>\n",
              "            <td>1</td>\n",
              "        </tr>\n",
              "        <tr>\n",
              "            <td>milk</td>\n",
              "            <td>cookies</td>\n",
              "            <td>4</td>\n",
              "            <td>2</td>\n",
              "        </tr>\n",
              "        <tr>\n",
              "            <td>milk</td>\n",
              "            <td>eggs</td>\n",
              "            <td>4</td>\n",
              "            <td>2</td>\n",
              "        </tr>\n",
              "        <tr>\n",
              "            <td>milk</td>\n",
              "            <td>juice</td>\n",
              "            <td>4</td>\n",
              "            <td>3</td>\n",
              "        </tr>\n",
              "    </tbody>\n",
              "</table>"
            ]
          },
          "metadata": {},
          "execution_count": 24
        }
      ],
      "source": [
        "%%sql\n",
        "select T1.item as LHS, T2.item as RHS, F.numtrans, count()\n",
        "from Shop T1, Shop T2, Frequent F\n",
        "where T1.item = F.item\n",
        "and T1.TID = T2.TID\n",
        "and T1.item != T2.item\n",
        "group by T1.item, T2.item"
      ]
    },
    {
      "cell_type": "markdown",
      "metadata": {
        "collapsed": true,
        "id": "mGHHZ_0K5hdX"
      },
      "source": [
        "#### Add check for specified confidence to get final result"
      ]
    },
    {
      "cell_type": "code",
      "execution_count": null,
      "metadata": {
        "id": "0wZrTCwA5hdX",
        "colab": {
          "base_uri": "https://localhost:8080/"
        },
        "outputId": "a67653aa-4db5-46a9-beff-3a67733d8306"
      },
      "outputs": [
        {
          "output_type": "stream",
          "name": "stdout",
          "text": [
            " * sqlite://\n",
            "(sqlite3.OperationalError) no such table: Frequent\n",
            "[SQL: select T1.item as LHS, T2.item as RHS\n",
            "from Shop T1, Shop T2, Frequent F\n",
            "where T1.item = F.item\n",
            "and T1.TID = T2.TID\n",
            "and T1.item != T2.item\n",
            "group by T1.item, T2.item\n",
            "having 1.0*count() / F.numtrans > ?]\n",
            "[parameters: (0.92,)]\n",
            "(Background on this error at: https://sqlalche.me/e/20/e3q8)\n"
          ]
        }
      ],
      "source": [
        "%%sql\n",
        "select T1.item as LHS, T2.item as RHS\n",
        "from Shop T1, Shop T2, Frequent F\n",
        "where T1.item = F.item\n",
        "and T1.TID = T2.TID\n",
        "and T1.item != T2.item\n",
        "group by T1.item, T2.item\n",
        "having 1.0*count() / F.numtrans > :confidence"
      ]
    },
    {
      "cell_type": "markdown",
      "metadata": {
        "id": "LiYunBYy5hdY"
      },
      "source": [
        "### Association rules with two items on the left-hand side"
      ]
    },
    {
      "cell_type": "code",
      "execution_count": null,
      "metadata": {
        "id": "yi8BlRrk5hdY",
        "colab": {
          "base_uri": "https://localhost:8080/"
        },
        "outputId": "f2700015-a194-469b-caed-e1a14c95b52e"
      },
      "outputs": [
        {
          "output_type": "stream",
          "name": "stdout",
          "text": [
            "0.5 0.5\n"
          ]
        }
      ],
      "source": [
        "support = .5\n",
        "confidence = .5\n",
        "print(support, confidence)"
      ]
    },
    {
      "cell_type": "markdown",
      "metadata": {
        "id": "a3JLdEhU5hdY"
      },
      "source": [
        "#### First compute frequent item-sets of two items with specified support, as candidate left-hand sides of assocation rules. Save in table \"Frequent\" along with number of transactions"
      ]
    },
    {
      "cell_type": "code",
      "execution_count": null,
      "metadata": {
        "id": "iUxPWSy15hdY",
        "colab": {
          "base_uri": "https://localhost:8080/",
          "height": 147
        },
        "outputId": "d6fd4192-160a-4573-d3b4-5c0f3f3f75b6"
      },
      "outputs": [
        {
          "output_type": "stream",
          "name": "stdout",
          "text": [
            " * sqlite://\n",
            "Done.\n",
            "Done.\n",
            "1 rows affected.\n",
            "Done.\n"
          ]
        },
        {
          "output_type": "execute_result",
          "data": {
            "text/plain": [
              "[('juice', 'milk', 3)]"
            ],
            "text/html": [
              "<table>\n",
              "    <thead>\n",
              "        <tr>\n",
              "            <th>item1</th>\n",
              "            <th>item2</th>\n",
              "            <th>numtrans</th>\n",
              "        </tr>\n",
              "    </thead>\n",
              "    <tbody>\n",
              "        <tr>\n",
              "            <td>juice</td>\n",
              "            <td>milk</td>\n",
              "            <td>3</td>\n",
              "        </tr>\n",
              "    </tbody>\n",
              "</table>"
            ]
          },
          "metadata": {},
          "execution_count": 27
        }
      ],
      "source": [
        "%%sql\n",
        "drop table if exists Frequent;\n",
        "create table Frequent(item1, item2, numtrans);\n",
        "insert into Frequent\n",
        "select T1.item, T2.item, count()\n",
        "from Shop T1, Shop T2\n",
        "where T1.TID = T2.TID\n",
        "and T1.item < T2.item\n",
        "group by T1.item, T2.item\n",
        "having 1.0*count() / (select count(distinct TID) from Shop) > :support;\n",
        "select * from Frequent"
      ]
    },
    {
      "cell_type": "markdown",
      "metadata": {
        "collapsed": true,
        "id": "30puxFgD5hdZ"
      },
      "source": [
        "#### All triples with frequent left-hand side, number of transactions for left-hand side, and number of transactions for all three"
      ]
    },
    {
      "cell_type": "code",
      "execution_count": null,
      "metadata": {
        "id": "XtkzJYEx5hdZ",
        "colab": {
          "base_uri": "https://localhost:8080/",
          "height": 137
        },
        "outputId": "9c76f239-51a1-4ff7-f63b-519893f10493"
      },
      "outputs": [
        {
          "output_type": "stream",
          "name": "stdout",
          "text": [
            " * sqlite://\n",
            "Done.\n"
          ]
        },
        {
          "output_type": "execute_result",
          "data": {
            "text/plain": [
              "[('juice', 'milk', 'chips', 3, 1),\n",
              " ('juice', 'milk', 'cookies', 3, 2),\n",
              " ('juice', 'milk', 'eggs', 3, 1)]"
            ],
            "text/html": [
              "<table>\n",
              "    <thead>\n",
              "        <tr>\n",
              "            <th>LHS1</th>\n",
              "            <th>LHS2</th>\n",
              "            <th>RHS</th>\n",
              "            <th>numtrans</th>\n",
              "            <th>count()</th>\n",
              "        </tr>\n",
              "    </thead>\n",
              "    <tbody>\n",
              "        <tr>\n",
              "            <td>juice</td>\n",
              "            <td>milk</td>\n",
              "            <td>chips</td>\n",
              "            <td>3</td>\n",
              "            <td>1</td>\n",
              "        </tr>\n",
              "        <tr>\n",
              "            <td>juice</td>\n",
              "            <td>milk</td>\n",
              "            <td>cookies</td>\n",
              "            <td>3</td>\n",
              "            <td>2</td>\n",
              "        </tr>\n",
              "        <tr>\n",
              "            <td>juice</td>\n",
              "            <td>milk</td>\n",
              "            <td>eggs</td>\n",
              "            <td>3</td>\n",
              "            <td>1</td>\n",
              "        </tr>\n",
              "    </tbody>\n",
              "</table>"
            ]
          },
          "metadata": {},
          "execution_count": 28
        }
      ],
      "source": [
        "%%sql\n",
        "select T1.item as LHS1, T2.item as LHS2, T3.item as RHS, F.numtrans, count()\n",
        "from Shop T1, Shop T2, Shop T3, Frequent F\n",
        "where T1.item = F.item1 and T2.item = F.item2\n",
        "and T1.TID = T2.TID and T2.TID = T3.TID\n",
        "and T1.item != T2.item and T2.item != T3.item and T1.item != T3.item\n",
        "group by T1.item, T2.item, T3.item"
      ]
    },
    {
      "cell_type": "markdown",
      "metadata": {
        "collapsed": true,
        "id": "m5z6OQRZ5hdZ"
      },
      "source": [
        "#### Add check for specified confidence to get final result"
      ]
    },
    {
      "cell_type": "code",
      "execution_count": null,
      "metadata": {
        "id": "sInZAuHB5hdZ",
        "colab": {
          "base_uri": "https://localhost:8080/",
          "height": 95
        },
        "outputId": "239f7cc5-e5d8-4b7f-a630-47e91bc40fc2"
      },
      "outputs": [
        {
          "output_type": "stream",
          "name": "stdout",
          "text": [
            " * sqlite://\n",
            "Done.\n"
          ]
        },
        {
          "output_type": "execute_result",
          "data": {
            "text/plain": [
              "[('juice', 'milk', 'cookies')]"
            ],
            "text/html": [
              "<table>\n",
              "    <thead>\n",
              "        <tr>\n",
              "            <th>LHS1</th>\n",
              "            <th>LHS2</th>\n",
              "            <th>RHS</th>\n",
              "        </tr>\n",
              "    </thead>\n",
              "    <tbody>\n",
              "        <tr>\n",
              "            <td>juice</td>\n",
              "            <td>milk</td>\n",
              "            <td>cookies</td>\n",
              "        </tr>\n",
              "    </tbody>\n",
              "</table>"
            ]
          },
          "metadata": {},
          "execution_count": 29
        }
      ],
      "source": [
        "%%sql\n",
        "select T1.item as LHS1, T2.item as LHS2, T3.item as RHS\n",
        "from Shop T1, Shop T2, Shop T3, Frequent F\n",
        "where T1.item = F.item1 and T2.item = F.item2\n",
        "and T1.TID = T2.TID and T2.TID = T3.TID\n",
        "and T1.item != T2.item and T2.item != T3.item and T1.item != T3.item\n",
        "group by T1.item, T2.item, T3.item\n",
        "having 1.0*count() / F.numtrans > :confidence"
      ]
    },
    {
      "cell_type": "markdown",
      "metadata": {
        "id": "Iq888-tE5hda"
      },
      "source": [
        "## Shopping dataset - association rules with lift instead of confidence"
      ]
    },
    {
      "cell_type": "markdown",
      "metadata": {
        "id": "QBd0pwHm5hda"
      },
      "source": [
        "#### Compute overall frequency of each item -- needed for lift calculation"
      ]
    },
    {
      "cell_type": "code",
      "execution_count": null,
      "metadata": {
        "id": "syJdSwZI5hda",
        "colab": {
          "base_uri": "https://localhost:8080/",
          "height": 179
        },
        "outputId": "7598c6ef-66bd-4b0c-bfd4-a7ca4f0e5f82"
      },
      "outputs": [
        {
          "output_type": "stream",
          "name": "stdout",
          "text": [
            " * sqlite://\n",
            "Done.\n"
          ]
        },
        {
          "output_type": "execute_result",
          "data": {
            "text/plain": [
              "[('chips', 0.4),\n",
              " ('cookies', 0.4),\n",
              " ('eggs', 0.6),\n",
              " ('juice', 0.6),\n",
              " ('milk', 0.8)]"
            ],
            "text/html": [
              "<table>\n",
              "    <thead>\n",
              "        <tr>\n",
              "            <th>item</th>\n",
              "            <th>1.0*count() / (select count(distinct TID) from Shop)</th>\n",
              "        </tr>\n",
              "    </thead>\n",
              "    <tbody>\n",
              "        <tr>\n",
              "            <td>chips</td>\n",
              "            <td>0.4</td>\n",
              "        </tr>\n",
              "        <tr>\n",
              "            <td>cookies</td>\n",
              "            <td>0.4</td>\n",
              "        </tr>\n",
              "        <tr>\n",
              "            <td>eggs</td>\n",
              "            <td>0.6</td>\n",
              "        </tr>\n",
              "        <tr>\n",
              "            <td>juice</td>\n",
              "            <td>0.6</td>\n",
              "        </tr>\n",
              "        <tr>\n",
              "            <td>milk</td>\n",
              "            <td>0.8</td>\n",
              "        </tr>\n",
              "    </tbody>\n",
              "</table>"
            ]
          },
          "metadata": {},
          "execution_count": 30
        }
      ],
      "source": [
        "%%sql\n",
        "select item, 1.0*count() / (select count(distinct TID) from Shop)\n",
        "from Shop\n",
        "group by item"
      ]
    },
    {
      "cell_type": "markdown",
      "metadata": {
        "id": "9KGMyeY25hda"
      },
      "source": [
        "#### Do the same query but save the result in a table called \"ItemFreq\""
      ]
    },
    {
      "cell_type": "code",
      "execution_count": null,
      "metadata": {
        "id": "zMbzx4jv5hda",
        "colab": {
          "base_uri": "https://localhost:8080/",
          "height": 231
        },
        "outputId": "181df31f-94a5-450f-e62a-66798b0019b9"
      },
      "outputs": [
        {
          "output_type": "stream",
          "name": "stdout",
          "text": [
            " * sqlite://\n",
            "Done.\n",
            "Done.\n",
            "5 rows affected.\n",
            "Done.\n"
          ]
        },
        {
          "output_type": "execute_result",
          "data": {
            "text/plain": [
              "[('chips', 0.4),\n",
              " ('cookies', 0.4),\n",
              " ('eggs', 0.6),\n",
              " ('juice', 0.6),\n",
              " ('milk', 0.8)]"
            ],
            "text/html": [
              "<table>\n",
              "    <thead>\n",
              "        <tr>\n",
              "            <th>item</th>\n",
              "            <th>freq</th>\n",
              "        </tr>\n",
              "    </thead>\n",
              "    <tbody>\n",
              "        <tr>\n",
              "            <td>chips</td>\n",
              "            <td>0.4</td>\n",
              "        </tr>\n",
              "        <tr>\n",
              "            <td>cookies</td>\n",
              "            <td>0.4</td>\n",
              "        </tr>\n",
              "        <tr>\n",
              "            <td>eggs</td>\n",
              "            <td>0.6</td>\n",
              "        </tr>\n",
              "        <tr>\n",
              "            <td>juice</td>\n",
              "            <td>0.6</td>\n",
              "        </tr>\n",
              "        <tr>\n",
              "            <td>milk</td>\n",
              "            <td>0.8</td>\n",
              "        </tr>\n",
              "    </tbody>\n",
              "</table>"
            ]
          },
          "metadata": {},
          "execution_count": 31
        }
      ],
      "source": [
        "%%sql\n",
        "drop table if exists ItemFreq;\n",
        "create table ItemFreq(item, freq);\n",
        "insert into ItemFreq\n",
        "select item, 1.0*count() / (select count(distinct TID) from Shop)\n",
        "from Shop\n",
        "group by item;\n",
        "select * from ItemFreq"
      ]
    },
    {
      "cell_type": "markdown",
      "metadata": {
        "id": "cZ9-Ctls5hdb"
      },
      "source": [
        "### Association rules with one item on the left-hand side"
      ]
    },
    {
      "cell_type": "code",
      "execution_count": null,
      "metadata": {
        "id": "1Qrm2jXb5hdb",
        "colab": {
          "base_uri": "https://localhost:8080/"
        },
        "outputId": "4f116c52-35cf-44e4-e202-48ab7dd5d1e9"
      },
      "outputs": [
        {
          "output_type": "stream",
          "name": "stdout",
          "text": [
            "0.5\n"
          ]
        }
      ],
      "source": [
        "support = .5\n",
        "print(support)"
      ]
    },
    {
      "cell_type": "markdown",
      "metadata": {
        "id": "INPovK7w5hdb"
      },
      "source": [
        "#### First compute frequent item-sets of one item with specified support, as candidate left-hand sides of assocation rules. Save in table \"Frequent\" along with number of transactions."
      ]
    },
    {
      "cell_type": "code",
      "execution_count": null,
      "metadata": {
        "id": "1L-nutnU5hdc",
        "colab": {
          "base_uri": "https://localhost:8080/",
          "height": 189
        },
        "outputId": "3e95b742-65ee-4d60-88dc-3c61cab4b6ce"
      },
      "outputs": [
        {
          "output_type": "stream",
          "name": "stdout",
          "text": [
            " * sqlite://\n",
            "Done.\n",
            "Done.\n",
            "3 rows affected.\n",
            "Done.\n"
          ]
        },
        {
          "output_type": "execute_result",
          "data": {
            "text/plain": [
              "[('eggs', 3), ('juice', 3), ('milk', 4)]"
            ],
            "text/html": [
              "<table>\n",
              "    <thead>\n",
              "        <tr>\n",
              "            <th>item</th>\n",
              "            <th>numtrans</th>\n",
              "        </tr>\n",
              "    </thead>\n",
              "    <tbody>\n",
              "        <tr>\n",
              "            <td>eggs</td>\n",
              "            <td>3</td>\n",
              "        </tr>\n",
              "        <tr>\n",
              "            <td>juice</td>\n",
              "            <td>3</td>\n",
              "        </tr>\n",
              "        <tr>\n",
              "            <td>milk</td>\n",
              "            <td>4</td>\n",
              "        </tr>\n",
              "    </tbody>\n",
              "</table>"
            ]
          },
          "metadata": {},
          "execution_count": 33
        }
      ],
      "source": [
        "%%sql\n",
        "drop table if exists Frequent;\n",
        "create table Frequent(item, numtrans);\n",
        "insert into Frequent\n",
        "select item, count()\n",
        "from Shop\n",
        "group by item\n",
        "having 1.0*count() / (select count(distinct TID) from Shop) > :support;\n",
        "select * from Frequent"
      ]
    },
    {
      "cell_type": "markdown",
      "metadata": {
        "collapsed": true,
        "id": "DTc-oKBo5hdc"
      },
      "source": [
        "#### All pairs with frequent left-hand side, number of transactions for left-hand side, and number of transactions for both"
      ]
    },
    {
      "cell_type": "code",
      "execution_count": null,
      "metadata": {
        "id": "4lWU-NLo5hdc",
        "colab": {
          "base_uri": "https://localhost:8080/",
          "height": 305
        },
        "outputId": "e5f43dc3-3da8-42d2-8f28-5027723d54a0"
      },
      "outputs": [
        {
          "output_type": "stream",
          "name": "stdout",
          "text": [
            " * sqlite://\n",
            "Done.\n"
          ]
        },
        {
          "output_type": "execute_result",
          "data": {
            "text/plain": [
              "[('eggs', 'chips', 3, 1),\n",
              " ('eggs', 'juice', 3, 1),\n",
              " ('eggs', 'milk', 3, 2),\n",
              " ('juice', 'chips', 3, 1),\n",
              " ('juice', 'cookies', 3, 2),\n",
              " ('juice', 'eggs', 3, 1),\n",
              " ('juice', 'milk', 3, 3),\n",
              " ('milk', 'chips', 4, 1),\n",
              " ('milk', 'cookies', 4, 2),\n",
              " ('milk', 'eggs', 4, 2),\n",
              " ('milk', 'juice', 4, 3)]"
            ],
            "text/html": [
              "<table>\n",
              "    <thead>\n",
              "        <tr>\n",
              "            <th>LHS</th>\n",
              "            <th>RHS</th>\n",
              "            <th>numtrans</th>\n",
              "            <th>count()</th>\n",
              "        </tr>\n",
              "    </thead>\n",
              "    <tbody>\n",
              "        <tr>\n",
              "            <td>eggs</td>\n",
              "            <td>chips</td>\n",
              "            <td>3</td>\n",
              "            <td>1</td>\n",
              "        </tr>\n",
              "        <tr>\n",
              "            <td>eggs</td>\n",
              "            <td>juice</td>\n",
              "            <td>3</td>\n",
              "            <td>1</td>\n",
              "        </tr>\n",
              "        <tr>\n",
              "            <td>eggs</td>\n",
              "            <td>milk</td>\n",
              "            <td>3</td>\n",
              "            <td>2</td>\n",
              "        </tr>\n",
              "        <tr>\n",
              "            <td>juice</td>\n",
              "            <td>chips</td>\n",
              "            <td>3</td>\n",
              "            <td>1</td>\n",
              "        </tr>\n",
              "        <tr>\n",
              "            <td>juice</td>\n",
              "            <td>cookies</td>\n",
              "            <td>3</td>\n",
              "            <td>2</td>\n",
              "        </tr>\n",
              "        <tr>\n",
              "            <td>juice</td>\n",
              "            <td>eggs</td>\n",
              "            <td>3</td>\n",
              "            <td>1</td>\n",
              "        </tr>\n",
              "        <tr>\n",
              "            <td>juice</td>\n",
              "            <td>milk</td>\n",
              "            <td>3</td>\n",
              "            <td>3</td>\n",
              "        </tr>\n",
              "        <tr>\n",
              "            <td>milk</td>\n",
              "            <td>chips</td>\n",
              "            <td>4</td>\n",
              "            <td>1</td>\n",
              "        </tr>\n",
              "        <tr>\n",
              "            <td>milk</td>\n",
              "            <td>cookies</td>\n",
              "            <td>4</td>\n",
              "            <td>2</td>\n",
              "        </tr>\n",
              "        <tr>\n",
              "            <td>milk</td>\n",
              "            <td>eggs</td>\n",
              "            <td>4</td>\n",
              "            <td>2</td>\n",
              "        </tr>\n",
              "        <tr>\n",
              "            <td>milk</td>\n",
              "            <td>juice</td>\n",
              "            <td>4</td>\n",
              "            <td>3</td>\n",
              "        </tr>\n",
              "    </tbody>\n",
              "</table>"
            ]
          },
          "metadata": {},
          "execution_count": 34
        }
      ],
      "source": [
        "%%sql\n",
        "select T1.item as LHS, T2.item as RHS, F.numtrans, count()\n",
        "from Shop T1, Shop T2, Frequent F\n",
        "where T1.item = F.item\n",
        "and T1.TID = T2.TID\n",
        "and T1.item != T2.item\n",
        "group by T1.item, T2.item"
      ]
    },
    {
      "cell_type": "markdown",
      "metadata": {
        "collapsed": true,
        "id": "dCmlaJoN5hdc"
      },
      "source": [
        "#### Add check for lift > 1 to get final result"
      ]
    },
    {
      "cell_type": "code",
      "execution_count": null,
      "metadata": {
        "id": "dRWxFqFE5hdd",
        "colab": {
          "base_uri": "https://localhost:8080/",
          "height": 158
        },
        "outputId": "e753d377-389a-4f72-8ac2-a0b461abbeae"
      },
      "outputs": [
        {
          "output_type": "stream",
          "name": "stdout",
          "text": [
            " * sqlite://\n",
            "Done.\n"
          ]
        },
        {
          "output_type": "execute_result",
          "data": {
            "text/plain": [
              "[('juice', 'cookies', 1.6666666666666665),\n",
              " ('juice', 'milk', 1.25),\n",
              " ('milk', 'cookies', 1.25),\n",
              " ('milk', 'juice', 1.25)]"
            ],
            "text/html": [
              "<table>\n",
              "    <thead>\n",
              "        <tr>\n",
              "            <th>LHS</th>\n",
              "            <th>RHS</th>\n",
              "            <th>lift</th>\n",
              "        </tr>\n",
              "    </thead>\n",
              "    <tbody>\n",
              "        <tr>\n",
              "            <td>juice</td>\n",
              "            <td>cookies</td>\n",
              "            <td>1.6666666666666665</td>\n",
              "        </tr>\n",
              "        <tr>\n",
              "            <td>juice</td>\n",
              "            <td>milk</td>\n",
              "            <td>1.25</td>\n",
              "        </tr>\n",
              "        <tr>\n",
              "            <td>milk</td>\n",
              "            <td>cookies</td>\n",
              "            <td>1.25</td>\n",
              "        </tr>\n",
              "        <tr>\n",
              "            <td>milk</td>\n",
              "            <td>juice</td>\n",
              "            <td>1.25</td>\n",
              "        </tr>\n",
              "    </tbody>\n",
              "</table>"
            ]
          },
          "metadata": {},
          "execution_count": 35
        }
      ],
      "source": [
        "%%sql\n",
        "select T1.item as LHS, T2.item as RHS, (1.0*count() / F.numtrans) / I.freq as lift\n",
        "from Shop T1, Shop T2, Frequent F, ItemFreq I\n",
        "where T1.item = F.item\n",
        "and T1.TID = T2.TID\n",
        "and T2.item = I.item\n",
        "and T1.item != T2.item\n",
        "group by T1.item, T2.item\n",
        "having (1.0*count() / F.numtrans) / I.freq > 1"
      ]
    },
    {
      "cell_type": "markdown",
      "metadata": {
        "id": "g3iZSNBC5hdd"
      },
      "source": [
        "### Association rules with two items on the left-hand side"
      ]
    },
    {
      "cell_type": "code",
      "execution_count": null,
      "metadata": {
        "id": "7VzTYFeq5hdd",
        "colab": {
          "base_uri": "https://localhost:8080/"
        },
        "outputId": "8da8cc77-e8fc-4069-d37d-56f03b8604c2"
      },
      "outputs": [
        {
          "output_type": "stream",
          "name": "stdout",
          "text": [
            "0.5\n"
          ]
        }
      ],
      "source": [
        "support = .5\n",
        "print(support)"
      ]
    },
    {
      "cell_type": "markdown",
      "metadata": {
        "id": "V425MVNV5hdd"
      },
      "source": [
        "#### First compute frequent item-sets of two items with specified support, as candidate left-hand sides of assocation rules. Save in table \"Frequent\" along with number of transactions"
      ]
    },
    {
      "cell_type": "code",
      "execution_count": null,
      "metadata": {
        "id": "eCSxJLb25hdd",
        "colab": {
          "base_uri": "https://localhost:8080/",
          "height": 147
        },
        "outputId": "3c11b95a-6db7-4db6-ad10-2dc255c45fb8"
      },
      "outputs": [
        {
          "output_type": "stream",
          "name": "stdout",
          "text": [
            " * sqlite://\n",
            "Done.\n",
            "Done.\n",
            "1 rows affected.\n",
            "Done.\n"
          ]
        },
        {
          "output_type": "execute_result",
          "data": {
            "text/plain": [
              "[('juice', 'milk', 3)]"
            ],
            "text/html": [
              "<table>\n",
              "    <thead>\n",
              "        <tr>\n",
              "            <th>item1</th>\n",
              "            <th>item2</th>\n",
              "            <th>numtrans</th>\n",
              "        </tr>\n",
              "    </thead>\n",
              "    <tbody>\n",
              "        <tr>\n",
              "            <td>juice</td>\n",
              "            <td>milk</td>\n",
              "            <td>3</td>\n",
              "        </tr>\n",
              "    </tbody>\n",
              "</table>"
            ]
          },
          "metadata": {},
          "execution_count": 37
        }
      ],
      "source": [
        "%%sql\n",
        "drop table if exists Frequent;\n",
        "create table Frequent(item1, item2, numtrans);\n",
        "insert into Frequent\n",
        "select T1.item, T2.item, count()\n",
        "from Shop T1, Shop T2\n",
        "where T1.TID = T2.TID\n",
        "and T1.item < T2.item\n",
        "group by T1.item, T2.item\n",
        "having 1.0*count() / (select count(distinct TID) from Shop) > :support;\n",
        "select * from Frequent"
      ]
    },
    {
      "cell_type": "markdown",
      "metadata": {
        "collapsed": true,
        "id": "wXoyJM8I5hde"
      },
      "source": [
        "#### All triples with frequent left-hand side, number of transactions for left-hand side, and number of transactions for all three"
      ]
    },
    {
      "cell_type": "code",
      "execution_count": null,
      "metadata": {
        "id": "xmg5WYSY5hde",
        "colab": {
          "base_uri": "https://localhost:8080/",
          "height": 137
        },
        "outputId": "c0b5ac39-fc24-4800-cb16-b29a447319fc"
      },
      "outputs": [
        {
          "output_type": "stream",
          "name": "stdout",
          "text": [
            " * sqlite://\n",
            "Done.\n"
          ]
        },
        {
          "output_type": "execute_result",
          "data": {
            "text/plain": [
              "[('juice', 'milk', 'chips', 3, 1),\n",
              " ('juice', 'milk', 'cookies', 3, 2),\n",
              " ('juice', 'milk', 'eggs', 3, 1)]"
            ],
            "text/html": [
              "<table>\n",
              "    <thead>\n",
              "        <tr>\n",
              "            <th>LHS1</th>\n",
              "            <th>LHS2</th>\n",
              "            <th>RHS</th>\n",
              "            <th>numtrans</th>\n",
              "            <th>count()</th>\n",
              "        </tr>\n",
              "    </thead>\n",
              "    <tbody>\n",
              "        <tr>\n",
              "            <td>juice</td>\n",
              "            <td>milk</td>\n",
              "            <td>chips</td>\n",
              "            <td>3</td>\n",
              "            <td>1</td>\n",
              "        </tr>\n",
              "        <tr>\n",
              "            <td>juice</td>\n",
              "            <td>milk</td>\n",
              "            <td>cookies</td>\n",
              "            <td>3</td>\n",
              "            <td>2</td>\n",
              "        </tr>\n",
              "        <tr>\n",
              "            <td>juice</td>\n",
              "            <td>milk</td>\n",
              "            <td>eggs</td>\n",
              "            <td>3</td>\n",
              "            <td>1</td>\n",
              "        </tr>\n",
              "    </tbody>\n",
              "</table>"
            ]
          },
          "metadata": {},
          "execution_count": 38
        }
      ],
      "source": [
        "%%sql\n",
        "select T1.item as LHS1, T2.item as LHS2, T3.item as RHS, F.numtrans, count()\n",
        "from Shop T1, Shop T2, Shop T3, Frequent F\n",
        "where T1.item = F.item1 and T2.item = F.item2\n",
        "and T1.TID = T2.TID and T2.TID = T3.TID\n",
        "and T1.item != T2.item and T2.item != T3.item and T1.item != T3.item\n",
        "group by T1.item, T2.item, T3.item"
      ]
    },
    {
      "cell_type": "markdown",
      "metadata": {
        "collapsed": true,
        "id": "CJjk9qNg5hde"
      },
      "source": [
        "#### Add check for lift > 1 to get final result"
      ]
    },
    {
      "cell_type": "code",
      "execution_count": null,
      "metadata": {
        "id": "nqYbU0gf5hde",
        "colab": {
          "base_uri": "https://localhost:8080/",
          "height": 95
        },
        "outputId": "7fcb2477-d7bf-4d91-a11b-9dcbc571805f"
      },
      "outputs": [
        {
          "output_type": "stream",
          "name": "stdout",
          "text": [
            " * sqlite://\n",
            "Done.\n"
          ]
        },
        {
          "output_type": "execute_result",
          "data": {
            "text/plain": [
              "[('juice', 'milk', 'cookies', 1.6666666666666665)]"
            ],
            "text/html": [
              "<table>\n",
              "    <thead>\n",
              "        <tr>\n",
              "            <th>LHS1</th>\n",
              "            <th>LHS2</th>\n",
              "            <th>RHS</th>\n",
              "            <th>lift</th>\n",
              "        </tr>\n",
              "    </thead>\n",
              "    <tbody>\n",
              "        <tr>\n",
              "            <td>juice</td>\n",
              "            <td>milk</td>\n",
              "            <td>cookies</td>\n",
              "            <td>1.6666666666666665</td>\n",
              "        </tr>\n",
              "    </tbody>\n",
              "</table>"
            ]
          },
          "metadata": {},
          "execution_count": 39
        }
      ],
      "source": [
        "%%sql\n",
        "select T1.item as LHS1, T2.item as LHS2, T3.item as RHS, (1.0*count() / F.numtrans) / I.freq as lift\n",
        "from Shop T1, Shop T2, Shop T3, Frequent F, ItemFreq I\n",
        "where T1.item = F.item1 and T2.item = F.item2\n",
        "and T1.TID = T2.TID and T2.TID = T3.TID and T3.item = I.item\n",
        "and T1.item != T2.item and T2.item != T3.item and T1.item != T3.item\n",
        "group by T1.item, T2.item, T3.item\n",
        "having (1.0*count() / F.numtrans) / I.freq > 1"
      ]
    },
    {
      "cell_type": "markdown",
      "metadata": {
        "id": "hCs1K07E5hde"
      },
      "source": [
        "### <font color = 'green'>**Your Turn - Movies dataset association rules**</font>"
      ]
    },
    {
      "cell_type": "markdown",
      "metadata": {
        "id": "fe-pNwl55hdf"
      },
      "source": [
        "#### Mine for association rules in the Movies dataset with three items on the left-hand side. Find support and confidence thresholds (need not be the same) so the number of association rules is more than 10 but less than 20.\n"
      ]
    },
    {
      "cell_type": "code",
      "execution_count": 85,
      "metadata": {
        "id": "WV7CSwOp5hdf",
        "colab": {
          "base_uri": "https://localhost:8080/"
        },
        "outputId": "fafdfa4d-fdb2-4e84-b67b-4437bd330026"
      },
      "outputs": [
        {
          "output_type": "stream",
          "name": "stdout",
          "text": [
            "0.01 0.92\n"
          ]
        }
      ],
      "source": [
        "support = .01\n",
        "confidence = .92\n",
        "print(support, confidence)"
      ]
    },
    {
      "cell_type": "code",
      "execution_count": 86,
      "metadata": {
        "id": "d2Yx2-k95hdf",
        "colab": {
          "base_uri": "https://localhost:8080/",
          "height": 336
        },
        "outputId": "12505ed1-46a6-4215-9e10-6c7472929c32"
      },
      "outputs": [
        {
          "output_type": "stream",
          "name": "stdout",
          "text": [
            " * sqlite://\n",
            "Done.\n",
            "Done.\n",
            "81 rows affected.\n",
            "Done.\n"
          ]
        },
        {
          "output_type": "execute_result",
          "data": {
            "text/plain": [
              "[('Big Eyes', 'Boyhood', 'Gone Girl', 14),\n",
              " ('Big Eyes', 'Boyhood', 'The Imitation Game', 15),\n",
              " ('Big Eyes', 'Gone Girl', 'The Imitation Game', 17),\n",
              " ('Big Hero 6', 'Boyhood', 'Fury', 29),\n",
              " ('Big Hero 6', 'Boyhood', 'Gone Girl', 56),\n",
              " ('Big Hero 6', 'Boyhood', 'Inside Out', 39),\n",
              " ('Big Hero 6', 'Boyhood', 'The Fault in Our Stars', 23),\n",
              " ('Big Hero 6', 'Boyhood', 'The Imitation Game', 57),\n",
              " ('Big Hero 6', 'Boyhood', 'Wild Tales', 14),\n",
              " ('Big Hero 6', 'Calvary', 'Gone Girl', 15)]"
            ],
            "text/html": [
              "<table>\n",
              "    <thead>\n",
              "        <tr>\n",
              "            <th>item1</th>\n",
              "            <th>item2</th>\n",
              "            <th>item3</th>\n",
              "            <th>numtrans</th>\n",
              "        </tr>\n",
              "    </thead>\n",
              "    <tbody>\n",
              "        <tr>\n",
              "            <td>Big Eyes</td>\n",
              "            <td>Boyhood</td>\n",
              "            <td>Gone Girl</td>\n",
              "            <td>14</td>\n",
              "        </tr>\n",
              "        <tr>\n",
              "            <td>Big Eyes</td>\n",
              "            <td>Boyhood</td>\n",
              "            <td>The Imitation Game</td>\n",
              "            <td>15</td>\n",
              "        </tr>\n",
              "        <tr>\n",
              "            <td>Big Eyes</td>\n",
              "            <td>Gone Girl</td>\n",
              "            <td>The Imitation Game</td>\n",
              "            <td>17</td>\n",
              "        </tr>\n",
              "        <tr>\n",
              "            <td>Big Hero 6</td>\n",
              "            <td>Boyhood</td>\n",
              "            <td>Fury</td>\n",
              "            <td>29</td>\n",
              "        </tr>\n",
              "        <tr>\n",
              "            <td>Big Hero 6</td>\n",
              "            <td>Boyhood</td>\n",
              "            <td>Gone Girl</td>\n",
              "            <td>56</td>\n",
              "        </tr>\n",
              "        <tr>\n",
              "            <td>Big Hero 6</td>\n",
              "            <td>Boyhood</td>\n",
              "            <td>Inside Out</td>\n",
              "            <td>39</td>\n",
              "        </tr>\n",
              "        <tr>\n",
              "            <td>Big Hero 6</td>\n",
              "            <td>Boyhood</td>\n",
              "            <td>The Fault in Our Stars</td>\n",
              "            <td>23</td>\n",
              "        </tr>\n",
              "        <tr>\n",
              "            <td>Big Hero 6</td>\n",
              "            <td>Boyhood</td>\n",
              "            <td>The Imitation Game</td>\n",
              "            <td>57</td>\n",
              "        </tr>\n",
              "        <tr>\n",
              "            <td>Big Hero 6</td>\n",
              "            <td>Boyhood</td>\n",
              "            <td>Wild Tales</td>\n",
              "            <td>14</td>\n",
              "        </tr>\n",
              "        <tr>\n",
              "            <td>Big Hero 6</td>\n",
              "            <td>Calvary</td>\n",
              "            <td>Gone Girl</td>\n",
              "            <td>15</td>\n",
              "        </tr>\n",
              "    </tbody>\n",
              "</table>"
            ]
          },
          "metadata": {},
          "execution_count": 86
        }
      ],
      "source": [
        "%%sql\n",
        "drop table if exists Frequent;\n",
        "create table Frequent(item1, item2, item3, numtrans);\n",
        "insert into Frequent\n",
        "select T1.item, T2.item, T3.item, count()\n",
        "from Movies T1, Movies T2, Movies T3\n",
        "where T1.TID = T2.TID and T2.TID = T3.TID\n",
        "and T1.item < T2.item and T2.item < T3.item\n",
        "group by T1.item, T2.item, T3.item\n",
        "having 1.0*count() / (select count(distinct TID) from Movies) > :support;\n",
        "select * from Frequent limit 10; -- Displaying the first 10 frequent itemsets"
      ]
    },
    {
      "cell_type": "code",
      "execution_count": 87,
      "metadata": {
        "id": "MQ2G-31A5hdf",
        "colab": {
          "base_uri": "https://localhost:8080/",
          "height": 430
        },
        "outputId": "765c0504-0846-4b92-d783-0f38c7f7802b"
      },
      "outputs": [
        {
          "output_type": "stream",
          "name": "stdout",
          "text": [
            " * sqlite://\n",
            "Done.\n"
          ]
        },
        {
          "output_type": "execute_result",
          "data": {
            "text/plain": [
              "[('Big Hero 6', 'Boyhood', 'Fury', 'Gone Girl'),\n",
              " ('Big Hero 6', 'Boyhood', 'Fury', 'The Imitation Game'),\n",
              " ('Big Hero 6', 'Boyhood', 'Wild Tales', 'Gone Girl'),\n",
              " ('Big Hero 6', 'Boyhood', 'Wild Tales', 'The Imitation Game'),\n",
              " ('Big Hero 6', 'Calvary', 'Gone Girl', 'The Imitation Game'),\n",
              " ('Big Hero 6', 'Calvary', 'The Imitation Game', 'Gone Girl'),\n",
              " ('Big Hero 6', 'Fury', 'Transformers: Age of Extinction', 'The Imitation Game'),\n",
              " ('Big Hero 6', 'The Hunger Games: Mockingjay - Part 2', 'The Imitation Game', 'Inside Out'),\n",
              " ('Boyhood', 'Calvary', 'Fury', 'Gone Girl'),\n",
              " ('Boyhood', 'Calvary', 'Fury', 'The Imitation Game'),\n",
              " ('Boyhood', 'Fury', 'Inside Out', 'Gone Girl'),\n",
              " ('Boyhood', 'Fury', 'Inside Out', 'The Imitation Game'),\n",
              " ('Calvary', 'Fury', 'Gone Girl', 'The Imitation Game'),\n",
              " ('Calvary', 'Fury', 'The Imitation Game', 'Gone Girl'),\n",
              " ('Fury', 'Gone Girl', 'Wild Tales', 'The Imitation Game'),\n",
              " ('Fury', 'Inside Out', 'The Imitation Game', 'Gone Girl'),\n",
              " ('Fury', 'The Imitation Game', 'Wild Tales', 'Gone Girl')]"
            ],
            "text/html": [
              "<table>\n",
              "    <thead>\n",
              "        <tr>\n",
              "            <th>LHS1</th>\n",
              "            <th>LHS2</th>\n",
              "            <th>LHS3</th>\n",
              "            <th>RHS</th>\n",
              "        </tr>\n",
              "    </thead>\n",
              "    <tbody>\n",
              "        <tr>\n",
              "            <td>Big Hero 6</td>\n",
              "            <td>Boyhood</td>\n",
              "            <td>Fury</td>\n",
              "            <td>Gone Girl</td>\n",
              "        </tr>\n",
              "        <tr>\n",
              "            <td>Big Hero 6</td>\n",
              "            <td>Boyhood</td>\n",
              "            <td>Fury</td>\n",
              "            <td>The Imitation Game</td>\n",
              "        </tr>\n",
              "        <tr>\n",
              "            <td>Big Hero 6</td>\n",
              "            <td>Boyhood</td>\n",
              "            <td>Wild Tales</td>\n",
              "            <td>Gone Girl</td>\n",
              "        </tr>\n",
              "        <tr>\n",
              "            <td>Big Hero 6</td>\n",
              "            <td>Boyhood</td>\n",
              "            <td>Wild Tales</td>\n",
              "            <td>The Imitation Game</td>\n",
              "        </tr>\n",
              "        <tr>\n",
              "            <td>Big Hero 6</td>\n",
              "            <td>Calvary</td>\n",
              "            <td>Gone Girl</td>\n",
              "            <td>The Imitation Game</td>\n",
              "        </tr>\n",
              "        <tr>\n",
              "            <td>Big Hero 6</td>\n",
              "            <td>Calvary</td>\n",
              "            <td>The Imitation Game</td>\n",
              "            <td>Gone Girl</td>\n",
              "        </tr>\n",
              "        <tr>\n",
              "            <td>Big Hero 6</td>\n",
              "            <td>Fury</td>\n",
              "            <td>Transformers: Age of Extinction</td>\n",
              "            <td>The Imitation Game</td>\n",
              "        </tr>\n",
              "        <tr>\n",
              "            <td>Big Hero 6</td>\n",
              "            <td>The Hunger Games: Mockingjay - Part 2</td>\n",
              "            <td>The Imitation Game</td>\n",
              "            <td>Inside Out</td>\n",
              "        </tr>\n",
              "        <tr>\n",
              "            <td>Boyhood</td>\n",
              "            <td>Calvary</td>\n",
              "            <td>Fury</td>\n",
              "            <td>Gone Girl</td>\n",
              "        </tr>\n",
              "        <tr>\n",
              "            <td>Boyhood</td>\n",
              "            <td>Calvary</td>\n",
              "            <td>Fury</td>\n",
              "            <td>The Imitation Game</td>\n",
              "        </tr>\n",
              "        <tr>\n",
              "            <td>Boyhood</td>\n",
              "            <td>Fury</td>\n",
              "            <td>Inside Out</td>\n",
              "            <td>Gone Girl</td>\n",
              "        </tr>\n",
              "        <tr>\n",
              "            <td>Boyhood</td>\n",
              "            <td>Fury</td>\n",
              "            <td>Inside Out</td>\n",
              "            <td>The Imitation Game</td>\n",
              "        </tr>\n",
              "        <tr>\n",
              "            <td>Calvary</td>\n",
              "            <td>Fury</td>\n",
              "            <td>Gone Girl</td>\n",
              "            <td>The Imitation Game</td>\n",
              "        </tr>\n",
              "        <tr>\n",
              "            <td>Calvary</td>\n",
              "            <td>Fury</td>\n",
              "            <td>The Imitation Game</td>\n",
              "            <td>Gone Girl</td>\n",
              "        </tr>\n",
              "        <tr>\n",
              "            <td>Fury</td>\n",
              "            <td>Gone Girl</td>\n",
              "            <td>Wild Tales</td>\n",
              "            <td>The Imitation Game</td>\n",
              "        </tr>\n",
              "        <tr>\n",
              "            <td>Fury</td>\n",
              "            <td>Inside Out</td>\n",
              "            <td>The Imitation Game</td>\n",
              "            <td>Gone Girl</td>\n",
              "        </tr>\n",
              "        <tr>\n",
              "            <td>Fury</td>\n",
              "            <td>The Imitation Game</td>\n",
              "            <td>Wild Tales</td>\n",
              "            <td>Gone Girl</td>\n",
              "        </tr>\n",
              "    </tbody>\n",
              "</table>"
            ]
          },
          "metadata": {},
          "execution_count": 87
        }
      ],
      "source": [
        "%%sql\n",
        "select T1.item as LHS1, T2.item as LHS2, T3.item as LHS3, T4.item as RHS\n",
        "from Movies T1, Movies T2, Movies T3, Movies T4, Frequent F\n",
        "where T1.item = F.item1 and T2.item = F.item2 and T3.item = F.item3\n",
        "and T1.TID = T2.TID and T2.TID = T3.TID and T3.TID = T4.TID\n",
        "and T4.item != T1.item and T4.item != T2.item and T4.item != T3.item\n",
        "group by T1.item, T2.item, T3.item, T4.item\n",
        "having 1.0*count() / F.numtrans > :confidence"
      ]
    },
    {
      "cell_type": "markdown",
      "metadata": {
        "id": "omTvh-LS5hdf"
      },
      "source": [
        "#### Mine for association rules in the Movies dataset with three items on the left-hand side. Find support and lift thresholds so the number of association rules is more than 10 but less than 20.\n"
      ]
    },
    {
      "cell_type": "code",
      "execution_count": 88,
      "metadata": {
        "id": "Q6MOeZ4m5hdg",
        "colab": {
          "base_uri": "https://localhost:8080/"
        },
        "outputId": "f13dff59-c502-410c-f103-0890fcfd2a2d"
      },
      "outputs": [
        {
          "output_type": "stream",
          "name": "stdout",
          "text": [
            "0.08 0.5\n"
          ]
        }
      ],
      "source": [
        "support = .08\n",
        "lift = .5\n",
        "print(support, lift)"
      ]
    },
    {
      "cell_type": "code",
      "execution_count": 73,
      "metadata": {
        "id": "cDYLyWMp5hdg",
        "colab": {
          "base_uri": "https://localhost:8080/",
          "height": 336
        },
        "outputId": "2d3db625-8d98-4400-ba27-9fb088141945"
      },
      "outputs": [
        {
          "output_type": "stream",
          "name": "stdout",
          "text": [
            " * sqlite://\n",
            "Done.\n",
            "Done.\n",
            "123 rows affected.\n",
            "Done.\n"
          ]
        },
        {
          "output_type": "execute_result",
          "data": {
            "text/plain": [
              "[('400 Days', 0.002170767004341534),\n",
              " ('A Walk in the Woods', 0.000723589001447178),\n",
              " ('About Alex', 0.005065123010130246),\n",
              " ('Action Jackson', 0.000723589001447178),\n",
              " ('American Ultra', 0.013024602026049204),\n",
              " ('Annie', 0.004341534008683068),\n",
              " ('Anti-Social', 0.000723589001447178),\n",
              " ('Appropriate Behaviour', 0.001447178002894356),\n",
              " ('Ascension', 0.002170767004341534),\n",
              " ('Aziz Ansari: Live at Madison Square Garden', 0.000723589001447178)]"
            ],
            "text/html": [
              "<table>\n",
              "    <thead>\n",
              "        <tr>\n",
              "            <th>item</th>\n",
              "            <th>freq</th>\n",
              "        </tr>\n",
              "    </thead>\n",
              "    <tbody>\n",
              "        <tr>\n",
              "            <td>400 Days</td>\n",
              "            <td>0.002170767004341534</td>\n",
              "        </tr>\n",
              "        <tr>\n",
              "            <td>A Walk in the Woods</td>\n",
              "            <td>0.000723589001447178</td>\n",
              "        </tr>\n",
              "        <tr>\n",
              "            <td>About Alex</td>\n",
              "            <td>0.005065123010130246</td>\n",
              "        </tr>\n",
              "        <tr>\n",
              "            <td>Action Jackson</td>\n",
              "            <td>0.000723589001447178</td>\n",
              "        </tr>\n",
              "        <tr>\n",
              "            <td>American Ultra</td>\n",
              "            <td>0.013024602026049204</td>\n",
              "        </tr>\n",
              "        <tr>\n",
              "            <td>Annie</td>\n",
              "            <td>0.004341534008683068</td>\n",
              "        </tr>\n",
              "        <tr>\n",
              "            <td>Anti-Social</td>\n",
              "            <td>0.000723589001447178</td>\n",
              "        </tr>\n",
              "        <tr>\n",
              "            <td>Appropriate Behaviour</td>\n",
              "            <td>0.001447178002894356</td>\n",
              "        </tr>\n",
              "        <tr>\n",
              "            <td>Ascension</td>\n",
              "            <td>0.002170767004341534</td>\n",
              "        </tr>\n",
              "        <tr>\n",
              "            <td>Aziz Ansari: Live at Madison Square Garden</td>\n",
              "            <td>0.000723589001447178</td>\n",
              "        </tr>\n",
              "    </tbody>\n",
              "</table>"
            ]
          },
          "metadata": {},
          "execution_count": 73
        }
      ],
      "source": [
        "%%sql\n",
        "drop table if exists ItemFreq;\n",
        "\n",
        "create table ItemFreq(item, freq);\n",
        "insert into ItemFreq\n",
        "select item, 1.0*count() / (select count(distinct TID) from Movies)\n",
        "from Movies\n",
        "group by item;\n",
        "select * from ItemFreq limit 10; -- Displaying the first 10 item frequencies"
      ]
    },
    {
      "cell_type": "code",
      "execution_count": 89,
      "metadata": {
        "id": "Ax-Wzz195hdg",
        "colab": {
          "base_uri": "https://localhost:8080/",
          "height": 147
        },
        "outputId": "81163a58-7738-4cd1-f417-71150b05ee47"
      },
      "outputs": [
        {
          "output_type": "stream",
          "name": "stdout",
          "text": [
            " * sqlite://\n",
            "Done.\n",
            "Done.\n",
            "1 rows affected.\n",
            "Done.\n"
          ]
        },
        {
          "output_type": "execute_result",
          "data": {
            "text/plain": [
              "[('Big Hero 6', 'Gone Girl', 'The Imitation Game', 119)]"
            ],
            "text/html": [
              "<table>\n",
              "    <thead>\n",
              "        <tr>\n",
              "            <th>item1</th>\n",
              "            <th>item2</th>\n",
              "            <th>item3</th>\n",
              "            <th>numtrans</th>\n",
              "        </tr>\n",
              "    </thead>\n",
              "    <tbody>\n",
              "        <tr>\n",
              "            <td>Big Hero 6</td>\n",
              "            <td>Gone Girl</td>\n",
              "            <td>The Imitation Game</td>\n",
              "            <td>119</td>\n",
              "        </tr>\n",
              "    </tbody>\n",
              "</table>"
            ]
          },
          "metadata": {},
          "execution_count": 89
        }
      ],
      "source": [
        "%%sql\n",
        "drop table if exists Frequent;\n",
        "create table Frequent(item1, item2, item3, numtrans);\n",
        "insert into Frequent\n",
        "select T1.item, T2.item, T3.item, count()\n",
        "from Movies T1, Movies T2, Movies T3\n",
        "where T1.TID = T2.TID and T2.TID = T3.TID\n",
        "and T1.item < T2.item and T2.item < T3.item\n",
        "group by T1.item, T2.item, T3.item\n",
        "having 1.0*count() / (select count(distinct TID) from Movies) > :support;\n",
        "select * from Frequent limit 10; -- Displaying the first 10 frequent itemsets"
      ]
    },
    {
      "cell_type": "code",
      "execution_count": 90,
      "metadata": {
        "id": "UD7gXG7w5hdg",
        "colab": {
          "base_uri": "https://localhost:8080/",
          "height": 1000
        },
        "outputId": "b5bd6c50-de66-4581-f9ca-4e5be367d970"
      },
      "outputs": [
        {
          "output_type": "stream",
          "name": "stdout",
          "text": [
            " * sqlite://\n",
            "Done.\n"
          ]
        },
        {
          "output_type": "execute_result",
          "data": {
            "text/plain": [
              "[('Big Hero 6', 'Gone Girl', 'The Imitation Game', 'About Alex', 1.65906362545018),\n",
              " ('Big Hero 6', 'Gone Girl', 'The Imitation Game', 'Action Jackson', 11.61344537815126),\n",
              " ('Big Hero 6', 'Gone Girl', 'The Imitation Game', 'American Ultra', 3.8711484593837535),\n",
              " ('Big Hero 6', 'Gone Girl', 'The Imitation Game', 'Annie', 3.871148459383753),\n",
              " ('Big Hero 6', 'Gone Girl', 'The Imitation Game', 'Ascension', 3.871148459383753),\n",
              " ('Big Hero 6', 'Gone Girl', 'The Imitation Game', 'Best of Enemies', 3.871148459383753),\n",
              " ('Big Hero 6', 'Gone Girl', 'The Imitation Game', 'Big Eyes', 4.0046363372935385),\n",
              " ('Big Hero 6', 'Gone Girl', 'The Imitation Game', 'Boyhood', 2.343063541205956),\n",
              " ('Big Hero 6', 'Gone Girl', 'The Imitation Game', 'Breathe', 11.61344537815126),\n",
              " ('Big Hero 6', 'Gone Girl', 'The Imitation Game', 'Calvary', 4.516339869281046),\n",
              " ('Big Hero 6', 'Gone Girl', 'The Imitation Game', 'Court', 11.61344537815126),\n",
              " ('Big Hero 6', 'Gone Girl', 'The Imitation Game', 'Dear White People', 1.2903828197945844),\n",
              " ('Big Hero 6', 'Gone Girl', 'The Imitation Game', 'Faith of Our Fathers', 5.80672268907563),\n",
              " ('Big Hero 6', 'Gone Girl', 'The Imitation Game', 'Far from Men', 11.61344537815126),\n",
              " ('Big Hero 6', 'Gone Girl', 'The Imitation Game', 'Flowers in the Attic', 11.61344537815126),\n",
              " ('Big Hero 6', 'Gone Girl', 'The Imitation Game', 'Force Majeure (Turist)', 3.871148459383754),\n",
              " ('Big Hero 6', 'Gone Girl', 'The Imitation Game', 'Fury', 3.0295944464742415),\n",
              " ('Big Hero 6', 'Gone Girl', 'The Imitation Game', 'Gett: The Trial of Viviane Amsalem', 2.903361344537815),\n",
              " ('Big Hero 6', 'Gone Girl', 'The Imitation Game', \"I'll See You in My Dreams\", 11.61344537815126),\n",
              " ('Big Hero 6', 'Gone Girl', 'The Imitation Game', 'In Order of Disappearance (Kraftidioten)', 5.80672268907563),\n",
              " ('Big Hero 6', 'Gone Girl', 'The Imitation Game', 'In the Heart of the Sea', 2.5807656395891687),\n",
              " ('Big Hero 6', 'Gone Girl', 'The Imitation Game', 'Inside Out', 1.52265172735761),\n",
              " ('Big Hero 6', 'Gone Girl', 'The Imitation Game', 'Jim Gaffigan: Obsessed', 3.871148459383753),\n",
              " ('Big Hero 6', 'Gone Girl', 'The Imitation Game', 'Justice League: Gods and Monsters', 2.3226890756302523),\n",
              " ('Big Hero 6', 'Gone Girl', 'The Imitation Game', 'Laggies', 4.782006920415225),\n",
              " ('Big Hero 6', 'Gone Girl', 'The Imitation Game', 'Leviathan', 2.0197296309828277),\n",
              " ('Big Hero 6', 'Gone Girl', 'The Imitation Game', 'Listen Up Philip', 5.80672268907563),\n",
              " ('Big Hero 6', 'Gone Girl', 'The Imitation Game', 'Louis C.K.: Live at The Comedy Store', 1.8065359477124183),\n",
              " ('Big Hero 6', 'Gone Girl', 'The Imitation Game', 'Magic Mike XXL', 2.903361344537815),\n",
              " ('Big Hero 6', 'Gone Girl', 'The Imitation Game', 'Magic in the Moonlight', 2.787226890756303),\n",
              " ('Big Hero 6', 'Gone Girl', 'The Imitation Game', 'Man Up', 3.31812725090036),\n",
              " ('Big Hero 6', 'Gone Girl', 'The Imitation Game', 'Mr. Peabody & Sherman', 3.8711484593837535),\n",
              " ('Big Hero 6', 'Gone Girl', 'The Imitation Game', 'Outcast', 11.61344537815126),\n",
              " ('Big Hero 6', 'Gone Girl', 'The Imitation Game', 'Rage', 5.80672268907563),\n",
              " ('Big Hero 6', 'Gone Girl', 'The Imitation Game', 'Samba', 5.80672268907563),\n",
              " ('Big Hero 6', 'Gone Girl', 'The Imitation Game', 'Self/less', 3.096918767507003),\n",
              " ('Big Hero 6', 'Gone Girl', 'The Imitation Game', \"She's Funny That Way\", 2.3226890756302523),\n",
              " ('Big Hero 6', 'Gone Girl', 'The Imitation Game', 'Sisters', 2.3226890756302523),\n",
              " ('Big Hero 6', 'Gone Girl', 'The Imitation Game', 'Steve Jobs: The Man in the Machine', 1.65906362545018),\n",
              " ('Big Hero 6', 'Gone Girl', 'The Imitation Game', 'Strangerland', 3.871148459383753),\n",
              " ('Big Hero 6', 'Gone Girl', 'The Imitation Game', 'Teenage Mutant Ninja Turtles', 3.275587157940099),\n",
              " ('Big Hero 6', 'Gone Girl', 'The Imitation Game', 'The Best of Me', 2.3226890756302523),\n",
              " ('Big Hero 6', 'Gone Girl', 'The Imitation Game', 'The Big Short', 3.1673032849503437),\n",
              " ('Big Hero 6', 'Gone Girl', 'The Imitation Game', 'The Fault in Our Stars', 1.7786357786357785),\n",
              " ('Big Hero 6', 'Gone Girl', 'The Imitation Game', 'The Humbling', 11.61344537815126),\n",
              " ('Big Hero 6', 'Gone Girl', 'The Imitation Game', 'The Hunger Games: Mockingjay - Part 2', 1.4293471234647706),\n",
              " ('Big Hero 6', 'Gone Girl', 'The Imitation Game', 'The Little Death', 1.2903828197945844),\n",
              " ('Big Hero 6', 'Gone Girl', 'The Imitation Game', 'The Voices', 3.871148459383753),\n",
              " ('Big Hero 6', 'Gone Girl', 'The Imitation Game', 'The Wonders', 11.61344537815126),\n",
              " ('Big Hero 6', 'Gone Girl', 'The Imitation Game', 'Time Out of Mind', 11.61344537815126),\n",
              " ('Big Hero 6', 'Gone Girl', 'The Imitation Game', 'Transformers: Age of Extinction', 2.0197296309828277),\n",
              " ('Big Hero 6', 'Gone Girl', 'The Imitation Game', 'Turks & Caicos', 5.80672268907563),\n",
              " ('Big Hero 6', 'Gone Girl', 'The Imitation Game', 'V/H/S: Viral', 2.903361344537815),\n",
              " ('Big Hero 6', 'Gone Girl', 'The Imitation Game', 'Victor Frankenstein', 3.871148459383753),\n",
              " ('Big Hero 6', 'Gone Girl', 'The Imitation Game', 'Whitey: United States of America v. James J. Bulger', 11.61344537815126),\n",
              " ('Big Hero 6', 'Gone Girl', 'The Imitation Game', 'Wild Card', 4.645378151260505),\n",
              " ('Big Hero 6', 'Gone Girl', 'The Imitation Game', 'Wild Tales', 2.5617894216510133)]"
            ],
            "text/html": [
              "<table>\n",
              "    <thead>\n",
              "        <tr>\n",
              "            <th>LHS1</th>\n",
              "            <th>LHS2</th>\n",
              "            <th>LHS3</th>\n",
              "            <th>RHS</th>\n",
              "            <th>lift</th>\n",
              "        </tr>\n",
              "    </thead>\n",
              "    <tbody>\n",
              "        <tr>\n",
              "            <td>Big Hero 6</td>\n",
              "            <td>Gone Girl</td>\n",
              "            <td>The Imitation Game</td>\n",
              "            <td>About Alex</td>\n",
              "            <td>1.65906362545018</td>\n",
              "        </tr>\n",
              "        <tr>\n",
              "            <td>Big Hero 6</td>\n",
              "            <td>Gone Girl</td>\n",
              "            <td>The Imitation Game</td>\n",
              "            <td>Action Jackson</td>\n",
              "            <td>11.61344537815126</td>\n",
              "        </tr>\n",
              "        <tr>\n",
              "            <td>Big Hero 6</td>\n",
              "            <td>Gone Girl</td>\n",
              "            <td>The Imitation Game</td>\n",
              "            <td>American Ultra</td>\n",
              "            <td>3.8711484593837535</td>\n",
              "        </tr>\n",
              "        <tr>\n",
              "            <td>Big Hero 6</td>\n",
              "            <td>Gone Girl</td>\n",
              "            <td>The Imitation Game</td>\n",
              "            <td>Annie</td>\n",
              "            <td>3.871148459383753</td>\n",
              "        </tr>\n",
              "        <tr>\n",
              "            <td>Big Hero 6</td>\n",
              "            <td>Gone Girl</td>\n",
              "            <td>The Imitation Game</td>\n",
              "            <td>Ascension</td>\n",
              "            <td>3.871148459383753</td>\n",
              "        </tr>\n",
              "        <tr>\n",
              "            <td>Big Hero 6</td>\n",
              "            <td>Gone Girl</td>\n",
              "            <td>The Imitation Game</td>\n",
              "            <td>Best of Enemies</td>\n",
              "            <td>3.871148459383753</td>\n",
              "        </tr>\n",
              "        <tr>\n",
              "            <td>Big Hero 6</td>\n",
              "            <td>Gone Girl</td>\n",
              "            <td>The Imitation Game</td>\n",
              "            <td>Big Eyes</td>\n",
              "            <td>4.0046363372935385</td>\n",
              "        </tr>\n",
              "        <tr>\n",
              "            <td>Big Hero 6</td>\n",
              "            <td>Gone Girl</td>\n",
              "            <td>The Imitation Game</td>\n",
              "            <td>Boyhood</td>\n",
              "            <td>2.343063541205956</td>\n",
              "        </tr>\n",
              "        <tr>\n",
              "            <td>Big Hero 6</td>\n",
              "            <td>Gone Girl</td>\n",
              "            <td>The Imitation Game</td>\n",
              "            <td>Breathe</td>\n",
              "            <td>11.61344537815126</td>\n",
              "        </tr>\n",
              "        <tr>\n",
              "            <td>Big Hero 6</td>\n",
              "            <td>Gone Girl</td>\n",
              "            <td>The Imitation Game</td>\n",
              "            <td>Calvary</td>\n",
              "            <td>4.516339869281046</td>\n",
              "        </tr>\n",
              "        <tr>\n",
              "            <td>Big Hero 6</td>\n",
              "            <td>Gone Girl</td>\n",
              "            <td>The Imitation Game</td>\n",
              "            <td>Court</td>\n",
              "            <td>11.61344537815126</td>\n",
              "        </tr>\n",
              "        <tr>\n",
              "            <td>Big Hero 6</td>\n",
              "            <td>Gone Girl</td>\n",
              "            <td>The Imitation Game</td>\n",
              "            <td>Dear White People</td>\n",
              "            <td>1.2903828197945844</td>\n",
              "        </tr>\n",
              "        <tr>\n",
              "            <td>Big Hero 6</td>\n",
              "            <td>Gone Girl</td>\n",
              "            <td>The Imitation Game</td>\n",
              "            <td>Faith of Our Fathers</td>\n",
              "            <td>5.80672268907563</td>\n",
              "        </tr>\n",
              "        <tr>\n",
              "            <td>Big Hero 6</td>\n",
              "            <td>Gone Girl</td>\n",
              "            <td>The Imitation Game</td>\n",
              "            <td>Far from Men</td>\n",
              "            <td>11.61344537815126</td>\n",
              "        </tr>\n",
              "        <tr>\n",
              "            <td>Big Hero 6</td>\n",
              "            <td>Gone Girl</td>\n",
              "            <td>The Imitation Game</td>\n",
              "            <td>Flowers in the Attic</td>\n",
              "            <td>11.61344537815126</td>\n",
              "        </tr>\n",
              "        <tr>\n",
              "            <td>Big Hero 6</td>\n",
              "            <td>Gone Girl</td>\n",
              "            <td>The Imitation Game</td>\n",
              "            <td>Force Majeure (Turist)</td>\n",
              "            <td>3.871148459383754</td>\n",
              "        </tr>\n",
              "        <tr>\n",
              "            <td>Big Hero 6</td>\n",
              "            <td>Gone Girl</td>\n",
              "            <td>The Imitation Game</td>\n",
              "            <td>Fury</td>\n",
              "            <td>3.0295944464742415</td>\n",
              "        </tr>\n",
              "        <tr>\n",
              "            <td>Big Hero 6</td>\n",
              "            <td>Gone Girl</td>\n",
              "            <td>The Imitation Game</td>\n",
              "            <td>Gett: The Trial of Viviane Amsalem</td>\n",
              "            <td>2.903361344537815</td>\n",
              "        </tr>\n",
              "        <tr>\n",
              "            <td>Big Hero 6</td>\n",
              "            <td>Gone Girl</td>\n",
              "            <td>The Imitation Game</td>\n",
              "            <td>I&#x27;ll See You in My Dreams</td>\n",
              "            <td>11.61344537815126</td>\n",
              "        </tr>\n",
              "        <tr>\n",
              "            <td>Big Hero 6</td>\n",
              "            <td>Gone Girl</td>\n",
              "            <td>The Imitation Game</td>\n",
              "            <td>In Order of Disappearance (Kraftidioten)</td>\n",
              "            <td>5.80672268907563</td>\n",
              "        </tr>\n",
              "        <tr>\n",
              "            <td>Big Hero 6</td>\n",
              "            <td>Gone Girl</td>\n",
              "            <td>The Imitation Game</td>\n",
              "            <td>In the Heart of the Sea</td>\n",
              "            <td>2.5807656395891687</td>\n",
              "        </tr>\n",
              "        <tr>\n",
              "            <td>Big Hero 6</td>\n",
              "            <td>Gone Girl</td>\n",
              "            <td>The Imitation Game</td>\n",
              "            <td>Inside Out</td>\n",
              "            <td>1.52265172735761</td>\n",
              "        </tr>\n",
              "        <tr>\n",
              "            <td>Big Hero 6</td>\n",
              "            <td>Gone Girl</td>\n",
              "            <td>The Imitation Game</td>\n",
              "            <td>Jim Gaffigan: Obsessed</td>\n",
              "            <td>3.871148459383753</td>\n",
              "        </tr>\n",
              "        <tr>\n",
              "            <td>Big Hero 6</td>\n",
              "            <td>Gone Girl</td>\n",
              "            <td>The Imitation Game</td>\n",
              "            <td>Justice League: Gods and Monsters</td>\n",
              "            <td>2.3226890756302523</td>\n",
              "        </tr>\n",
              "        <tr>\n",
              "            <td>Big Hero 6</td>\n",
              "            <td>Gone Girl</td>\n",
              "            <td>The Imitation Game</td>\n",
              "            <td>Laggies</td>\n",
              "            <td>4.782006920415225</td>\n",
              "        </tr>\n",
              "        <tr>\n",
              "            <td>Big Hero 6</td>\n",
              "            <td>Gone Girl</td>\n",
              "            <td>The Imitation Game</td>\n",
              "            <td>Leviathan</td>\n",
              "            <td>2.0197296309828277</td>\n",
              "        </tr>\n",
              "        <tr>\n",
              "            <td>Big Hero 6</td>\n",
              "            <td>Gone Girl</td>\n",
              "            <td>The Imitation Game</td>\n",
              "            <td>Listen Up Philip</td>\n",
              "            <td>5.80672268907563</td>\n",
              "        </tr>\n",
              "        <tr>\n",
              "            <td>Big Hero 6</td>\n",
              "            <td>Gone Girl</td>\n",
              "            <td>The Imitation Game</td>\n",
              "            <td>Louis C.K.: Live at The Comedy Store</td>\n",
              "            <td>1.8065359477124183</td>\n",
              "        </tr>\n",
              "        <tr>\n",
              "            <td>Big Hero 6</td>\n",
              "            <td>Gone Girl</td>\n",
              "            <td>The Imitation Game</td>\n",
              "            <td>Magic Mike XXL</td>\n",
              "            <td>2.903361344537815</td>\n",
              "        </tr>\n",
              "        <tr>\n",
              "            <td>Big Hero 6</td>\n",
              "            <td>Gone Girl</td>\n",
              "            <td>The Imitation Game</td>\n",
              "            <td>Magic in the Moonlight</td>\n",
              "            <td>2.787226890756303</td>\n",
              "        </tr>\n",
              "        <tr>\n",
              "            <td>Big Hero 6</td>\n",
              "            <td>Gone Girl</td>\n",
              "            <td>The Imitation Game</td>\n",
              "            <td>Man Up</td>\n",
              "            <td>3.31812725090036</td>\n",
              "        </tr>\n",
              "        <tr>\n",
              "            <td>Big Hero 6</td>\n",
              "            <td>Gone Girl</td>\n",
              "            <td>The Imitation Game</td>\n",
              "            <td>Mr. Peabody &amp; Sherman</td>\n",
              "            <td>3.8711484593837535</td>\n",
              "        </tr>\n",
              "        <tr>\n",
              "            <td>Big Hero 6</td>\n",
              "            <td>Gone Girl</td>\n",
              "            <td>The Imitation Game</td>\n",
              "            <td>Outcast</td>\n",
              "            <td>11.61344537815126</td>\n",
              "        </tr>\n",
              "        <tr>\n",
              "            <td>Big Hero 6</td>\n",
              "            <td>Gone Girl</td>\n",
              "            <td>The Imitation Game</td>\n",
              "            <td>Rage</td>\n",
              "            <td>5.80672268907563</td>\n",
              "        </tr>\n",
              "        <tr>\n",
              "            <td>Big Hero 6</td>\n",
              "            <td>Gone Girl</td>\n",
              "            <td>The Imitation Game</td>\n",
              "            <td>Samba</td>\n",
              "            <td>5.80672268907563</td>\n",
              "        </tr>\n",
              "        <tr>\n",
              "            <td>Big Hero 6</td>\n",
              "            <td>Gone Girl</td>\n",
              "            <td>The Imitation Game</td>\n",
              "            <td>Self/less</td>\n",
              "            <td>3.096918767507003</td>\n",
              "        </tr>\n",
              "        <tr>\n",
              "            <td>Big Hero 6</td>\n",
              "            <td>Gone Girl</td>\n",
              "            <td>The Imitation Game</td>\n",
              "            <td>She&#x27;s Funny That Way</td>\n",
              "            <td>2.3226890756302523</td>\n",
              "        </tr>\n",
              "        <tr>\n",
              "            <td>Big Hero 6</td>\n",
              "            <td>Gone Girl</td>\n",
              "            <td>The Imitation Game</td>\n",
              "            <td>Sisters</td>\n",
              "            <td>2.3226890756302523</td>\n",
              "        </tr>\n",
              "        <tr>\n",
              "            <td>Big Hero 6</td>\n",
              "            <td>Gone Girl</td>\n",
              "            <td>The Imitation Game</td>\n",
              "            <td>Steve Jobs: The Man in the Machine</td>\n",
              "            <td>1.65906362545018</td>\n",
              "        </tr>\n",
              "        <tr>\n",
              "            <td>Big Hero 6</td>\n",
              "            <td>Gone Girl</td>\n",
              "            <td>The Imitation Game</td>\n",
              "            <td>Strangerland</td>\n",
              "            <td>3.871148459383753</td>\n",
              "        </tr>\n",
              "        <tr>\n",
              "            <td>Big Hero 6</td>\n",
              "            <td>Gone Girl</td>\n",
              "            <td>The Imitation Game</td>\n",
              "            <td>Teenage Mutant Ninja Turtles</td>\n",
              "            <td>3.275587157940099</td>\n",
              "        </tr>\n",
              "        <tr>\n",
              "            <td>Big Hero 6</td>\n",
              "            <td>Gone Girl</td>\n",
              "            <td>The Imitation Game</td>\n",
              "            <td>The Best of Me</td>\n",
              "            <td>2.3226890756302523</td>\n",
              "        </tr>\n",
              "        <tr>\n",
              "            <td>Big Hero 6</td>\n",
              "            <td>Gone Girl</td>\n",
              "            <td>The Imitation Game</td>\n",
              "            <td>The Big Short</td>\n",
              "            <td>3.1673032849503437</td>\n",
              "        </tr>\n",
              "        <tr>\n",
              "            <td>Big Hero 6</td>\n",
              "            <td>Gone Girl</td>\n",
              "            <td>The Imitation Game</td>\n",
              "            <td>The Fault in Our Stars</td>\n",
              "            <td>1.7786357786357785</td>\n",
              "        </tr>\n",
              "        <tr>\n",
              "            <td>Big Hero 6</td>\n",
              "            <td>Gone Girl</td>\n",
              "            <td>The Imitation Game</td>\n",
              "            <td>The Humbling</td>\n",
              "            <td>11.61344537815126</td>\n",
              "        </tr>\n",
              "        <tr>\n",
              "            <td>Big Hero 6</td>\n",
              "            <td>Gone Girl</td>\n",
              "            <td>The Imitation Game</td>\n",
              "            <td>The Hunger Games: Mockingjay - Part 2</td>\n",
              "            <td>1.4293471234647706</td>\n",
              "        </tr>\n",
              "        <tr>\n",
              "            <td>Big Hero 6</td>\n",
              "            <td>Gone Girl</td>\n",
              "            <td>The Imitation Game</td>\n",
              "            <td>The Little Death</td>\n",
              "            <td>1.2903828197945844</td>\n",
              "        </tr>\n",
              "        <tr>\n",
              "            <td>Big Hero 6</td>\n",
              "            <td>Gone Girl</td>\n",
              "            <td>The Imitation Game</td>\n",
              "            <td>The Voices</td>\n",
              "            <td>3.871148459383753</td>\n",
              "        </tr>\n",
              "        <tr>\n",
              "            <td>Big Hero 6</td>\n",
              "            <td>Gone Girl</td>\n",
              "            <td>The Imitation Game</td>\n",
              "            <td>The Wonders</td>\n",
              "            <td>11.61344537815126</td>\n",
              "        </tr>\n",
              "        <tr>\n",
              "            <td>Big Hero 6</td>\n",
              "            <td>Gone Girl</td>\n",
              "            <td>The Imitation Game</td>\n",
              "            <td>Time Out of Mind</td>\n",
              "            <td>11.61344537815126</td>\n",
              "        </tr>\n",
              "        <tr>\n",
              "            <td>Big Hero 6</td>\n",
              "            <td>Gone Girl</td>\n",
              "            <td>The Imitation Game</td>\n",
              "            <td>Transformers: Age of Extinction</td>\n",
              "            <td>2.0197296309828277</td>\n",
              "        </tr>\n",
              "        <tr>\n",
              "            <td>Big Hero 6</td>\n",
              "            <td>Gone Girl</td>\n",
              "            <td>The Imitation Game</td>\n",
              "            <td>Turks &amp; Caicos</td>\n",
              "            <td>5.80672268907563</td>\n",
              "        </tr>\n",
              "        <tr>\n",
              "            <td>Big Hero 6</td>\n",
              "            <td>Gone Girl</td>\n",
              "            <td>The Imitation Game</td>\n",
              "            <td>V/H/S: Viral</td>\n",
              "            <td>2.903361344537815</td>\n",
              "        </tr>\n",
              "        <tr>\n",
              "            <td>Big Hero 6</td>\n",
              "            <td>Gone Girl</td>\n",
              "            <td>The Imitation Game</td>\n",
              "            <td>Victor Frankenstein</td>\n",
              "            <td>3.871148459383753</td>\n",
              "        </tr>\n",
              "        <tr>\n",
              "            <td>Big Hero 6</td>\n",
              "            <td>Gone Girl</td>\n",
              "            <td>The Imitation Game</td>\n",
              "            <td>Whitey: United States of America v. James J. Bulger</td>\n",
              "            <td>11.61344537815126</td>\n",
              "        </tr>\n",
              "        <tr>\n",
              "            <td>Big Hero 6</td>\n",
              "            <td>Gone Girl</td>\n",
              "            <td>The Imitation Game</td>\n",
              "            <td>Wild Card</td>\n",
              "            <td>4.645378151260505</td>\n",
              "        </tr>\n",
              "        <tr>\n",
              "            <td>Big Hero 6</td>\n",
              "            <td>Gone Girl</td>\n",
              "            <td>The Imitation Game</td>\n",
              "            <td>Wild Tales</td>\n",
              "            <td>2.5617894216510133</td>\n",
              "        </tr>\n",
              "    </tbody>\n",
              "</table>"
            ]
          },
          "metadata": {},
          "execution_count": 90
        }
      ],
      "source": [
        "%%sql\n",
        "select T1.item as LHS1, T2.item as LHS2, T3.item as LHS3, T4.item as RHS, (1.0*count() / F.numtrans) / I.freq as lift\n",
        "from Movies T1, Movies T2, Movies T3, Movies T4, Frequent F, ItemFreq I\n",
        "where T1.item = F.item1 and T2.item = F.item2 and T3.item = F.item3\n",
        "and T1.TID = T2.TID and T2.TID = T3.TID and T3.TID = T4.TID\n",
        "and T4.item = I.item -- Join with ItemFreq to get the frequency of the RHS item\n",
        "and T4.item != T1.item and T4.item != T2.item and T4.item != T3.item\n",
        "group by T1.item, T2.item, T3.item, T4.item\n",
        "having (1.0*count() / F.numtrans) / I.freq > :lift"
      ]
    }
  ],
  "metadata": {
    "kernelspec": {
      "display_name": "Python 3",
      "language": "python",
      "name": "python3"
    },
    "language_info": {
      "codemirror_mode": {
        "name": "ipython",
        "version": 3
      },
      "file_extension": ".py",
      "mimetype": "text/x-python",
      "name": "python",
      "nbconvert_exporter": "python",
      "pygments_lexer": "ipython3",
      "version": "3.7.6"
    },
    "colab": {
      "provenance": []
    }
  },
  "nbformat": 4,
  "nbformat_minor": 0
}