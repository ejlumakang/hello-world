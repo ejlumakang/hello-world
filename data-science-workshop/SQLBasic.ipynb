{
  "cells": [
    {
      "cell_type": "markdown",
      "metadata": {
        "id": "W8yL6A0WMZiT"
      },
      "source": [
        "### **Basic SQL**"
      ]
    },
    {
      "cell_type": "code",
      "source": [
        "from google.colab import drive\n",
        "drive.mount('/content/drive')"
      ],
      "metadata": {
        "colab": {
          "base_uri": "https://localhost:8080/"
        },
        "id": "zlQpZZ1vGs88",
        "outputId": "cbd3a2da-e9bf-4567-9829-b6dc8122fecc"
      },
      "execution_count": null,
      "outputs": [
        {
          "output_type": "stream",
          "name": "stdout",
          "text": [
            "Mounted at /content/drive\n"
          ]
        }
      ]
    },
    {
      "cell_type": "markdown",
      "source": [
        "<font color=\"red\">File access required:</font> In Colab this notebook requires first uploading files **Cities.csv**, **Countries.csv**, **Players.csv**, and **Teams.csv** using the *Files* feature in the left toolbar. If running the notebook on a local computer, simply ensure these files are in the same workspace as the notebook."
      ],
      "metadata": {
        "id": "WfiM3utWx247"
      }
    },
    {
      "cell_type": "code",
      "execution_count": null,
      "metadata": {
        "id": "AY0V00I4MZiY"
      },
      "outputs": [],
      "source": [
        "# Set-up\n",
        "%load_ext sql\n",
        "%sql sqlite://\n",
        "import pandas as pd"
      ]
    },
    {
      "cell_type": "code",
      "execution_count": null,
      "metadata": {
        "id": "j3675wYXMZia",
        "colab": {
          "base_uri": "https://localhost:8080/",
          "height": 140
        },
        "outputId": "9b643c81-c4cb-4c9e-e0e3-6d2732268021"
      },
      "outputs": [
        {
          "output_type": "stream",
          "name": "stdout",
          "text": [
            " * sqlite://\n",
            "Done.\n",
            " * sqlite://\n",
            " * sqlite://\n",
            "Done.\n",
            " * sqlite://\n"
          ]
        },
        {
          "output_type": "execute_result",
          "data": {
            "text/plain": [
              "'Persisted countries'"
            ],
            "application/vnd.google.colaboratory.intrinsic+json": {
              "type": "string"
            }
          },
          "metadata": {},
          "execution_count": 3
        }
      ],
      "source": [
        "# Create database tables from CSV files\n",
        "with open('/content/drive/MyDrive/Google Colab/Basic & Advanced SQL/Cities.csv') as f: Cities = pd.read_csv(f, index_col=0)\n",
        "%sql drop table if exists Cities;\n",
        "%sql --persist Cities\n",
        "with open('/content/drive/MyDrive/Google Colab/Basic & Advanced SQL/Countries.csv') as f: Countries = pd.read_csv(f, index_col=0)\n",
        "%sql drop table if exists Countries;\n",
        "%sql --persist Countries"
      ]
    },
    {
      "cell_type": "markdown",
      "metadata": {
        "id": "xcwDLxOPMZia"
      },
      "source": [
        "#### Look at sample of Cities and Countries tables"
      ]
    },
    {
      "cell_type": "code",
      "execution_count": null,
      "metadata": {
        "id": "gp94gFNoMZib",
        "colab": {
          "base_uri": "https://localhost:8080/",
          "height": 182
        },
        "outputId": "cd8f30a1-af64-411e-af97-fc76ee0f70b4"
      },
      "outputs": [
        {
          "output_type": "stream",
          "name": "stdout",
          "text": [
            " * sqlite://\n",
            "Done.\n"
          ]
        },
        {
          "output_type": "execute_result",
          "data": {
            "text/plain": [
              "[('Aalborg', 'Denmark', 57.03, 9.92, 7.52),\n",
              " ('Aberdeen', 'United Kingdom', 57.17, -2.08, 8.1),\n",
              " ('Abisko', 'Sweden', 63.35, 18.83, 0.2),\n",
              " ('Adana', 'Turkey', 36.99, 35.32, 18.67),\n",
              " ('Albacete', 'Spain', 39.0, -1.87, 12.62)]"
            ],
            "text/html": [
              "<table>\n",
              "    <thead>\n",
              "        <tr>\n",
              "            <th>city</th>\n",
              "            <th>country</th>\n",
              "            <th>latitude</th>\n",
              "            <th>longitude</th>\n",
              "            <th>temperature</th>\n",
              "        </tr>\n",
              "    </thead>\n",
              "    <tbody>\n",
              "        <tr>\n",
              "            <td>Aalborg</td>\n",
              "            <td>Denmark</td>\n",
              "            <td>57.03</td>\n",
              "            <td>9.92</td>\n",
              "            <td>7.52</td>\n",
              "        </tr>\n",
              "        <tr>\n",
              "            <td>Aberdeen</td>\n",
              "            <td>United Kingdom</td>\n",
              "            <td>57.17</td>\n",
              "            <td>-2.08</td>\n",
              "            <td>8.1</td>\n",
              "        </tr>\n",
              "        <tr>\n",
              "            <td>Abisko</td>\n",
              "            <td>Sweden</td>\n",
              "            <td>63.35</td>\n",
              "            <td>18.83</td>\n",
              "            <td>0.2</td>\n",
              "        </tr>\n",
              "        <tr>\n",
              "            <td>Adana</td>\n",
              "            <td>Turkey</td>\n",
              "            <td>36.99</td>\n",
              "            <td>35.32</td>\n",
              "            <td>18.67</td>\n",
              "        </tr>\n",
              "        <tr>\n",
              "            <td>Albacete</td>\n",
              "            <td>Spain</td>\n",
              "            <td>39.0</td>\n",
              "            <td>-1.87</td>\n",
              "            <td>12.62</td>\n",
              "        </tr>\n",
              "    </tbody>\n",
              "</table>"
            ]
          },
          "metadata": {},
          "execution_count": 4
        }
      ],
      "source": [
        "%%sql\n",
        "select * from Cities limit 5"
      ]
    },
    {
      "cell_type": "code",
      "execution_count": null,
      "metadata": {
        "id": "05ek4NS5MZib",
        "colab": {
          "base_uri": "https://localhost:8080/",
          "height": 182
        },
        "outputId": "aa917a8c-e6dd-4f64-902c-f67dda43c8b3"
      },
      "outputs": [
        {
          "output_type": "stream",
          "name": "stdout",
          "text": [
            " * sqlite://\n",
            "Done.\n"
          ]
        },
        {
          "output_type": "execute_result",
          "data": {
            "text/plain": [
              "[('Albania', 2.9, 'no', 'yes'),\n",
              " ('Andorra', 0.07, 'no', 'no'),\n",
              " ('Austria', 8.57, 'yes', 'no'),\n",
              " ('Belarus', 9.48, 'no', 'no'),\n",
              " ('Belgium', 11.37, 'yes', 'yes')]"
            ],
            "text/html": [
              "<table>\n",
              "    <thead>\n",
              "        <tr>\n",
              "            <th>country</th>\n",
              "            <th>population</th>\n",
              "            <th>EU</th>\n",
              "            <th>coastline</th>\n",
              "        </tr>\n",
              "    </thead>\n",
              "    <tbody>\n",
              "        <tr>\n",
              "            <td>Albania</td>\n",
              "            <td>2.9</td>\n",
              "            <td>no</td>\n",
              "            <td>yes</td>\n",
              "        </tr>\n",
              "        <tr>\n",
              "            <td>Andorra</td>\n",
              "            <td>0.07</td>\n",
              "            <td>no</td>\n",
              "            <td>no</td>\n",
              "        </tr>\n",
              "        <tr>\n",
              "            <td>Austria</td>\n",
              "            <td>8.57</td>\n",
              "            <td>yes</td>\n",
              "            <td>no</td>\n",
              "        </tr>\n",
              "        <tr>\n",
              "            <td>Belarus</td>\n",
              "            <td>9.48</td>\n",
              "            <td>no</td>\n",
              "            <td>no</td>\n",
              "        </tr>\n",
              "        <tr>\n",
              "            <td>Belgium</td>\n",
              "            <td>11.37</td>\n",
              "            <td>yes</td>\n",
              "            <td>yes</td>\n",
              "        </tr>\n",
              "    </tbody>\n",
              "</table>"
            ]
          },
          "metadata": {},
          "execution_count": 12
        }
      ],
      "source": [
        "%%sql\n",
        "select * from Countries limit 5"
      ]
    },
    {
      "cell_type": "markdown",
      "metadata": {
        "id": "2BVOwkJ9MZib"
      },
      "source": [
        "### Basic Select statement\n",
        "Select columns  \n",
        "From tables  \n",
        "Where condition  "
      ]
    },
    {
      "cell_type": "markdown",
      "metadata": {
        "id": "PhbiLy9yMZic"
      },
      "source": [
        "*Find all countries not in the EU*"
      ]
    },
    {
      "cell_type": "code",
      "execution_count": null,
      "metadata": {
        "id": "H1UrR_dPMZid"
      },
      "outputs": [],
      "source": [
        "%%sql\n",
        "select country\n",
        "from Countries\n",
        "where EU = 'no'"
      ]
    },
    {
      "cell_type": "markdown",
      "metadata": {
        "id": "1UH8ocwLMZid"
      },
      "source": [
        "*Find all cities with temperature between -5 and 5; return city, country, and temperature*"
      ]
    },
    {
      "cell_type": "code",
      "execution_count": null,
      "metadata": {
        "id": "7BpzAGMNMZie",
        "colab": {
          "base_uri": "https://localhost:8080/",
          "height": 438
        },
        "outputId": "ba802f0a-cdd9-4b54-e7c5-8312223222df"
      },
      "outputs": [
        {
          "output_type": "stream",
          "name": "stdout",
          "text": [
            " * sqlite://\n",
            "Done.\n"
          ]
        },
        {
          "output_type": "execute_result",
          "data": {
            "text/plain": [
              "[('Salzburg', 'Austria', 4.62),\n",
              " ('Innsbruck', 'Austria', 4.54),\n",
              " ('Orsha', 'Belarus', 4.93),\n",
              " ('Tallinn', 'Estonia', 4.82),\n",
              " ('Tartu', 'Estonia', 4.36),\n",
              " ('Turku', 'Finland', 4.72),\n",
              " ('Helsinki', 'Finland', 4.19),\n",
              " ('Tampere', 'Finland', 3.59),\n",
              " ('Oulu', 'Finland', 1.45),\n",
              " ('Augsburg', 'Germany', 4.54),\n",
              " ('Trondheim', 'Norway', 4.53),\n",
              " ('Bodo', 'Norway', 4.5),\n",
              " ('Oslo', 'Norway', 2.32),\n",
              " ('Bergen', 'Norway', 1.75),\n",
              " ('Uppsala', 'Sweden', 4.17),\n",
              " ('Abisko', 'Sweden', 0.2),\n",
              " ('Kiruna', 'Sweden', -2.2)]"
            ],
            "text/html": [
              "<table>\n",
              "    <thead>\n",
              "        <tr>\n",
              "            <th>city</th>\n",
              "            <th>country</th>\n",
              "            <th>temperature</th>\n",
              "        </tr>\n",
              "    </thead>\n",
              "    <tbody>\n",
              "        <tr>\n",
              "            <td>Salzburg</td>\n",
              "            <td>Austria</td>\n",
              "            <td>4.62</td>\n",
              "        </tr>\n",
              "        <tr>\n",
              "            <td>Innsbruck</td>\n",
              "            <td>Austria</td>\n",
              "            <td>4.54</td>\n",
              "        </tr>\n",
              "        <tr>\n",
              "            <td>Orsha</td>\n",
              "            <td>Belarus</td>\n",
              "            <td>4.93</td>\n",
              "        </tr>\n",
              "        <tr>\n",
              "            <td>Tallinn</td>\n",
              "            <td>Estonia</td>\n",
              "            <td>4.82</td>\n",
              "        </tr>\n",
              "        <tr>\n",
              "            <td>Tartu</td>\n",
              "            <td>Estonia</td>\n",
              "            <td>4.36</td>\n",
              "        </tr>\n",
              "        <tr>\n",
              "            <td>Turku</td>\n",
              "            <td>Finland</td>\n",
              "            <td>4.72</td>\n",
              "        </tr>\n",
              "        <tr>\n",
              "            <td>Helsinki</td>\n",
              "            <td>Finland</td>\n",
              "            <td>4.19</td>\n",
              "        </tr>\n",
              "        <tr>\n",
              "            <td>Tampere</td>\n",
              "            <td>Finland</td>\n",
              "            <td>3.59</td>\n",
              "        </tr>\n",
              "        <tr>\n",
              "            <td>Oulu</td>\n",
              "            <td>Finland</td>\n",
              "            <td>1.45</td>\n",
              "        </tr>\n",
              "        <tr>\n",
              "            <td>Augsburg</td>\n",
              "            <td>Germany</td>\n",
              "            <td>4.54</td>\n",
              "        </tr>\n",
              "        <tr>\n",
              "            <td>Trondheim</td>\n",
              "            <td>Norway</td>\n",
              "            <td>4.53</td>\n",
              "        </tr>\n",
              "        <tr>\n",
              "            <td>Bodo</td>\n",
              "            <td>Norway</td>\n",
              "            <td>4.5</td>\n",
              "        </tr>\n",
              "        <tr>\n",
              "            <td>Oslo</td>\n",
              "            <td>Norway</td>\n",
              "            <td>2.32</td>\n",
              "        </tr>\n",
              "        <tr>\n",
              "            <td>Bergen</td>\n",
              "            <td>Norway</td>\n",
              "            <td>1.75</td>\n",
              "        </tr>\n",
              "        <tr>\n",
              "            <td>Uppsala</td>\n",
              "            <td>Sweden</td>\n",
              "            <td>4.17</td>\n",
              "        </tr>\n",
              "        <tr>\n",
              "            <td>Abisko</td>\n",
              "            <td>Sweden</td>\n",
              "            <td>0.2</td>\n",
              "        </tr>\n",
              "        <tr>\n",
              "            <td>Kiruna</td>\n",
              "            <td>Sweden</td>\n",
              "            <td>-2.2</td>\n",
              "        </tr>\n",
              "    </tbody>\n",
              "</table>"
            ]
          },
          "metadata": {},
          "execution_count": 16
        }
      ],
      "source": [
        "%%sql\n",
        "select city, country, temperature\n",
        "from Cities\n",
        "where temperature > -5 and temperature < 5\n",
        "order by country, temperature desc"
      ]
    },
    {
      "cell_type": "markdown",
      "metadata": {
        "id": "owIqOk1WMZie"
      },
      "source": [
        "### Ordering"
      ]
    },
    {
      "cell_type": "markdown",
      "metadata": {
        "id": "Fshc0QQXMZie"
      },
      "source": [
        "*Modify previous query to sort by temperature*"
      ]
    },
    {
      "cell_type": "markdown",
      "metadata": {
        "id": "PLQtDaG3MZif"
      },
      "source": [
        "*Modify previous query to sort by country, then temperature descending*"
      ]
    },
    {
      "cell_type": "markdown",
      "metadata": {
        "id": "g7J3F0UAMZif"
      },
      "source": [
        "### <font color = 'green'>**Your Turn**</font>"
      ]
    },
    {
      "cell_type": "markdown",
      "metadata": {
        "id": "HdgtGYcCMZif"
      },
      "source": [
        "*Find all countries with no coastline and with population > 9. Return the country and population, in descending order of population.*"
      ]
    },
    {
      "cell_type": "code",
      "execution_count": null,
      "metadata": {
        "id": "6pYlPwPSMZif",
        "colab": {
          "base_uri": "https://localhost:8080/",
          "height": 139
        },
        "outputId": "1cc0c327-d755-45b0-d872-1371cbc84a8b"
      },
      "outputs": [
        {
          "output_type": "stream",
          "name": "stdout",
          "text": [
            " * sqlite://\n",
            "Done.\n"
          ]
        },
        {
          "output_type": "execute_result",
          "data": {
            "text/plain": [
              "[('Czech Republic', 10.55), ('Hungary', 9.82), ('Belarus', 9.48)]"
            ],
            "text/html": [
              "<table>\n",
              "    <thead>\n",
              "        <tr>\n",
              "            <th>country</th>\n",
              "            <th>population</th>\n",
              "        </tr>\n",
              "    </thead>\n",
              "    <tbody>\n",
              "        <tr>\n",
              "            <td>Czech Republic</td>\n",
              "            <td>10.55</td>\n",
              "        </tr>\n",
              "        <tr>\n",
              "            <td>Hungary</td>\n",
              "            <td>9.82</td>\n",
              "        </tr>\n",
              "        <tr>\n",
              "            <td>Belarus</td>\n",
              "            <td>9.48</td>\n",
              "        </tr>\n",
              "    </tbody>\n",
              "</table>"
            ]
          },
          "metadata": {},
          "execution_count": 24
        }
      ],
      "source": [
        "%%sql\n",
        "select country, population\n",
        "from Countries\n",
        "where population > 9 and coastline = 'no'\n",
        "order by population desc"
      ]
    },
    {
      "cell_type": "markdown",
      "metadata": {
        "id": "_7HoBhWmMZig"
      },
      "source": [
        "### Multiple tables in From clause - Joins"
      ]
    },
    {
      "cell_type": "markdown",
      "metadata": {
        "id": "NhoRrhYbMZig"
      },
      "source": [
        "*Find all cities with longitude < 10 not in the EU, return city and longitude*"
      ]
    },
    {
      "cell_type": "code",
      "execution_count": null,
      "metadata": {
        "scrolled": true,
        "id": "Boku5LMEMZig",
        "colab": {
          "base_uri": "https://localhost:8080/",
          "height": 203
        },
        "outputId": "12ca9df3-cd80-46c3-ab45-d7c790518fb6"
      },
      "outputs": [
        {
          "output_type": "stream",
          "name": "stdout",
          "text": [
            " * sqlite://\n",
            "Done.\n"
          ]
        },
        {
          "output_type": "execute_result",
          "data": {
            "text/plain": [
              "[('Andorra', 1.52),\n",
              " ('Basel', 7.59),\n",
              " ('Bergen', 5.32),\n",
              " ('Geneva', 6.14),\n",
              " ('Stavanger', 5.68),\n",
              " ('Zurich', 8.56)]"
            ],
            "text/html": [
              "<table>\n",
              "    <thead>\n",
              "        <tr>\n",
              "            <th>city</th>\n",
              "            <th>longitude</th>\n",
              "        </tr>\n",
              "    </thead>\n",
              "    <tbody>\n",
              "        <tr>\n",
              "            <td>Andorra</td>\n",
              "            <td>1.52</td>\n",
              "        </tr>\n",
              "        <tr>\n",
              "            <td>Basel</td>\n",
              "            <td>7.59</td>\n",
              "        </tr>\n",
              "        <tr>\n",
              "            <td>Bergen</td>\n",
              "            <td>5.32</td>\n",
              "        </tr>\n",
              "        <tr>\n",
              "            <td>Geneva</td>\n",
              "            <td>6.14</td>\n",
              "        </tr>\n",
              "        <tr>\n",
              "            <td>Stavanger</td>\n",
              "            <td>5.68</td>\n",
              "        </tr>\n",
              "        <tr>\n",
              "            <td>Zurich</td>\n",
              "            <td>8.56</td>\n",
              "        </tr>\n",
              "    </tbody>\n",
              "</table>"
            ]
          },
          "metadata": {},
          "execution_count": 25
        }
      ],
      "source": [
        "%%sql\n",
        "select city, longitude\n",
        "from Cities, Countries\n",
        "where Cities.country = Countries.country # selects country as colummns from both files\n",
        "and longitude < 10 and EU = 'no'\n"
      ]
    },
    {
      "cell_type": "markdown",
      "metadata": {
        "id": "97E-wWU2MZig"
      },
      "source": [
        "*Modify previous query to also return country (error then fix)*"
      ]
    },
    {
      "cell_type": "markdown",
      "metadata": {
        "id": "rCBpdk0NMZig"
      },
      "source": [
        "*Find all cities with latitude < 50 in a country with population < 5; return city, country, and population, sorted by country*"
      ]
    },
    {
      "cell_type": "code",
      "execution_count": null,
      "metadata": {
        "id": "CoLl0prtMZih",
        "colab": {
          "base_uri": "https://localhost:8080/",
          "height": 289
        },
        "outputId": "283fa44e-3d84-413d-c89a-e4fbfc6451ab"
      },
      "outputs": [
        {
          "output_type": "stream",
          "name": "stdout",
          "text": [
            " * sqlite://\n",
            "Done.\n"
          ]
        },
        {
          "output_type": "execute_result",
          "data": {
            "text/plain": [
              "[('Elbasan', 'Albania', 2.9),\n",
              " ('Andorra', 'Andorra', 0.07),\n",
              " ('Sarajevo', 'Bosnia and Herzegovina', 3.8),\n",
              " ('Rijeka', 'Croatia', 4.23),\n",
              " ('Split', 'Croatia', 4.23),\n",
              " ('Skopje', 'Macedonia', 2.08),\n",
              " ('Balti', 'Moldova', 4.06),\n",
              " ('Chisinau', 'Moldova', 4.06),\n",
              " ('Podgorica', 'Montenegro', 0.63),\n",
              " ('Ljubljana', 'Slovenia', 2.07)]"
            ],
            "text/html": [
              "<table>\n",
              "    <thead>\n",
              "        <tr>\n",
              "            <th>city</th>\n",
              "            <th>country</th>\n",
              "            <th>population</th>\n",
              "        </tr>\n",
              "    </thead>\n",
              "    <tbody>\n",
              "        <tr>\n",
              "            <td>Elbasan</td>\n",
              "            <td>Albania</td>\n",
              "            <td>2.9</td>\n",
              "        </tr>\n",
              "        <tr>\n",
              "            <td>Andorra</td>\n",
              "            <td>Andorra</td>\n",
              "            <td>0.07</td>\n",
              "        </tr>\n",
              "        <tr>\n",
              "            <td>Sarajevo</td>\n",
              "            <td>Bosnia and Herzegovina</td>\n",
              "            <td>3.8</td>\n",
              "        </tr>\n",
              "        <tr>\n",
              "            <td>Rijeka</td>\n",
              "            <td>Croatia</td>\n",
              "            <td>4.23</td>\n",
              "        </tr>\n",
              "        <tr>\n",
              "            <td>Split</td>\n",
              "            <td>Croatia</td>\n",
              "            <td>4.23</td>\n",
              "        </tr>\n",
              "        <tr>\n",
              "            <td>Skopje</td>\n",
              "            <td>Macedonia</td>\n",
              "            <td>2.08</td>\n",
              "        </tr>\n",
              "        <tr>\n",
              "            <td>Balti</td>\n",
              "            <td>Moldova</td>\n",
              "            <td>4.06</td>\n",
              "        </tr>\n",
              "        <tr>\n",
              "            <td>Chisinau</td>\n",
              "            <td>Moldova</td>\n",
              "            <td>4.06</td>\n",
              "        </tr>\n",
              "        <tr>\n",
              "            <td>Podgorica</td>\n",
              "            <td>Montenegro</td>\n",
              "            <td>0.63</td>\n",
              "        </tr>\n",
              "        <tr>\n",
              "            <td>Ljubljana</td>\n",
              "            <td>Slovenia</td>\n",
              "            <td>2.07</td>\n",
              "        </tr>\n",
              "    </tbody>\n",
              "</table>"
            ]
          },
          "metadata": {},
          "execution_count": 26
        }
      ],
      "source": [
        "%%sql\n",
        "select city, Cities.country, population\n",
        "from Cities, Countries\n",
        "where Cities.country = Countries.country\n",
        "and latitude < 50 and population < 5\n",
        "order by Cities.country"
      ]
    },
    {
      "cell_type": "markdown",
      "metadata": {
        "id": "Y8f1oEGAMZih"
      },
      "source": [
        "#### Inner Join -- just FYI"
      ]
    },
    {
      "cell_type": "markdown",
      "metadata": {
        "id": "vkkuShxYMZih"
      },
      "source": [
        "*Same query as above*"
      ]
    },
    {
      "cell_type": "code",
      "execution_count": null,
      "metadata": {
        "id": "pw2bkLwSMZih",
        "colab": {
          "base_uri": "https://localhost:8080/",
          "height": 289
        },
        "outputId": "5e1f8ffa-676c-4eec-e276-31eca17fb610"
      },
      "outputs": [
        {
          "output_type": "stream",
          "name": "stdout",
          "text": [
            " * sqlite://\n",
            "Done.\n"
          ]
        },
        {
          "output_type": "execute_result",
          "data": {
            "text/plain": [
              "[('Elbasan', 'Albania', 2.9),\n",
              " ('Andorra', 'Andorra', 0.07),\n",
              " ('Sarajevo', 'Bosnia and Herzegovina', 3.8),\n",
              " ('Rijeka', 'Croatia', 4.23),\n",
              " ('Split', 'Croatia', 4.23),\n",
              " ('Skopje', 'Macedonia', 2.08),\n",
              " ('Balti', 'Moldova', 4.06),\n",
              " ('Chisinau', 'Moldova', 4.06),\n",
              " ('Podgorica', 'Montenegro', 0.63),\n",
              " ('Ljubljana', 'Slovenia', 2.07)]"
            ],
            "text/html": [
              "<table>\n",
              "    <thead>\n",
              "        <tr>\n",
              "            <th>city</th>\n",
              "            <th>country</th>\n",
              "            <th>population</th>\n",
              "        </tr>\n",
              "    </thead>\n",
              "    <tbody>\n",
              "        <tr>\n",
              "            <td>Elbasan</td>\n",
              "            <td>Albania</td>\n",
              "            <td>2.9</td>\n",
              "        </tr>\n",
              "        <tr>\n",
              "            <td>Andorra</td>\n",
              "            <td>Andorra</td>\n",
              "            <td>0.07</td>\n",
              "        </tr>\n",
              "        <tr>\n",
              "            <td>Sarajevo</td>\n",
              "            <td>Bosnia and Herzegovina</td>\n",
              "            <td>3.8</td>\n",
              "        </tr>\n",
              "        <tr>\n",
              "            <td>Rijeka</td>\n",
              "            <td>Croatia</td>\n",
              "            <td>4.23</td>\n",
              "        </tr>\n",
              "        <tr>\n",
              "            <td>Split</td>\n",
              "            <td>Croatia</td>\n",
              "            <td>4.23</td>\n",
              "        </tr>\n",
              "        <tr>\n",
              "            <td>Skopje</td>\n",
              "            <td>Macedonia</td>\n",
              "            <td>2.08</td>\n",
              "        </tr>\n",
              "        <tr>\n",
              "            <td>Balti</td>\n",
              "            <td>Moldova</td>\n",
              "            <td>4.06</td>\n",
              "        </tr>\n",
              "        <tr>\n",
              "            <td>Chisinau</td>\n",
              "            <td>Moldova</td>\n",
              "            <td>4.06</td>\n",
              "        </tr>\n",
              "        <tr>\n",
              "            <td>Podgorica</td>\n",
              "            <td>Montenegro</td>\n",
              "            <td>0.63</td>\n",
              "        </tr>\n",
              "        <tr>\n",
              "            <td>Ljubljana</td>\n",
              "            <td>Slovenia</td>\n",
              "            <td>2.07</td>\n",
              "        </tr>\n",
              "    </tbody>\n",
              "</table>"
            ]
          },
          "metadata": {},
          "execution_count": 5
        }
      ],
      "source": [
        "%%sql\n",
        "select city, Cities.country, population\n",
        "from Cities inner join Countries\n",
        "     on Cities.country = Countries.country\n",
        "where latitude < 50 and population < 5\n",
        "order by Cities.country"
      ]
    },
    {
      "cell_type": "markdown",
      "metadata": {
        "id": "4Qv_uInYMZih"
      },
      "source": [
        "### Select *"
      ]
    },
    {
      "cell_type": "markdown",
      "metadata": {
        "id": "iAE-s2KpMZih"
      },
      "source": [
        "*Modify previous queries to return all columns*"
      ]
    },
    {
      "cell_type": "markdown",
      "metadata": {
        "id": "tXnwN2aLMZii"
      },
      "source": [
        "### <font color = 'green'>**Your Turn**</font>"
      ]
    },
    {
      "cell_type": "markdown",
      "metadata": {
        "id": "-JcSozNYMZii"
      },
      "source": [
        "*Find all cities with latitude > 45 in a country with no coastline and with population > 9. Return the city, country, latitude, and whether it's in the EU.*"
      ]
    },
    {
      "cell_type": "code",
      "execution_count": null,
      "metadata": {
        "id": "Hl5UvvoKMZii",
        "colab": {
          "base_uri": "https://localhost:8080/",
          "height": 353
        },
        "outputId": "1f2cdf5d-5857-48f8-c3c2-b4f3b1195025"
      },
      "outputs": [
        {
          "output_type": "stream",
          "name": "stdout",
          "text": [
            " * sqlite://\n",
            "Done.\n"
          ]
        },
        {
          "output_type": "execute_result",
          "data": {
            "text/plain": [
              "[('Brest', 'Belarus', 52.1, 'no'),\n",
              " ('Brno', 'Czech Republic', 49.2, 'yes'),\n",
              " ('Budapest', 'Hungary', 47.5, 'yes'),\n",
              " ('Debrecen', 'Hungary', 47.53, 'yes'),\n",
              " ('Gyor', 'Hungary', 47.7, 'yes'),\n",
              " ('Hrodna', 'Belarus', 53.68, 'no'),\n",
              " ('Mazyr', 'Belarus', 52.05, 'no'),\n",
              " ('Minsk', 'Belarus', 53.9, 'no'),\n",
              " ('Orsha', 'Belarus', 54.52, 'no'),\n",
              " ('Ostrava', 'Czech Republic', 49.83, 'yes'),\n",
              " ('Pinsk', 'Belarus', 52.13, 'no'),\n",
              " ('Prague', 'Czech Republic', 50.08, 'yes'),\n",
              " ('Szeged', 'Hungary', 46.25, 'yes')]"
            ],
            "text/html": [
              "<table>\n",
              "    <thead>\n",
              "        <tr>\n",
              "            <th>city</th>\n",
              "            <th>country</th>\n",
              "            <th>latitude</th>\n",
              "            <th>EU</th>\n",
              "        </tr>\n",
              "    </thead>\n",
              "    <tbody>\n",
              "        <tr>\n",
              "            <td>Brest</td>\n",
              "            <td>Belarus</td>\n",
              "            <td>52.1</td>\n",
              "            <td>no</td>\n",
              "        </tr>\n",
              "        <tr>\n",
              "            <td>Brno</td>\n",
              "            <td>Czech Republic</td>\n",
              "            <td>49.2</td>\n",
              "            <td>yes</td>\n",
              "        </tr>\n",
              "        <tr>\n",
              "            <td>Budapest</td>\n",
              "            <td>Hungary</td>\n",
              "            <td>47.5</td>\n",
              "            <td>yes</td>\n",
              "        </tr>\n",
              "        <tr>\n",
              "            <td>Debrecen</td>\n",
              "            <td>Hungary</td>\n",
              "            <td>47.53</td>\n",
              "            <td>yes</td>\n",
              "        </tr>\n",
              "        <tr>\n",
              "            <td>Gyor</td>\n",
              "            <td>Hungary</td>\n",
              "            <td>47.7</td>\n",
              "            <td>yes</td>\n",
              "        </tr>\n",
              "        <tr>\n",
              "            <td>Hrodna</td>\n",
              "            <td>Belarus</td>\n",
              "            <td>53.68</td>\n",
              "            <td>no</td>\n",
              "        </tr>\n",
              "        <tr>\n",
              "            <td>Mazyr</td>\n",
              "            <td>Belarus</td>\n",
              "            <td>52.05</td>\n",
              "            <td>no</td>\n",
              "        </tr>\n",
              "        <tr>\n",
              "            <td>Minsk</td>\n",
              "            <td>Belarus</td>\n",
              "            <td>53.9</td>\n",
              "            <td>no</td>\n",
              "        </tr>\n",
              "        <tr>\n",
              "            <td>Orsha</td>\n",
              "            <td>Belarus</td>\n",
              "            <td>54.52</td>\n",
              "            <td>no</td>\n",
              "        </tr>\n",
              "        <tr>\n",
              "            <td>Ostrava</td>\n",
              "            <td>Czech Republic</td>\n",
              "            <td>49.83</td>\n",
              "            <td>yes</td>\n",
              "        </tr>\n",
              "        <tr>\n",
              "            <td>Pinsk</td>\n",
              "            <td>Belarus</td>\n",
              "            <td>52.13</td>\n",
              "            <td>no</td>\n",
              "        </tr>\n",
              "        <tr>\n",
              "            <td>Prague</td>\n",
              "            <td>Czech Republic</td>\n",
              "            <td>50.08</td>\n",
              "            <td>yes</td>\n",
              "        </tr>\n",
              "        <tr>\n",
              "            <td>Szeged</td>\n",
              "            <td>Hungary</td>\n",
              "            <td>46.25</td>\n",
              "            <td>yes</td>\n",
              "        </tr>\n",
              "    </tbody>\n",
              "</table>"
            ]
          },
          "metadata": {},
          "execution_count": 10
        }
      ],
      "source": [
        "%%sql\n",
        "select city, Cities.country, latitude, EU\n",
        "from Cities, Countries\n",
        "where Cities.country = Countries.country\n",
        "and latitude > 45 and coastline = 'no' and population > 9"
      ]
    },
    {
      "cell_type": "markdown",
      "metadata": {
        "id": "KfWL9u-oMZii"
      },
      "source": [
        "### Aggregation and Grouping"
      ]
    },
    {
      "cell_type": "markdown",
      "metadata": {
        "id": "TERsm72IMZii"
      },
      "source": [
        "*Find the average temperature for all cities*"
      ]
    },
    {
      "cell_type": "code",
      "execution_count": null,
      "metadata": {
        "id": "6j23YizyMZii",
        "colab": {
          "base_uri": "https://localhost:8080/",
          "height": 96
        },
        "outputId": "ff58b723-eee2-451c-d223-abf335f3115f"
      },
      "outputs": [
        {
          "output_type": "stream",
          "name": "stdout",
          "text": [
            " * sqlite://\n",
            "Done.\n"
          ]
        },
        {
          "output_type": "execute_result",
          "data": {
            "text/plain": [
              "[(9.497840375586858,)]"
            ],
            "text/html": [
              "<table>\n",
              "    <thead>\n",
              "        <tr>\n",
              "            <th>avg(temperature)</th>\n",
              "        </tr>\n",
              "    </thead>\n",
              "    <tbody>\n",
              "        <tr>\n",
              "            <td>9.497840375586858</td>\n",
              "        </tr>\n",
              "    </tbody>\n",
              "</table>"
            ]
          },
          "metadata": {},
          "execution_count": 13
        }
      ],
      "source": [
        "%%sql\n",
        "select avg(temperature)\n",
        "from Cities"
      ]
    },
    {
      "cell_type": "markdown",
      "metadata": {
        "id": "s23V60LLMZij"
      },
      "source": [
        "*Modify previous query to find average temperature of cities with latitude > 55*"
      ]
    },
    {
      "cell_type": "markdown",
      "metadata": {
        "id": "jaGBga-YMZij"
      },
      "source": [
        "*Modify previous query to also find minimum and maxiumum temperature of cities with latitude > 55*"
      ]
    },
    {
      "cell_type": "markdown",
      "metadata": {
        "id": "VYRS9j5tMZij"
      },
      "source": [
        "*Modify previous query to return number of cities with latitude > 55*"
      ]
    },
    {
      "cell_type": "markdown",
      "metadata": {
        "id": "BzSI8DqrMZij"
      },
      "source": [
        "*Rename result column as northerns*\n",
        "\n"
      ]
    },
    {
      "cell_type": "markdown",
      "metadata": {
        "id": "UdWyRME_MZij"
      },
      "source": [
        "*Find the minimum and maximum temperature of cities in the EU (then not in the EU)*"
      ]
    },
    {
      "cell_type": "code",
      "execution_count": null,
      "metadata": {
        "id": "hS2P18MNMZij",
        "colab": {
          "base_uri": "https://localhost:8080/",
          "height": 96
        },
        "outputId": "a08696bb-59f6-472b-85a7-db98731ce233"
      },
      "outputs": [
        {
          "output_type": "stream",
          "name": "stdout",
          "text": [
            " * sqlite://\n",
            "Done.\n"
          ]
        },
        {
          "output_type": "execute_result",
          "data": {
            "text/plain": [
              "[(-2.2, 17.9)]"
            ],
            "text/html": [
              "<table>\n",
              "    <thead>\n",
              "        <tr>\n",
              "            <th>min(temperature)</th>\n",
              "            <th>max(temperature)</th>\n",
              "        </tr>\n",
              "    </thead>\n",
              "    <tbody>\n",
              "        <tr>\n",
              "            <td>-2.2</td>\n",
              "            <td>17.9</td>\n",
              "        </tr>\n",
              "    </tbody>\n",
              "</table>"
            ]
          },
          "metadata": {},
          "execution_count": 31
        }
      ],
      "source": [
        "%%sql\n",
        "select min(temperature), max(temperature)\n",
        "from Cities, Countries\n",
        "where Cities.country = Countries.Country\n",
        "and EU = 'yes'"
      ]
    },
    {
      "cell_type": "markdown",
      "metadata": {
        "id": "av1H4PW_MZij"
      },
      "source": [
        "### <font color = 'green'>**Your Turn**</font>"
      ]
    },
    {
      "cell_type": "markdown",
      "metadata": {
        "id": "lXamkzxAMZik"
      },
      "source": [
        "*Find the number of cities with latitude > 45 in countries with no coastline and with population > 9; also return the minimum and maximum latitude among those cities*"
      ]
    },
    {
      "cell_type": "code",
      "execution_count": null,
      "metadata": {
        "id": "zJLCTA_LMZik",
        "colab": {
          "base_uri": "https://localhost:8080/"
        },
        "outputId": "d06630b7-fb6a-43d0-be52-fe8192443e25"
      },
      "outputs": [
        {
          "output_type": "stream",
          "name": "stdout",
          "text": [
            " * sqlite://\n",
            "(sqlite3.OperationalError) no such column: cities\n",
            "[SQL: select cities, min(temperature), max(temperature)\n",
            "from Cities, Countries\n",
            "where Cities.country = Countries.country\n",
            "and latitude > 45 and coastline = 'no' and population > 9]\n",
            "(Background on this error at: https://sqlalche.me/e/20/e3q8)\n"
          ]
        }
      ],
      "source": [
        "%%sql\n",
        "select min(temperature), max(temperature)\n",
        "from Cities, Countries\n",
        "where Cities.country = Countries.country\n",
        "and latitude > 45 and coastline = 'no' and population > 9"
      ]
    },
    {
      "cell_type": "markdown",
      "metadata": {
        "id": "Vmr0remfMZik"
      },
      "source": [
        "*Find the average temperature for each country*"
      ]
    },
    {
      "cell_type": "code",
      "execution_count": null,
      "metadata": {
        "id": "ZFbppfabMZik",
        "colab": {
          "base_uri": "https://localhost:8080/",
          "height": 865
        },
        "outputId": "97bedd3e-8211-4a30-c984-1afbe44a6f26"
      },
      "outputs": [
        {
          "output_type": "stream",
          "name": "stdout",
          "text": [
            " * sqlite://\n",
            "Done.\n"
          ]
        },
        {
          "output_type": "execute_result",
          "data": {
            "text/plain": [
              "[('Albania', 15.18),\n",
              " ('Andorra', 9.6),\n",
              " ('Austria', 6.144),\n",
              " ('Belarus', 5.946666666666666),\n",
              " ('Belgium', 9.65),\n",
              " ('Bosnia and Herzegovina', 9.6),\n",
              " ('Bulgaria', 10.44),\n",
              " ('Croatia', 10.865),\n",
              " ('Czech Republic', 7.8566666666666665),\n",
              " ('Denmark', 7.625),\n",
              " ('Estonia', 4.59),\n",
              " ('Finland', 3.4875),\n",
              " ('France', 10.151111111111112),\n",
              " ('Germany', 7.869285714285714),\n",
              " ('Greece', 16.9025),\n",
              " ('Hungary', 9.6025),\n",
              " ('Ireland', 9.299999999999999),\n",
              " ('Italy', 13.474666666666668),\n",
              " ('Latvia', 5.27),\n",
              " ('Lithuania', 6.1433333333333335),\n",
              " ('Macedonia', 9.36),\n",
              " ('Moldova', 8.415),\n",
              " ('Montenegro', 9.99),\n",
              " ('Netherlands', 8.756666666666668),\n",
              " ('Norway', 3.7260000000000004),\n",
              " ('Poland', 7.250000000000002),\n",
              " ('Portugal', 14.469999999999999),\n",
              " ('Romania', 9.224444444444444),\n",
              " ('Serbia', 9.85),\n",
              " ('Slovakia', 8.48),\n",
              " ('Slovenia', 9.27),\n",
              " ('Spain', 14.238333333333332),\n",
              " ('Sweden', 3.5866666666666673),\n",
              " ('Switzerland', 7.253333333333333),\n",
              " ('Turkey', 11.726666666666665),\n",
              " ('Ukraine', 7.420000000000002),\n",
              " ('United Kingdom', 8.649999999999999)]"
            ],
            "text/html": [
              "<table>\n",
              "    <thead>\n",
              "        <tr>\n",
              "            <th>country</th>\n",
              "            <th>avg(temperature)</th>\n",
              "        </tr>\n",
              "    </thead>\n",
              "    <tbody>\n",
              "        <tr>\n",
              "            <td>Albania</td>\n",
              "            <td>15.18</td>\n",
              "        </tr>\n",
              "        <tr>\n",
              "            <td>Andorra</td>\n",
              "            <td>9.6</td>\n",
              "        </tr>\n",
              "        <tr>\n",
              "            <td>Austria</td>\n",
              "            <td>6.144</td>\n",
              "        </tr>\n",
              "        <tr>\n",
              "            <td>Belarus</td>\n",
              "            <td>5.946666666666666</td>\n",
              "        </tr>\n",
              "        <tr>\n",
              "            <td>Belgium</td>\n",
              "            <td>9.65</td>\n",
              "        </tr>\n",
              "        <tr>\n",
              "            <td>Bosnia and Herzegovina</td>\n",
              "            <td>9.6</td>\n",
              "        </tr>\n",
              "        <tr>\n",
              "            <td>Bulgaria</td>\n",
              "            <td>10.44</td>\n",
              "        </tr>\n",
              "        <tr>\n",
              "            <td>Croatia</td>\n",
              "            <td>10.865</td>\n",
              "        </tr>\n",
              "        <tr>\n",
              "            <td>Czech Republic</td>\n",
              "            <td>7.8566666666666665</td>\n",
              "        </tr>\n",
              "        <tr>\n",
              "            <td>Denmark</td>\n",
              "            <td>7.625</td>\n",
              "        </tr>\n",
              "        <tr>\n",
              "            <td>Estonia</td>\n",
              "            <td>4.59</td>\n",
              "        </tr>\n",
              "        <tr>\n",
              "            <td>Finland</td>\n",
              "            <td>3.4875</td>\n",
              "        </tr>\n",
              "        <tr>\n",
              "            <td>France</td>\n",
              "            <td>10.151111111111112</td>\n",
              "        </tr>\n",
              "        <tr>\n",
              "            <td>Germany</td>\n",
              "            <td>7.869285714285714</td>\n",
              "        </tr>\n",
              "        <tr>\n",
              "            <td>Greece</td>\n",
              "            <td>16.9025</td>\n",
              "        </tr>\n",
              "        <tr>\n",
              "            <td>Hungary</td>\n",
              "            <td>9.6025</td>\n",
              "        </tr>\n",
              "        <tr>\n",
              "            <td>Ireland</td>\n",
              "            <td>9.299999999999999</td>\n",
              "        </tr>\n",
              "        <tr>\n",
              "            <td>Italy</td>\n",
              "            <td>13.474666666666668</td>\n",
              "        </tr>\n",
              "        <tr>\n",
              "            <td>Latvia</td>\n",
              "            <td>5.27</td>\n",
              "        </tr>\n",
              "        <tr>\n",
              "            <td>Lithuania</td>\n",
              "            <td>6.1433333333333335</td>\n",
              "        </tr>\n",
              "        <tr>\n",
              "            <td>Macedonia</td>\n",
              "            <td>9.36</td>\n",
              "        </tr>\n",
              "        <tr>\n",
              "            <td>Moldova</td>\n",
              "            <td>8.415</td>\n",
              "        </tr>\n",
              "        <tr>\n",
              "            <td>Montenegro</td>\n",
              "            <td>9.99</td>\n",
              "        </tr>\n",
              "        <tr>\n",
              "            <td>Netherlands</td>\n",
              "            <td>8.756666666666668</td>\n",
              "        </tr>\n",
              "        <tr>\n",
              "            <td>Norway</td>\n",
              "            <td>3.7260000000000004</td>\n",
              "        </tr>\n",
              "        <tr>\n",
              "            <td>Poland</td>\n",
              "            <td>7.250000000000002</td>\n",
              "        </tr>\n",
              "        <tr>\n",
              "            <td>Portugal</td>\n",
              "            <td>14.469999999999999</td>\n",
              "        </tr>\n",
              "        <tr>\n",
              "            <td>Romania</td>\n",
              "            <td>9.224444444444444</td>\n",
              "        </tr>\n",
              "        <tr>\n",
              "            <td>Serbia</td>\n",
              "            <td>9.85</td>\n",
              "        </tr>\n",
              "        <tr>\n",
              "            <td>Slovakia</td>\n",
              "            <td>8.48</td>\n",
              "        </tr>\n",
              "        <tr>\n",
              "            <td>Slovenia</td>\n",
              "            <td>9.27</td>\n",
              "        </tr>\n",
              "        <tr>\n",
              "            <td>Spain</td>\n",
              "            <td>14.238333333333332</td>\n",
              "        </tr>\n",
              "        <tr>\n",
              "            <td>Sweden</td>\n",
              "            <td>3.5866666666666673</td>\n",
              "        </tr>\n",
              "        <tr>\n",
              "            <td>Switzerland</td>\n",
              "            <td>7.253333333333333</td>\n",
              "        </tr>\n",
              "        <tr>\n",
              "            <td>Turkey</td>\n",
              "            <td>11.726666666666665</td>\n",
              "        </tr>\n",
              "        <tr>\n",
              "            <td>Ukraine</td>\n",
              "            <td>7.420000000000002</td>\n",
              "        </tr>\n",
              "        <tr>\n",
              "            <td>United Kingdom</td>\n",
              "            <td>8.649999999999999</td>\n",
              "        </tr>\n",
              "    </tbody>\n",
              "</table>"
            ]
          },
          "metadata": {},
          "execution_count": 14
        }
      ],
      "source": [
        "%%sql\n",
        "select country, avg(temperature)\n",
        "from Cities\n",
        "group by country"
      ]
    },
    {
      "cell_type": "markdown",
      "metadata": {
        "id": "BPAHaTxmMZik"
      },
      "source": [
        "*Modify previous query to sort by descending average temperature*"
      ]
    },
    {
      "cell_type": "markdown",
      "metadata": {
        "id": "zQcSvCTAMZik"
      },
      "source": [
        "*Modify previous query to show countries only*"
      ]
    },
    {
      "cell_type": "markdown",
      "metadata": {
        "id": "XQ7GsGcEMZik"
      },
      "source": [
        "*Find the average temperature for cities in countries with and without coastline*"
      ]
    },
    {
      "cell_type": "code",
      "execution_count": null,
      "metadata": {
        "id": "6sD9ewlVMZik",
        "colab": {
          "base_uri": "https://localhost:8080/",
          "height": 118
        },
        "outputId": "7e22cd56-786b-4ae1-8c8c-bb2f6d585ae8"
      },
      "outputs": [
        {
          "output_type": "stream",
          "name": "stdout",
          "text": [
            " * sqlite://\n",
            "Done.\n"
          ]
        },
        {
          "output_type": "execute_result",
          "data": {
            "text/plain": [
              "[('no', 7.748000000000001), ('yes', 9.784699453551914)]"
            ],
            "text/html": [
              "<table>\n",
              "    <thead>\n",
              "        <tr>\n",
              "            <th>coastline</th>\n",
              "            <th>avg(temperature)</th>\n",
              "        </tr>\n",
              "    </thead>\n",
              "    <tbody>\n",
              "        <tr>\n",
              "            <td>no</td>\n",
              "            <td>7.748000000000001</td>\n",
              "        </tr>\n",
              "        <tr>\n",
              "            <td>yes</td>\n",
              "            <td>9.784699453551914</td>\n",
              "        </tr>\n",
              "    </tbody>\n",
              "</table>"
            ]
          },
          "metadata": {},
          "execution_count": 32
        }
      ],
      "source": [
        "%%sql\n",
        "select coastline, avg(temperature)\n",
        "from Cities, Countries\n",
        "where Cities.country = Countries.country\n",
        "group by coastline"
      ]
    },
    {
      "cell_type": "markdown",
      "metadata": {
        "id": "g9lD4swOMZil"
      },
      "source": [
        "*Modify previous query to find the average temperature for cities in the EU and not in the EU, then all combinations of coastline and EU*"
      ]
    },
    {
      "cell_type": "markdown",
      "metadata": {
        "id": "5vq-B792MZil"
      },
      "source": [
        "*Modify previous query to only include cities with latitude < 50, then latitude < 40*"
      ]
    },
    {
      "cell_type": "markdown",
      "metadata": {
        "id": "KNQ8lY-PMZil"
      },
      "source": [
        "### <font color = 'green'>**Your Turn**</font>"
      ]
    },
    {
      "cell_type": "markdown",
      "metadata": {
        "id": "V0LLep07MZil"
      },
      "source": [
        "*For each country in the EU, find the latitude of the northernmost city in the country, i.e., the maximum latitude. Return the country and its maximum latitude, in descending order of maximum latitude.*"
      ]
    },
    {
      "cell_type": "code",
      "execution_count": null,
      "metadata": {
        "id": "NrfFesrRMZil",
        "colab": {
          "base_uri": "https://localhost:8080/",
          "height": 609
        },
        "outputId": "2493e69c-ff7e-40e1-9ccb-4206aa52442b"
      },
      "outputs": [
        {
          "output_type": "stream",
          "name": "stdout",
          "text": [
            " * sqlite://\n",
            "Done.\n"
          ]
        },
        {
          "output_type": "execute_result",
          "data": {
            "text/plain": [
              "[('Sweden', 67.85),\n",
              " ('Finland', 65.0),\n",
              " ('Estonia', 59.43),\n",
              " ('United Kingdom', 57.47),\n",
              " ('Denmark', 57.03),\n",
              " ('Latvia', 56.95),\n",
              " ('Lithuania', 55.72),\n",
              " ('Poland', 54.2),\n",
              " ('Germany', 54.07),\n",
              " ('Ireland', 53.33),\n",
              " ('Netherlands', 53.22),\n",
              " ('Belgium', 51.22),\n",
              " ('France', 50.65),\n",
              " ('Czech Republic', 50.08),\n",
              " ('Slovakia', 48.73),\n",
              " ('Austria', 48.32),\n",
              " ('Romania', 47.75),\n",
              " ('Hungary', 47.7),\n",
              " ('Slovenia', 46.06),\n",
              " ('Italy', 45.7),\n",
              " ('Croatia', 45.33),\n",
              " ('Bulgaria', 43.85),\n",
              " ('Spain', 43.38),\n",
              " ('Portugal', 41.55),\n",
              " ('Greece', 39.56)]"
            ],
            "text/html": [
              "<table>\n",
              "    <thead>\n",
              "        <tr>\n",
              "            <th>country</th>\n",
              "            <th>max(latitude)</th>\n",
              "        </tr>\n",
              "    </thead>\n",
              "    <tbody>\n",
              "        <tr>\n",
              "            <td>Sweden</td>\n",
              "            <td>67.85</td>\n",
              "        </tr>\n",
              "        <tr>\n",
              "            <td>Finland</td>\n",
              "            <td>65.0</td>\n",
              "        </tr>\n",
              "        <tr>\n",
              "            <td>Estonia</td>\n",
              "            <td>59.43</td>\n",
              "        </tr>\n",
              "        <tr>\n",
              "            <td>United Kingdom</td>\n",
              "            <td>57.47</td>\n",
              "        </tr>\n",
              "        <tr>\n",
              "            <td>Denmark</td>\n",
              "            <td>57.03</td>\n",
              "        </tr>\n",
              "        <tr>\n",
              "            <td>Latvia</td>\n",
              "            <td>56.95</td>\n",
              "        </tr>\n",
              "        <tr>\n",
              "            <td>Lithuania</td>\n",
              "            <td>55.72</td>\n",
              "        </tr>\n",
              "        <tr>\n",
              "            <td>Poland</td>\n",
              "            <td>54.2</td>\n",
              "        </tr>\n",
              "        <tr>\n",
              "            <td>Germany</td>\n",
              "            <td>54.07</td>\n",
              "        </tr>\n",
              "        <tr>\n",
              "            <td>Ireland</td>\n",
              "            <td>53.33</td>\n",
              "        </tr>\n",
              "        <tr>\n",
              "            <td>Netherlands</td>\n",
              "            <td>53.22</td>\n",
              "        </tr>\n",
              "        <tr>\n",
              "            <td>Belgium</td>\n",
              "            <td>51.22</td>\n",
              "        </tr>\n",
              "        <tr>\n",
              "            <td>France</td>\n",
              "            <td>50.65</td>\n",
              "        </tr>\n",
              "        <tr>\n",
              "            <td>Czech Republic</td>\n",
              "            <td>50.08</td>\n",
              "        </tr>\n",
              "        <tr>\n",
              "            <td>Slovakia</td>\n",
              "            <td>48.73</td>\n",
              "        </tr>\n",
              "        <tr>\n",
              "            <td>Austria</td>\n",
              "            <td>48.32</td>\n",
              "        </tr>\n",
              "        <tr>\n",
              "            <td>Romania</td>\n",
              "            <td>47.75</td>\n",
              "        </tr>\n",
              "        <tr>\n",
              "            <td>Hungary</td>\n",
              "            <td>47.7</td>\n",
              "        </tr>\n",
              "        <tr>\n",
              "            <td>Slovenia</td>\n",
              "            <td>46.06</td>\n",
              "        </tr>\n",
              "        <tr>\n",
              "            <td>Italy</td>\n",
              "            <td>45.7</td>\n",
              "        </tr>\n",
              "        <tr>\n",
              "            <td>Croatia</td>\n",
              "            <td>45.33</td>\n",
              "        </tr>\n",
              "        <tr>\n",
              "            <td>Bulgaria</td>\n",
              "            <td>43.85</td>\n",
              "        </tr>\n",
              "        <tr>\n",
              "            <td>Spain</td>\n",
              "            <td>43.38</td>\n",
              "        </tr>\n",
              "        <tr>\n",
              "            <td>Portugal</td>\n",
              "            <td>41.55</td>\n",
              "        </tr>\n",
              "        <tr>\n",
              "            <td>Greece</td>\n",
              "            <td>39.56</td>\n",
              "        </tr>\n",
              "    </tbody>\n",
              "</table>"
            ]
          },
          "metadata": {},
          "execution_count": 45
        }
      ],
      "source": [
        "%%sql\n",
        "select Cities.country, max(latitude)\n",
        "from Cities, Countries\n",
        "where Cities.country = Countries.country\n",
        "and EU = 'yes'\n",
        "group by Cities.country\n",
        "order by max(latitude) desc\n"
      ]
    },
    {
      "cell_type": "markdown",
      "source": [
        "#### A Bug in SQLite - just FYI"
      ],
      "metadata": {
        "id": "dTd21Zp-cQZF"
      }
    },
    {
      "cell_type": "code",
      "source": [
        "%%sql\n",
        "select country, avg(temperature)\n",
        "from Cities\n",
        "group by country"
      ],
      "metadata": {
        "id": "GNte5qsScd3J",
        "colab": {
          "base_uri": "https://localhost:8080/",
          "height": 865
        },
        "outputId": "0ff076c3-fff1-46f0-d7d7-d1fe4d26cd36"
      },
      "execution_count": null,
      "outputs": [
        {
          "output_type": "stream",
          "name": "stdout",
          "text": [
            " * sqlite://\n",
            "Done.\n"
          ]
        },
        {
          "output_type": "execute_result",
          "data": {
            "text/plain": [
              "[('Albania', 15.18),\n",
              " ('Andorra', 9.6),\n",
              " ('Austria', 6.144),\n",
              " ('Belarus', 5.946666666666666),\n",
              " ('Belgium', 9.65),\n",
              " ('Bosnia and Herzegovina', 9.6),\n",
              " ('Bulgaria', 10.44),\n",
              " ('Croatia', 10.865),\n",
              " ('Czech Republic', 7.8566666666666665),\n",
              " ('Denmark', 7.625),\n",
              " ('Estonia', 4.59),\n",
              " ('Finland', 3.4875),\n",
              " ('France', 10.151111111111112),\n",
              " ('Germany', 7.869285714285714),\n",
              " ('Greece', 16.9025),\n",
              " ('Hungary', 9.6025),\n",
              " ('Ireland', 9.299999999999999),\n",
              " ('Italy', 13.474666666666668),\n",
              " ('Latvia', 5.27),\n",
              " ('Lithuania', 6.1433333333333335),\n",
              " ('Macedonia', 9.36),\n",
              " ('Moldova', 8.415),\n",
              " ('Montenegro', 9.99),\n",
              " ('Netherlands', 8.756666666666668),\n",
              " ('Norway', 3.7260000000000004),\n",
              " ('Poland', 7.250000000000002),\n",
              " ('Portugal', 14.469999999999999),\n",
              " ('Romania', 9.224444444444444),\n",
              " ('Serbia', 9.85),\n",
              " ('Slovakia', 8.48),\n",
              " ('Slovenia', 9.27),\n",
              " ('Spain', 14.238333333333332),\n",
              " ('Sweden', 3.5866666666666673),\n",
              " ('Switzerland', 7.253333333333333),\n",
              " ('Turkey', 11.726666666666665),\n",
              " ('Ukraine', 7.420000000000002),\n",
              " ('United Kingdom', 8.649999999999999)]"
            ],
            "text/html": [
              "<table>\n",
              "    <thead>\n",
              "        <tr>\n",
              "            <th>country</th>\n",
              "            <th>avg(temperature)</th>\n",
              "        </tr>\n",
              "    </thead>\n",
              "    <tbody>\n",
              "        <tr>\n",
              "            <td>Albania</td>\n",
              "            <td>15.18</td>\n",
              "        </tr>\n",
              "        <tr>\n",
              "            <td>Andorra</td>\n",
              "            <td>9.6</td>\n",
              "        </tr>\n",
              "        <tr>\n",
              "            <td>Austria</td>\n",
              "            <td>6.144</td>\n",
              "        </tr>\n",
              "        <tr>\n",
              "            <td>Belarus</td>\n",
              "            <td>5.946666666666666</td>\n",
              "        </tr>\n",
              "        <tr>\n",
              "            <td>Belgium</td>\n",
              "            <td>9.65</td>\n",
              "        </tr>\n",
              "        <tr>\n",
              "            <td>Bosnia and Herzegovina</td>\n",
              "            <td>9.6</td>\n",
              "        </tr>\n",
              "        <tr>\n",
              "            <td>Bulgaria</td>\n",
              "            <td>10.44</td>\n",
              "        </tr>\n",
              "        <tr>\n",
              "            <td>Croatia</td>\n",
              "            <td>10.865</td>\n",
              "        </tr>\n",
              "        <tr>\n",
              "            <td>Czech Republic</td>\n",
              "            <td>7.8566666666666665</td>\n",
              "        </tr>\n",
              "        <tr>\n",
              "            <td>Denmark</td>\n",
              "            <td>7.625</td>\n",
              "        </tr>\n",
              "        <tr>\n",
              "            <td>Estonia</td>\n",
              "            <td>4.59</td>\n",
              "        </tr>\n",
              "        <tr>\n",
              "            <td>Finland</td>\n",
              "            <td>3.4875</td>\n",
              "        </tr>\n",
              "        <tr>\n",
              "            <td>France</td>\n",
              "            <td>10.151111111111112</td>\n",
              "        </tr>\n",
              "        <tr>\n",
              "            <td>Germany</td>\n",
              "            <td>7.869285714285714</td>\n",
              "        </tr>\n",
              "        <tr>\n",
              "            <td>Greece</td>\n",
              "            <td>16.9025</td>\n",
              "        </tr>\n",
              "        <tr>\n",
              "            <td>Hungary</td>\n",
              "            <td>9.6025</td>\n",
              "        </tr>\n",
              "        <tr>\n",
              "            <td>Ireland</td>\n",
              "            <td>9.299999999999999</td>\n",
              "        </tr>\n",
              "        <tr>\n",
              "            <td>Italy</td>\n",
              "            <td>13.474666666666668</td>\n",
              "        </tr>\n",
              "        <tr>\n",
              "            <td>Latvia</td>\n",
              "            <td>5.27</td>\n",
              "        </tr>\n",
              "        <tr>\n",
              "            <td>Lithuania</td>\n",
              "            <td>6.1433333333333335</td>\n",
              "        </tr>\n",
              "        <tr>\n",
              "            <td>Macedonia</td>\n",
              "            <td>9.36</td>\n",
              "        </tr>\n",
              "        <tr>\n",
              "            <td>Moldova</td>\n",
              "            <td>8.415</td>\n",
              "        </tr>\n",
              "        <tr>\n",
              "            <td>Montenegro</td>\n",
              "            <td>9.99</td>\n",
              "        </tr>\n",
              "        <tr>\n",
              "            <td>Netherlands</td>\n",
              "            <td>8.756666666666668</td>\n",
              "        </tr>\n",
              "        <tr>\n",
              "            <td>Norway</td>\n",
              "            <td>3.7260000000000004</td>\n",
              "        </tr>\n",
              "        <tr>\n",
              "            <td>Poland</td>\n",
              "            <td>7.250000000000002</td>\n",
              "        </tr>\n",
              "        <tr>\n",
              "            <td>Portugal</td>\n",
              "            <td>14.469999999999999</td>\n",
              "        </tr>\n",
              "        <tr>\n",
              "            <td>Romania</td>\n",
              "            <td>9.224444444444444</td>\n",
              "        </tr>\n",
              "        <tr>\n",
              "            <td>Serbia</td>\n",
              "            <td>9.85</td>\n",
              "        </tr>\n",
              "        <tr>\n",
              "            <td>Slovakia</td>\n",
              "            <td>8.48</td>\n",
              "        </tr>\n",
              "        <tr>\n",
              "            <td>Slovenia</td>\n",
              "            <td>9.27</td>\n",
              "        </tr>\n",
              "        <tr>\n",
              "            <td>Spain</td>\n",
              "            <td>14.238333333333332</td>\n",
              "        </tr>\n",
              "        <tr>\n",
              "            <td>Sweden</td>\n",
              "            <td>3.5866666666666673</td>\n",
              "        </tr>\n",
              "        <tr>\n",
              "            <td>Switzerland</td>\n",
              "            <td>7.253333333333333</td>\n",
              "        </tr>\n",
              "        <tr>\n",
              "            <td>Turkey</td>\n",
              "            <td>11.726666666666665</td>\n",
              "        </tr>\n",
              "        <tr>\n",
              "            <td>Ukraine</td>\n",
              "            <td>7.420000000000002</td>\n",
              "        </tr>\n",
              "        <tr>\n",
              "            <td>United Kingdom</td>\n",
              "            <td>8.649999999999999</td>\n",
              "        </tr>\n",
              "    </tbody>\n",
              "</table>"
            ]
          },
          "metadata": {},
          "execution_count": 39
        }
      ]
    },
    {
      "cell_type": "markdown",
      "source": [
        "*Modify previous query - add city to Select clause*"
      ],
      "metadata": {
        "id": "g007vRwWdOKF"
      }
    },
    {
      "cell_type": "markdown",
      "source": [
        "*Now focus on Austria and Sweden*"
      ],
      "metadata": {
        "id": "YuZ-mJZ4dkU_"
      }
    },
    {
      "cell_type": "code",
      "source": [
        "%%sql\n",
        "select *\n",
        "from Cities\n",
        "where country = 'Austria' or country = 'Sweden'\n",
        "order by country"
      ],
      "metadata": {
        "id": "ToOwU34SdtME",
        "colab": {
          "base_uri": "https://localhost:8080/",
          "height": 310
        },
        "outputId": "b0b52731-adf0-4f8d-b56a-22894880020b"
      },
      "execution_count": null,
      "outputs": [
        {
          "output_type": "stream",
          "name": "stdout",
          "text": [
            " * sqlite://\n",
            "Done.\n"
          ]
        },
        {
          "output_type": "execute_result",
          "data": {
            "text/plain": [
              "[('Graz', 'Austria', 47.08, 15.41, 6.91),\n",
              " ('Innsbruck', 'Austria', 47.28, 11.41, 4.54),\n",
              " ('Linz', 'Austria', 48.32, 14.29, 6.79),\n",
              " ('Salzburg', 'Austria', 47.81, 13.04, 4.62),\n",
              " ('Vienna', 'Austria', 48.2, 16.37, 7.86),\n",
              " ('Abisko', 'Sweden', 63.35, 18.83, 0.2),\n",
              " ('Göteborg', 'Sweden', 57.75, 12.0, 5.76),\n",
              " ('Kiruna', 'Sweden', 67.85, 20.22, -2.2),\n",
              " ('Malmö', 'Sweden', 55.58, 13.03, 7.33),\n",
              " ('Stockholm', 'Sweden', 59.35, 18.1, 6.26),\n",
              " ('Uppsala', 'Sweden', 59.86, 17.64, 4.17)]"
            ],
            "text/html": [
              "<table>\n",
              "    <thead>\n",
              "        <tr>\n",
              "            <th>city</th>\n",
              "            <th>country</th>\n",
              "            <th>latitude</th>\n",
              "            <th>longitude</th>\n",
              "            <th>temperature</th>\n",
              "        </tr>\n",
              "    </thead>\n",
              "    <tbody>\n",
              "        <tr>\n",
              "            <td>Graz</td>\n",
              "            <td>Austria</td>\n",
              "            <td>47.08</td>\n",
              "            <td>15.41</td>\n",
              "            <td>6.91</td>\n",
              "        </tr>\n",
              "        <tr>\n",
              "            <td>Innsbruck</td>\n",
              "            <td>Austria</td>\n",
              "            <td>47.28</td>\n",
              "            <td>11.41</td>\n",
              "            <td>4.54</td>\n",
              "        </tr>\n",
              "        <tr>\n",
              "            <td>Linz</td>\n",
              "            <td>Austria</td>\n",
              "            <td>48.32</td>\n",
              "            <td>14.29</td>\n",
              "            <td>6.79</td>\n",
              "        </tr>\n",
              "        <tr>\n",
              "            <td>Salzburg</td>\n",
              "            <td>Austria</td>\n",
              "            <td>47.81</td>\n",
              "            <td>13.04</td>\n",
              "            <td>4.62</td>\n",
              "        </tr>\n",
              "        <tr>\n",
              "            <td>Vienna</td>\n",
              "            <td>Austria</td>\n",
              "            <td>48.2</td>\n",
              "            <td>16.37</td>\n",
              "            <td>7.86</td>\n",
              "        </tr>\n",
              "        <tr>\n",
              "            <td>Abisko</td>\n",
              "            <td>Sweden</td>\n",
              "            <td>63.35</td>\n",
              "            <td>18.83</td>\n",
              "            <td>0.2</td>\n",
              "        </tr>\n",
              "        <tr>\n",
              "            <td>Göteborg</td>\n",
              "            <td>Sweden</td>\n",
              "            <td>57.75</td>\n",
              "            <td>12.0</td>\n",
              "            <td>5.76</td>\n",
              "        </tr>\n",
              "        <tr>\n",
              "            <td>Kiruna</td>\n",
              "            <td>Sweden</td>\n",
              "            <td>67.85</td>\n",
              "            <td>20.22</td>\n",
              "            <td>-2.2</td>\n",
              "        </tr>\n",
              "        <tr>\n",
              "            <td>Malmö</td>\n",
              "            <td>Sweden</td>\n",
              "            <td>55.58</td>\n",
              "            <td>13.03</td>\n",
              "            <td>7.33</td>\n",
              "        </tr>\n",
              "        <tr>\n",
              "            <td>Stockholm</td>\n",
              "            <td>Sweden</td>\n",
              "            <td>59.35</td>\n",
              "            <td>18.1</td>\n",
              "            <td>6.26</td>\n",
              "        </tr>\n",
              "        <tr>\n",
              "            <td>Uppsala</td>\n",
              "            <td>Sweden</td>\n",
              "            <td>59.86</td>\n",
              "            <td>17.64</td>\n",
              "            <td>4.17</td>\n",
              "        </tr>\n",
              "    </tbody>\n",
              "</table>"
            ]
          },
          "metadata": {},
          "execution_count": 15
        }
      ]
    },
    {
      "cell_type": "code",
      "source": [
        "%%sql\n",
        "select country, city, max(temperature)\n",
        "from Cities\n",
        "where country = 'Austria' or country = 'Sweden'\n",
        "group by country"
      ],
      "metadata": {
        "id": "C5zWyxs9d-Wi",
        "colab": {
          "base_uri": "https://localhost:8080/",
          "height": 118
        },
        "outputId": "2650c3ab-284b-4c45-d551-d8a909c7cc5e"
      },
      "execution_count": null,
      "outputs": [
        {
          "output_type": "stream",
          "name": "stdout",
          "text": [
            " * sqlite://\n",
            "Done.\n"
          ]
        },
        {
          "output_type": "execute_result",
          "data": {
            "text/plain": [
              "[('Austria', 'Vienna', 7.86), ('Sweden', 'Malmö', 7.33)]"
            ],
            "text/html": [
              "<table>\n",
              "    <thead>\n",
              "        <tr>\n",
              "            <th>country</th>\n",
              "            <th>city</th>\n",
              "            <th>max(temperature)</th>\n",
              "        </tr>\n",
              "    </thead>\n",
              "    <tbody>\n",
              "        <tr>\n",
              "            <td>Austria</td>\n",
              "            <td>Vienna</td>\n",
              "            <td>7.86</td>\n",
              "        </tr>\n",
              "        <tr>\n",
              "            <td>Sweden</td>\n",
              "            <td>Malmö</td>\n",
              "            <td>7.33</td>\n",
              "        </tr>\n",
              "    </tbody>\n",
              "</table>"
            ]
          },
          "metadata": {},
          "execution_count": 16
        }
      ]
    },
    {
      "cell_type": "markdown",
      "source": [
        "*Modify previous query to min(temperature), max(temperature), then together in both orders*"
      ],
      "metadata": {
        "id": "YJjCYCtsfYIj"
      }
    },
    {
      "cell_type": "markdown",
      "metadata": {
        "id": "3ezVm6SfMZil"
      },
      "source": [
        "### The Limit clause"
      ]
    },
    {
      "cell_type": "markdown",
      "metadata": {
        "id": "pBeU272WMZil"
      },
      "source": [
        "*Return any three countries with population > 20*"
      ]
    },
    {
      "cell_type": "code",
      "execution_count": null,
      "metadata": {
        "id": "EiTb4RBzMZil",
        "colab": {
          "base_uri": "https://localhost:8080/",
          "height": 139
        },
        "outputId": "f7599824-19b6-405b-b424-dc5e0549a311"
      },
      "outputs": [
        {
          "output_type": "stream",
          "name": "stdout",
          "text": [
            " * sqlite://\n",
            "Done.\n"
          ]
        },
        {
          "output_type": "execute_result",
          "data": {
            "text/plain": [
              "[('France',), ('Germany',), ('Italy',)]"
            ],
            "text/html": [
              "<table>\n",
              "    <thead>\n",
              "        <tr>\n",
              "            <th>country</th>\n",
              "        </tr>\n",
              "    </thead>\n",
              "    <tbody>\n",
              "        <tr>\n",
              "            <td>France</td>\n",
              "        </tr>\n",
              "        <tr>\n",
              "            <td>Germany</td>\n",
              "        </tr>\n",
              "        <tr>\n",
              "            <td>Italy</td>\n",
              "        </tr>\n",
              "    </tbody>\n",
              "</table>"
            ]
          },
          "metadata": {},
          "execution_count": 17
        }
      ],
      "source": [
        "%%sql\n",
        "select country\n",
        "from Countries\n",
        "where population > 20\n",
        "limit 3"
      ]
    },
    {
      "cell_type": "markdown",
      "metadata": {
        "id": "WWPpu0LbMZim"
      },
      "source": [
        "*Find the ten coldest cities*"
      ]
    },
    {
      "cell_type": "code",
      "execution_count": null,
      "metadata": {
        "id": "zZWHH1zXMZim",
        "colab": {
          "base_uri": "https://localhost:8080/",
          "height": 289
        },
        "outputId": "7e3eb674-2953-466b-d815-88e55ccd24ee"
      },
      "outputs": [
        {
          "output_type": "stream",
          "name": "stdout",
          "text": [
            " * sqlite://\n",
            "Done.\n"
          ]
        },
        {
          "output_type": "execute_result",
          "data": {
            "text/plain": [
              "[('Kiruna', -2.2),\n",
              " ('Abisko', 0.2),\n",
              " ('Oulu', 1.45),\n",
              " ('Bergen', 1.75),\n",
              " ('Oslo', 2.32),\n",
              " ('Tampere', 3.59),\n",
              " ('Uppsala', 4.17),\n",
              " ('Helsinki', 4.19),\n",
              " ('Tartu', 4.36),\n",
              " ('Bodo', 4.5)]"
            ],
            "text/html": [
              "<table>\n",
              "    <thead>\n",
              "        <tr>\n",
              "            <th>city</th>\n",
              "            <th>temperature</th>\n",
              "        </tr>\n",
              "    </thead>\n",
              "    <tbody>\n",
              "        <tr>\n",
              "            <td>Kiruna</td>\n",
              "            <td>-2.2</td>\n",
              "        </tr>\n",
              "        <tr>\n",
              "            <td>Abisko</td>\n",
              "            <td>0.2</td>\n",
              "        </tr>\n",
              "        <tr>\n",
              "            <td>Oulu</td>\n",
              "            <td>1.45</td>\n",
              "        </tr>\n",
              "        <tr>\n",
              "            <td>Bergen</td>\n",
              "            <td>1.75</td>\n",
              "        </tr>\n",
              "        <tr>\n",
              "            <td>Oslo</td>\n",
              "            <td>2.32</td>\n",
              "        </tr>\n",
              "        <tr>\n",
              "            <td>Tampere</td>\n",
              "            <td>3.59</td>\n",
              "        </tr>\n",
              "        <tr>\n",
              "            <td>Uppsala</td>\n",
              "            <td>4.17</td>\n",
              "        </tr>\n",
              "        <tr>\n",
              "            <td>Helsinki</td>\n",
              "            <td>4.19</td>\n",
              "        </tr>\n",
              "        <tr>\n",
              "            <td>Tartu</td>\n",
              "            <td>4.36</td>\n",
              "        </tr>\n",
              "        <tr>\n",
              "            <td>Bodo</td>\n",
              "            <td>4.5</td>\n",
              "        </tr>\n",
              "    </tbody>\n",
              "</table>"
            ]
          },
          "metadata": {},
          "execution_count": 18
        }
      ],
      "source": [
        "%%sql\n",
        "select city, temperature\n",
        "from Cities\n",
        "order by temperature\n",
        "limit 10"
      ]
    },
    {
      "cell_type": "markdown",
      "metadata": {
        "id": "xgClkx-wMZim"
      },
      "source": [
        "### <font color = 'green'>**Your Turn**</font>"
      ]
    },
    {
      "cell_type": "markdown",
      "metadata": {
        "id": "qzl1doV5MZim"
      },
      "source": [
        "*Find the five easternmost (greatest longitude) cities in countries with no coastline. Return the city and country names.*"
      ]
    },
    {
      "cell_type": "code",
      "execution_count": null,
      "metadata": {
        "id": "xGbKeIglMZim",
        "colab": {
          "base_uri": "https://localhost:8080/",
          "height": 182
        },
        "outputId": "bd5b7d98-e827-4c30-cf70-1a906636bc3e"
      },
      "outputs": [
        {
          "output_type": "stream",
          "name": "stdout",
          "text": [
            " * sqlite://\n",
            "Done.\n"
          ]
        },
        {
          "output_type": "execute_result",
          "data": {
            "text/plain": [
              "[('Orsha', 'Belarus'),\n",
              " ('Mazyr', 'Belarus'),\n",
              " ('Chisinau', 'Moldova'),\n",
              " ('Balti', 'Moldova'),\n",
              " ('Minsk', 'Belarus')]"
            ],
            "text/html": [
              "<table>\n",
              "    <thead>\n",
              "        <tr>\n",
              "            <th>city</th>\n",
              "            <th>country</th>\n",
              "        </tr>\n",
              "    </thead>\n",
              "    <tbody>\n",
              "        <tr>\n",
              "            <td>Orsha</td>\n",
              "            <td>Belarus</td>\n",
              "        </tr>\n",
              "        <tr>\n",
              "            <td>Mazyr</td>\n",
              "            <td>Belarus</td>\n",
              "        </tr>\n",
              "        <tr>\n",
              "            <td>Chisinau</td>\n",
              "            <td>Moldova</td>\n",
              "        </tr>\n",
              "        <tr>\n",
              "            <td>Balti</td>\n",
              "            <td>Moldova</td>\n",
              "        </tr>\n",
              "        <tr>\n",
              "            <td>Minsk</td>\n",
              "            <td>Belarus</td>\n",
              "        </tr>\n",
              "    </tbody>\n",
              "</table>"
            ]
          },
          "metadata": {},
          "execution_count": 20
        }
      ],
      "source": [
        "%%sql\n",
        "select city, Cities.country\n",
        "from Cities, Countries\n",
        "where Cities.country = Countries.country\n",
        "and coastline = 'no'\n",
        "order by longitude desc\n",
        "limit 5"
      ]
    },
    {
      "cell_type": "markdown",
      "metadata": {
        "id": "BbqhMHqKMZim"
      },
      "source": [
        "### <font color = 'green'>**Your Turn - Basic SQL on World Cup Data**</font>"
      ]
    },
    {
      "cell_type": "code",
      "execution_count": null,
      "metadata": {
        "id": "i5xAb8GWMZim",
        "colab": {
          "base_uri": "https://localhost:8080/",
          "height": 140
        },
        "outputId": "497e473f-0c7a-4e9d-a3b7-e6491f61fff5"
      },
      "outputs": [
        {
          "output_type": "stream",
          "name": "stdout",
          "text": [
            " * sqlite://\n",
            "Done.\n",
            " * sqlite://\n",
            " * sqlite://\n",
            "Done.\n",
            " * sqlite://\n"
          ]
        },
        {
          "output_type": "execute_result",
          "data": {
            "text/plain": [
              "'Persisted teams'"
            ],
            "application/vnd.google.colaboratory.intrinsic+json": {
              "type": "string"
            }
          },
          "metadata": {},
          "execution_count": 24
        }
      ],
      "source": [
        "# Create database tables from CSV files\n",
        "with open('/content/drive/MyDrive/Google Colab/Basic & Advanced SQL/Players.csv') as f: Players = pd.read_csv(f, index_col=0)\n",
        "%sql drop table if exists Players;\n",
        "%sql --persist Players\n",
        "with open('/content/drive/MyDrive/Google Colab/Basic & Advanced SQL/Teams.csv') as f: Teams = pd.read_csv(f, index_col=0)\n",
        "%sql drop table if exists Teams;\n",
        "%sql --persist Teams"
      ]
    },
    {
      "cell_type": "markdown",
      "metadata": {
        "id": "3v_Q9VemMZim"
      },
      "source": [
        "#### Look at sample of Players and Teams tables"
      ]
    },
    {
      "cell_type": "code",
      "execution_count": null,
      "metadata": {
        "id": "7D3cqH4XMZin",
        "colab": {
          "base_uri": "https://localhost:8080/",
          "height": 182
        },
        "outputId": "f4e9e5f1-9a47-402a-822c-803f76950c74"
      },
      "outputs": [
        {
          "output_type": "stream",
          "name": "stdout",
          "text": [
            " * sqlite://\n",
            "Done.\n"
          ]
        },
        {
          "output_type": "execute_result",
          "data": {
            "text/plain": [
              "[('Abdoun', 'Algeria', 'midfielder', 16, 0, 6, 0, 0),\n",
              " ('Belhadj', 'Algeria', 'defender', 270, 1, 146, 8, 0),\n",
              " ('Boudebouz', 'Algeria', 'midfielder', 74, 3, 28, 1, 0),\n",
              " ('Bougherra', 'Algeria', 'defender', 270, 1, 89, 11, 0),\n",
              " ('Chaouchi', 'Algeria', 'goalkeeper', 90, 0, 17, 0, 2)]"
            ],
            "text/html": [
              "<table>\n",
              "    <thead>\n",
              "        <tr>\n",
              "            <th>surname</th>\n",
              "            <th>team</th>\n",
              "            <th>position</th>\n",
              "            <th>minutes</th>\n",
              "            <th>shots</th>\n",
              "            <th>passes</th>\n",
              "            <th>tackles</th>\n",
              "            <th>saves</th>\n",
              "        </tr>\n",
              "    </thead>\n",
              "    <tbody>\n",
              "        <tr>\n",
              "            <td>Abdoun</td>\n",
              "            <td>Algeria</td>\n",
              "            <td>midfielder</td>\n",
              "            <td>16</td>\n",
              "            <td>0</td>\n",
              "            <td>6</td>\n",
              "            <td>0</td>\n",
              "            <td>0</td>\n",
              "        </tr>\n",
              "        <tr>\n",
              "            <td>Belhadj</td>\n",
              "            <td>Algeria</td>\n",
              "            <td>defender</td>\n",
              "            <td>270</td>\n",
              "            <td>1</td>\n",
              "            <td>146</td>\n",
              "            <td>8</td>\n",
              "            <td>0</td>\n",
              "        </tr>\n",
              "        <tr>\n",
              "            <td>Boudebouz</td>\n",
              "            <td>Algeria</td>\n",
              "            <td>midfielder</td>\n",
              "            <td>74</td>\n",
              "            <td>3</td>\n",
              "            <td>28</td>\n",
              "            <td>1</td>\n",
              "            <td>0</td>\n",
              "        </tr>\n",
              "        <tr>\n",
              "            <td>Bougherra</td>\n",
              "            <td>Algeria</td>\n",
              "            <td>defender</td>\n",
              "            <td>270</td>\n",
              "            <td>1</td>\n",
              "            <td>89</td>\n",
              "            <td>11</td>\n",
              "            <td>0</td>\n",
              "        </tr>\n",
              "        <tr>\n",
              "            <td>Chaouchi</td>\n",
              "            <td>Algeria</td>\n",
              "            <td>goalkeeper</td>\n",
              "            <td>90</td>\n",
              "            <td>0</td>\n",
              "            <td>17</td>\n",
              "            <td>0</td>\n",
              "            <td>2</td>\n",
              "        </tr>\n",
              "    </tbody>\n",
              "</table>"
            ]
          },
          "metadata": {},
          "execution_count": 25
        }
      ],
      "source": [
        "%%sql\n",
        "select * from Players limit 5"
      ]
    },
    {
      "cell_type": "code",
      "execution_count": null,
      "metadata": {
        "id": "02CrydrjMZin",
        "colab": {
          "base_uri": "https://localhost:8080/",
          "height": 182
        },
        "outputId": "3fa3a17a-90d1-4d4f-f7ec-7366b198fdf7"
      },
      "outputs": [
        {
          "output_type": "stream",
          "name": "stdout",
          "text": [
            " * sqlite://\n",
            "Done.\n"
          ]
        },
        {
          "output_type": "execute_result",
          "data": {
            "text/plain": [
              "[('Brazil', 1, 5, 3, 1, 1, 9, 4, 7, 2),\n",
              " ('Spain', 2, 6, 5, 0, 1, 7, 2, 3, 0),\n",
              " ('Portugal', 3, 4, 1, 2, 1, 7, 1, 8, 1),\n",
              " ('Netherlands', 4, 6, 6, 0, 0, 12, 5, 15, 0),\n",
              " ('Italy', 5, 3, 0, 2, 1, 4, 5, 5, 0)]"
            ],
            "text/html": [
              "<table>\n",
              "    <thead>\n",
              "        <tr>\n",
              "            <th>team</th>\n",
              "            <th>ranking</th>\n",
              "            <th>games</th>\n",
              "            <th>wins</th>\n",
              "            <th>draws</th>\n",
              "            <th>losses</th>\n",
              "            <th>goalsFor</th>\n",
              "            <th>goalsAgainst</th>\n",
              "            <th>yellowCards</th>\n",
              "            <th>redCards</th>\n",
              "        </tr>\n",
              "    </thead>\n",
              "    <tbody>\n",
              "        <tr>\n",
              "            <td>Brazil</td>\n",
              "            <td>1</td>\n",
              "            <td>5</td>\n",
              "            <td>3</td>\n",
              "            <td>1</td>\n",
              "            <td>1</td>\n",
              "            <td>9</td>\n",
              "            <td>4</td>\n",
              "            <td>7</td>\n",
              "            <td>2</td>\n",
              "        </tr>\n",
              "        <tr>\n",
              "            <td>Spain</td>\n",
              "            <td>2</td>\n",
              "            <td>6</td>\n",
              "            <td>5</td>\n",
              "            <td>0</td>\n",
              "            <td>1</td>\n",
              "            <td>7</td>\n",
              "            <td>2</td>\n",
              "            <td>3</td>\n",
              "            <td>0</td>\n",
              "        </tr>\n",
              "        <tr>\n",
              "            <td>Portugal</td>\n",
              "            <td>3</td>\n",
              "            <td>4</td>\n",
              "            <td>1</td>\n",
              "            <td>2</td>\n",
              "            <td>1</td>\n",
              "            <td>7</td>\n",
              "            <td>1</td>\n",
              "            <td>8</td>\n",
              "            <td>1</td>\n",
              "        </tr>\n",
              "        <tr>\n",
              "            <td>Netherlands</td>\n",
              "            <td>4</td>\n",
              "            <td>6</td>\n",
              "            <td>6</td>\n",
              "            <td>0</td>\n",
              "            <td>0</td>\n",
              "            <td>12</td>\n",
              "            <td>5</td>\n",
              "            <td>15</td>\n",
              "            <td>0</td>\n",
              "        </tr>\n",
              "        <tr>\n",
              "            <td>Italy</td>\n",
              "            <td>5</td>\n",
              "            <td>3</td>\n",
              "            <td>0</td>\n",
              "            <td>2</td>\n",
              "            <td>1</td>\n",
              "            <td>4</td>\n",
              "            <td>5</td>\n",
              "            <td>5</td>\n",
              "            <td>0</td>\n",
              "        </tr>\n",
              "    </tbody>\n",
              "</table>"
            ]
          },
          "metadata": {},
          "execution_count": 26
        }
      ],
      "source": [
        "%%sql\n",
        "select * from Teams limit 5"
      ]
    },
    {
      "cell_type": "markdown",
      "metadata": {
        "id": "3Lg8LM-7MZin"
      },
      "source": [
        "*1)  What player on a team with “ia” in the team name played less than 200 minutes and made more than 100 passes? Return the player surname. Note: To check if attribute A contains string S use \"A like '%S%'\"*"
      ]
    },
    {
      "cell_type": "code",
      "execution_count": null,
      "metadata": {
        "id": "FD6m9r1vMZin",
        "colab": {
          "base_uri": "https://localhost:8080/",
          "height": 96
        },
        "outputId": "54ad874f-fd19-45e6-acb5-3acc4aeee57c"
      },
      "outputs": [
        {
          "output_type": "stream",
          "name": "stdout",
          "text": [
            " * sqlite://\n",
            "Done.\n"
          ]
        },
        {
          "output_type": "execute_result",
          "data": {
            "text/plain": [
              "[('Kuzmanovic',)]"
            ],
            "text/html": [
              "<table>\n",
              "    <thead>\n",
              "        <tr>\n",
              "            <th>surname</th>\n",
              "        </tr>\n",
              "    </thead>\n",
              "    <tbody>\n",
              "        <tr>\n",
              "            <td>Kuzmanovic</td>\n",
              "        </tr>\n",
              "    </tbody>\n",
              "</table>"
            ]
          },
          "metadata": {},
          "execution_count": 27
        }
      ],
      "source": [
        "%%sql\n",
        "select surname\n",
        "from Players\n",
        "where team like '%ia%' and minutes < 200 and passes > 100"
      ]
    },
    {
      "cell_type": "markdown",
      "metadata": {
        "id": "4EsXwQ_wMZin"
      },
      "source": [
        "*2) Find all players who took more than 20 shots. Return all player information in descending order of shots taken.*"
      ]
    },
    {
      "cell_type": "code",
      "execution_count": null,
      "metadata": {
        "id": "VAj3i9owMZin",
        "colab": {
          "base_uri": "https://localhost:8080/",
          "height": 139
        },
        "outputId": "f85cf9ad-3441-48b3-ba2e-56eaeeba29aa"
      },
      "outputs": [
        {
          "output_type": "stream",
          "name": "stdout",
          "text": [
            " * sqlite://\n",
            "Done.\n"
          ]
        },
        {
          "output_type": "execute_result",
          "data": {
            "text/plain": [
              "[('Gyan', 'Ghana', 'forward', 501, 27, 151, 1, 0),\n",
              " ('Villa', 'Spain', 'forward', 529, 22, 169, 2, 0),\n",
              " ('Messi', 'Argentina', 'forward', 450, 21, 321, 10, 0)]"
            ],
            "text/html": [
              "<table>\n",
              "    <thead>\n",
              "        <tr>\n",
              "            <th>surname</th>\n",
              "            <th>team</th>\n",
              "            <th>position</th>\n",
              "            <th>minutes</th>\n",
              "            <th>shots</th>\n",
              "            <th>passes</th>\n",
              "            <th>tackles</th>\n",
              "            <th>saves</th>\n",
              "        </tr>\n",
              "    </thead>\n",
              "    <tbody>\n",
              "        <tr>\n",
              "            <td>Gyan</td>\n",
              "            <td>Ghana</td>\n",
              "            <td>forward</td>\n",
              "            <td>501</td>\n",
              "            <td>27</td>\n",
              "            <td>151</td>\n",
              "            <td>1</td>\n",
              "            <td>0</td>\n",
              "        </tr>\n",
              "        <tr>\n",
              "            <td>Villa</td>\n",
              "            <td>Spain</td>\n",
              "            <td>forward</td>\n",
              "            <td>529</td>\n",
              "            <td>22</td>\n",
              "            <td>169</td>\n",
              "            <td>2</td>\n",
              "            <td>0</td>\n",
              "        </tr>\n",
              "        <tr>\n",
              "            <td>Messi</td>\n",
              "            <td>Argentina</td>\n",
              "            <td>forward</td>\n",
              "            <td>450</td>\n",
              "            <td>21</td>\n",
              "            <td>321</td>\n",
              "            <td>10</td>\n",
              "            <td>0</td>\n",
              "        </tr>\n",
              "    </tbody>\n",
              "</table>"
            ]
          },
          "metadata": {},
          "execution_count": 28
        }
      ],
      "source": [
        "%%sql\n",
        "select *\n",
        "from Players\n",
        "where shots > 20\n",
        "order by shots desc"
      ]
    },
    {
      "cell_type": "markdown",
      "metadata": {
        "id": "yP759DNQMZin"
      },
      "source": [
        "*3) Find the goalkeepers of teams that played more than four games. List the surname of the goalkeeper, the team, and the number of minutes the goalkeeper played.*"
      ]
    },
    {
      "cell_type": "code",
      "execution_count": null,
      "metadata": {
        "id": "NcaWGUcOMZio",
        "colab": {
          "base_uri": "https://localhost:8080/",
          "height": 246
        },
        "outputId": "1f234e26-9c18-4129-9a5c-709068de09c0"
      },
      "outputs": [
        {
          "output_type": "stream",
          "name": "stdout",
          "text": [
            " * sqlite://\n",
            "Done.\n"
          ]
        },
        {
          "output_type": "execute_result",
          "data": {
            "text/plain": [
              "[('Romero', 'Argentina', 450),\n",
              " ('Julio Cesar', 'Brazil', 450),\n",
              " ('Neuer', 'Germany', 540),\n",
              " ('Kingson', 'Ghana', 510),\n",
              " ('Stekelenburg', 'Netherlands', 540),\n",
              " ('Villar', 'Paraguay', 480),\n",
              " ('Casillas', 'Spain', 540),\n",
              " ('Muslera', 'Uruguay', 570)]"
            ],
            "text/html": [
              "<table>\n",
              "    <thead>\n",
              "        <tr>\n",
              "            <th>surname</th>\n",
              "            <th>team</th>\n",
              "            <th>minutes</th>\n",
              "        </tr>\n",
              "    </thead>\n",
              "    <tbody>\n",
              "        <tr>\n",
              "            <td>Romero</td>\n",
              "            <td>Argentina</td>\n",
              "            <td>450</td>\n",
              "        </tr>\n",
              "        <tr>\n",
              "            <td>Julio Cesar</td>\n",
              "            <td>Brazil</td>\n",
              "            <td>450</td>\n",
              "        </tr>\n",
              "        <tr>\n",
              "            <td>Neuer</td>\n",
              "            <td>Germany</td>\n",
              "            <td>540</td>\n",
              "        </tr>\n",
              "        <tr>\n",
              "            <td>Kingson</td>\n",
              "            <td>Ghana</td>\n",
              "            <td>510</td>\n",
              "        </tr>\n",
              "        <tr>\n",
              "            <td>Stekelenburg</td>\n",
              "            <td>Netherlands</td>\n",
              "            <td>540</td>\n",
              "        </tr>\n",
              "        <tr>\n",
              "            <td>Villar</td>\n",
              "            <td>Paraguay</td>\n",
              "            <td>480</td>\n",
              "        </tr>\n",
              "        <tr>\n",
              "            <td>Casillas</td>\n",
              "            <td>Spain</td>\n",
              "            <td>540</td>\n",
              "        </tr>\n",
              "        <tr>\n",
              "            <td>Muslera</td>\n",
              "            <td>Uruguay</td>\n",
              "            <td>570</td>\n",
              "        </tr>\n",
              "    </tbody>\n",
              "</table>"
            ]
          },
          "metadata": {},
          "execution_count": 30
        }
      ],
      "source": [
        "%%sql\n",
        "select surname, Players.team, minutes\n",
        "from Players, Teams\n",
        "where Players.team = Teams.team\n",
        "and position = 'goalkeeper' and games > 4\n"
      ]
    },
    {
      "cell_type": "markdown",
      "metadata": {
        "id": "PDeczQ9mMZio"
      },
      "source": [
        "*4) How many players who play on a team with ranking <10 played more than 350 minutes? Return one number in a column named 'superstar'.*"
      ]
    },
    {
      "cell_type": "code",
      "execution_count": null,
      "metadata": {
        "id": "0G1PWdY9MZio",
        "colab": {
          "base_uri": "https://localhost:8080/",
          "height": 96
        },
        "outputId": "819e69bb-80c7-4326-d692-c70497fe165f"
      },
      "outputs": [
        {
          "output_type": "stream",
          "name": "stdout",
          "text": [
            " * sqlite://\n",
            "Done.\n"
          ]
        },
        {
          "output_type": "execute_result",
          "data": {
            "text/plain": [
              "[(54,)]"
            ],
            "text/html": [
              "<table>\n",
              "    <thead>\n",
              "        <tr>\n",
              "            <th>superstar</th>\n",
              "        </tr>\n",
              "    </thead>\n",
              "    <tbody>\n",
              "        <tr>\n",
              "            <td>54</td>\n",
              "        </tr>\n",
              "    </tbody>\n",
              "</table>"
            ]
          },
          "metadata": {},
          "execution_count": 86
        }
      ],
      "source": [
        "%%sql\n",
        "select count() as superstar\n",
        "from Players, Teams\n",
        "where Players.team = Teams.team\n",
        "and ranking < 10 and minutes > 350"
      ]
    },
    {
      "cell_type": "markdown",
      "metadata": {
        "id": "SoMiqgeBMZio"
      },
      "source": [
        "*5) What is the average number of passes made by forwards? By midfielders? Write one query that gives both values with the corresponding position.*"
      ]
    },
    {
      "cell_type": "code",
      "execution_count": null,
      "metadata": {
        "id": "1iN80E7IMZio",
        "colab": {
          "base_uri": "https://localhost:8080/",
          "height": 118
        },
        "outputId": "6a9464fb-1828-4526-89d2-c9cf3dbd355b"
      },
      "outputs": [
        {
          "output_type": "stream",
          "name": "stdout",
          "text": [
            " * sqlite://\n",
            "Done.\n"
          ]
        },
        {
          "output_type": "execute_result",
          "data": {
            "text/plain": [
              "[('forward', 50.82517482517483), ('midfielder', 95.2719298245614)]"
            ],
            "text/html": [
              "<table>\n",
              "    <thead>\n",
              "        <tr>\n",
              "            <th>position</th>\n",
              "            <th>avg(passes)</th>\n",
              "        </tr>\n",
              "    </thead>\n",
              "    <tbody>\n",
              "        <tr>\n",
              "            <td>forward</td>\n",
              "            <td>50.82517482517483</td>\n",
              "        </tr>\n",
              "        <tr>\n",
              "            <td>midfielder</td>\n",
              "            <td>95.2719298245614</td>\n",
              "        </tr>\n",
              "    </tbody>\n",
              "</table>"
            ]
          },
          "metadata": {},
          "execution_count": 87
        }
      ],
      "source": [
        "%%sql\n",
        "select position, avg(passes)\n",
        "from Players\n",
        "where position = 'forward' or position = 'midfielder'\n",
        "group by position"
      ]
    },
    {
      "cell_type": "markdown",
      "metadata": {
        "id": "Eack9A_YMZio"
      },
      "source": [
        "*6) Which team has the highest ratio of goalsFor to goalsAgainst? Return the team and the ratio.*"
      ]
    },
    {
      "cell_type": "code",
      "execution_count": null,
      "metadata": {
        "id": "Snc2E1y9MZio",
        "colab": {
          "base_uri": "https://localhost:8080/",
          "height": 96
        },
        "outputId": "671c710d-b7c5-4953-c692-8623468fc4be"
      },
      "outputs": [
        {
          "output_type": "stream",
          "name": "stdout",
          "text": [
            " * sqlite://\n",
            "Done.\n"
          ]
        },
        {
          "output_type": "execute_result",
          "data": {
            "text/plain": [
              "[('Portugal', 7)]"
            ],
            "text/html": [
              "<table>\n",
              "    <thead>\n",
              "        <tr>\n",
              "            <th>team</th>\n",
              "            <th>goalsFor/goalsAgainst</th>\n",
              "        </tr>\n",
              "    </thead>\n",
              "    <tbody>\n",
              "        <tr>\n",
              "            <td>Portugal</td>\n",
              "            <td>7</td>\n",
              "        </tr>\n",
              "    </tbody>\n",
              "</table>"
            ]
          },
          "metadata": {},
          "execution_count": 32
        }
      ],
      "source": [
        "%%sql\n",
        "select team, goalsFor/goalsAgainst\n",
        "from Teams\n",
        "order by goalsFor/goalsAgainst desc\n",
        "limit 1"
      ]
    },
    {
      "cell_type": "markdown",
      "metadata": {
        "id": "6YSZkV_aMZio"
      },
      "source": [
        "### <font color = 'green'>**Your Turn Extra - Basic SQL on Titanic Data**</font>"
      ]
    },
    {
      "cell_type": "markdown",
      "source": [
        "<font color=\"red\">File access required:</font> In Colab these extra problems require first uploading **Titanic.csv** using the *Files* feature in the left toolbar. If running the notebook on a local computer, simply ensure this file is in the same workspace as the notebook."
      ],
      "metadata": {
        "id": "qx76VXgSy6ce"
      }
    },
    {
      "cell_type": "code",
      "execution_count": null,
      "metadata": {
        "id": "9KCdOSBwMZip",
        "colab": {
          "base_uri": "https://localhost:8080/",
          "height": 87
        },
        "outputId": "76ea418a-9043-4d4b-ef44-1008a6438e55"
      },
      "outputs": [
        {
          "output_type": "stream",
          "name": "stdout",
          "text": [
            " * sqlite://\n",
            "Done.\n",
            " * sqlite://\n"
          ]
        },
        {
          "output_type": "execute_result",
          "data": {
            "text/plain": [
              "'Persisted titanic'"
            ],
            "application/vnd.google.colaboratory.intrinsic+json": {
              "type": "string"
            }
          },
          "metadata": {},
          "execution_count": 34
        }
      ],
      "source": [
        "# Create database table from CSV file\n",
        "with open('/content/drive/MyDrive/Google Colab/Basic & Advanced SQL/Titanic.csv') as f: Titanic = pd.read_csv(f, index_col=0)\n",
        "%sql drop table if exists Titanic;\n",
        "%sql --persist Titanic"
      ]
    },
    {
      "cell_type": "markdown",
      "metadata": {
        "id": "8wGLHtTLMZip"
      },
      "source": [
        "#### Look at sample of Titanic table"
      ]
    },
    {
      "cell_type": "code",
      "execution_count": null,
      "metadata": {
        "id": "ai-_EAWCMZip",
        "colab": {
          "base_uri": "https://localhost:8080/",
          "height": 182
        },
        "outputId": "73d6bc3b-6f6f-4df8-d92c-b17267e6910e"
      },
      "outputs": [
        {
          "output_type": "stream",
          "name": "stdout",
          "text": [
            " * sqlite://\n",
            "Done.\n"
          ]
        },
        {
          "output_type": "execute_result",
          "data": {
            "text/plain": [
              "[('Abbing', 'Mr. Anthony', 'M', 42.0, 3, 7.55, 'Southampton', 'no'),\n",
              " ('Abbott', 'Mrs. Stanton (Rosa Hunt)', 'F', 35.0, 3, 20.25, 'Southampton', 'yes'),\n",
              " ('Abbott', 'Mr. Rossmore Edward', 'M', 16.0, 3, 20.25, 'Southampton', 'no'),\n",
              " ('Abelson', 'Mr. Samuel', 'M', 30.0, 2, 24.0, 'Cherbourg', 'no'),\n",
              " ('Abelson', 'Mrs. Samuel (Hannah Wizosky)', 'F', 28.0, 2, 24.0, 'Cherbourg', 'yes')]"
            ],
            "text/html": [
              "<table>\n",
              "    <thead>\n",
              "        <tr>\n",
              "            <th>last</th>\n",
              "            <th>first</th>\n",
              "            <th>gender</th>\n",
              "            <th>age</th>\n",
              "            <th>class</th>\n",
              "            <th>fare</th>\n",
              "            <th>embarked</th>\n",
              "            <th>survived</th>\n",
              "        </tr>\n",
              "    </thead>\n",
              "    <tbody>\n",
              "        <tr>\n",
              "            <td>Abbing</td>\n",
              "            <td>Mr. Anthony</td>\n",
              "            <td>M</td>\n",
              "            <td>42.0</td>\n",
              "            <td>3</td>\n",
              "            <td>7.55</td>\n",
              "            <td>Southampton</td>\n",
              "            <td>no</td>\n",
              "        </tr>\n",
              "        <tr>\n",
              "            <td>Abbott</td>\n",
              "            <td>Mrs. Stanton (Rosa Hunt)</td>\n",
              "            <td>F</td>\n",
              "            <td>35.0</td>\n",
              "            <td>3</td>\n",
              "            <td>20.25</td>\n",
              "            <td>Southampton</td>\n",
              "            <td>yes</td>\n",
              "        </tr>\n",
              "        <tr>\n",
              "            <td>Abbott</td>\n",
              "            <td>Mr. Rossmore Edward</td>\n",
              "            <td>M</td>\n",
              "            <td>16.0</td>\n",
              "            <td>3</td>\n",
              "            <td>20.25</td>\n",
              "            <td>Southampton</td>\n",
              "            <td>no</td>\n",
              "        </tr>\n",
              "        <tr>\n",
              "            <td>Abelson</td>\n",
              "            <td>Mr. Samuel</td>\n",
              "            <td>M</td>\n",
              "            <td>30.0</td>\n",
              "            <td>2</td>\n",
              "            <td>24.0</td>\n",
              "            <td>Cherbourg</td>\n",
              "            <td>no</td>\n",
              "        </tr>\n",
              "        <tr>\n",
              "            <td>Abelson</td>\n",
              "            <td>Mrs. Samuel (Hannah Wizosky)</td>\n",
              "            <td>F</td>\n",
              "            <td>28.0</td>\n",
              "            <td>2</td>\n",
              "            <td>24.0</td>\n",
              "            <td>Cherbourg</td>\n",
              "            <td>yes</td>\n",
              "        </tr>\n",
              "    </tbody>\n",
              "</table>"
            ]
          },
          "metadata": {},
          "execution_count": 35
        }
      ],
      "source": [
        "%%sql\n",
        "select * from Titanic limit 5"
      ]
    },
    {
      "cell_type": "markdown",
      "metadata": {
        "id": "rm0ZXb2xMZip"
      },
      "source": [
        "*1) How many passengers sailed for free (i.e, fare is zero)?*"
      ]
    },
    {
      "cell_type": "code",
      "execution_count": null,
      "metadata": {
        "id": "dol81VcIMZip",
        "colab": {
          "base_uri": "https://localhost:8080/",
          "height": 96
        },
        "outputId": "4b42a4fe-1d0a-46f1-b483-20a71ab7fb95"
      },
      "outputs": [
        {
          "output_type": "stream",
          "name": "stdout",
          "text": [
            " * sqlite://\n",
            "Done.\n"
          ]
        },
        {
          "output_type": "execute_result",
          "data": {
            "text/plain": [
              "[(15,)]"
            ],
            "text/html": [
              "<table>\n",
              "    <thead>\n",
              "        <tr>\n",
              "            <th>count()</th>\n",
              "        </tr>\n",
              "    </thead>\n",
              "    <tbody>\n",
              "        <tr>\n",
              "            <td>15</td>\n",
              "        </tr>\n",
              "    </tbody>\n",
              "</table>"
            ]
          },
          "metadata": {},
          "execution_count": 37
        }
      ],
      "source": [
        "%%sql\n",
        "select count()\n",
        "from Titanic\n",
        "where fare = 0"
      ]
    },
    {
      "cell_type": "markdown",
      "metadata": {
        "id": "eGHSZYUOMZip"
      },
      "source": [
        "*2) How many married women over age 50 embarked in Cherbourg? (Married women’s first names begin with \"Mrs.\"). Note: To check if attribute A begins with string S use \"A like 'S%'\"*"
      ]
    },
    {
      "cell_type": "code",
      "execution_count": null,
      "metadata": {
        "id": "gytEplqnMZip",
        "colab": {
          "base_uri": "https://localhost:8080/",
          "height": 96
        },
        "outputId": "cd2f23d0-4a08-401b-f50c-faa0642fc56a"
      },
      "outputs": [
        {
          "output_type": "stream",
          "name": "stdout",
          "text": [
            " * sqlite://\n",
            "Done.\n"
          ]
        },
        {
          "output_type": "execute_result",
          "data": {
            "text/plain": [
              "[(4,)]"
            ],
            "text/html": [
              "<table>\n",
              "    <thead>\n",
              "        <tr>\n",
              "            <th>count()</th>\n",
              "        </tr>\n",
              "    </thead>\n",
              "    <tbody>\n",
              "        <tr>\n",
              "            <td>4</td>\n",
              "        </tr>\n",
              "    </tbody>\n",
              "</table>"
            ]
          },
          "metadata": {},
          "execution_count": 41
        }
      ],
      "source": [
        "%%sql\n",
        "select count()\n",
        "from Titanic\n",
        "where first like 'Mrs.%' and age > 50 and embarked = 'Cherbourg'"
      ]
    },
    {
      "cell_type": "markdown",
      "metadata": {
        "id": "wxehxtLVMZip"
      },
      "source": [
        "*3) Write three queries to find: (i) the total number of passengers; (ii) the number of passengers under 18; (iii) the number of passengers 18 or older. Notice that the second and third numbers don't add up to the first.*"
      ]
    },
    {
      "cell_type": "code",
      "execution_count": null,
      "metadata": {
        "id": "0VeeF_wKMZiq",
        "colab": {
          "base_uri": "https://localhost:8080/",
          "height": 96
        },
        "outputId": "11716443-9361-48d0-9474-8b483c719551"
      },
      "outputs": [
        {
          "output_type": "stream",
          "name": "stdout",
          "text": [
            " * sqlite://\n",
            "Done.\n"
          ]
        },
        {
          "output_type": "execute_result",
          "data": {
            "text/plain": [
              "[(891,)]"
            ],
            "text/html": [
              "<table>\n",
              "    <thead>\n",
              "        <tr>\n",
              "            <th>count()</th>\n",
              "        </tr>\n",
              "    </thead>\n",
              "    <tbody>\n",
              "        <tr>\n",
              "            <td>891</td>\n",
              "        </tr>\n",
              "    </tbody>\n",
              "</table>"
            ]
          },
          "metadata": {},
          "execution_count": 42
        }
      ],
      "source": [
        "%%sql\n",
        "select count()\n",
        "from Titanic"
      ]
    },
    {
      "cell_type": "code",
      "execution_count": null,
      "metadata": {
        "id": "oConUogHMZiq",
        "colab": {
          "base_uri": "https://localhost:8080/",
          "height": 96
        },
        "outputId": "1ecdaefe-7180-4302-cf57-ea4a85079e5d"
      },
      "outputs": [
        {
          "output_type": "stream",
          "name": "stdout",
          "text": [
            " * sqlite://\n",
            "Done.\n"
          ]
        },
        {
          "output_type": "execute_result",
          "data": {
            "text/plain": [
              "[(113,)]"
            ],
            "text/html": [
              "<table>\n",
              "    <thead>\n",
              "        <tr>\n",
              "            <th>count()</th>\n",
              "        </tr>\n",
              "    </thead>\n",
              "    <tbody>\n",
              "        <tr>\n",
              "            <td>113</td>\n",
              "        </tr>\n",
              "    </tbody>\n",
              "</table>"
            ]
          },
          "metadata": {},
          "execution_count": 43
        }
      ],
      "source": [
        "%%sql\n",
        "select count()\n",
        "from Titanic\n",
        "where age < 18"
      ]
    },
    {
      "cell_type": "code",
      "execution_count": null,
      "metadata": {
        "id": "Rx-IaNxDMZiq",
        "colab": {
          "base_uri": "https://localhost:8080/",
          "height": 96
        },
        "outputId": "a2609bf8-7b6f-4cd1-a403-12a3c605711d"
      },
      "outputs": [
        {
          "output_type": "stream",
          "name": "stdout",
          "text": [
            " * sqlite://\n",
            "Done.\n"
          ]
        },
        {
          "output_type": "execute_result",
          "data": {
            "text/plain": [
              "[(601,)]"
            ],
            "text/html": [
              "<table>\n",
              "    <thead>\n",
              "        <tr>\n",
              "            <th>count()</th>\n",
              "        </tr>\n",
              "    </thead>\n",
              "    <tbody>\n",
              "        <tr>\n",
              "            <td>601</td>\n",
              "        </tr>\n",
              "    </tbody>\n",
              "</table>"
            ]
          },
          "metadata": {},
          "execution_count": 45
        }
      ],
      "source": [
        "%%sql\n",
        "select count()\n",
        "from Titanic\n",
        "where age >= 18"
      ]
    },
    {
      "cell_type": "markdown",
      "metadata": {
        "id": "lxReQfAlMZiq"
      },
      "source": [
        "*Missing values in SQL tables are given a special value called 'null', and conditions 'A is null' and 'A is not null' can be use in Where clauses to check whether attribute A has the 'null' value. Write a query to find the number of passengers whose age is missing -- now your passenger numbers should add up. Modify the query to also return the average fare paid by those passengers.*"
      ]
    },
    {
      "cell_type": "code",
      "execution_count": null,
      "metadata": {
        "id": "2H5T3iQ-MZiq",
        "colab": {
          "base_uri": "https://localhost:8080/",
          "height": 96
        },
        "outputId": "e1390a27-63b3-4b16-f11b-7f8a1457192e"
      },
      "outputs": [
        {
          "output_type": "stream",
          "name": "stdout",
          "text": [
            " * sqlite://\n",
            "Done.\n"
          ]
        },
        {
          "output_type": "execute_result",
          "data": {
            "text/plain": [
              "[(177, 22.159491525423757)]"
            ],
            "text/html": [
              "<table>\n",
              "    <thead>\n",
              "        <tr>\n",
              "            <th>count()</th>\n",
              "            <th>avg(fare)</th>\n",
              "        </tr>\n",
              "    </thead>\n",
              "    <tbody>\n",
              "        <tr>\n",
              "            <td>177</td>\n",
              "            <td>22.159491525423757</td>\n",
              "        </tr>\n",
              "    </tbody>\n",
              "</table>"
            ]
          },
          "metadata": {},
          "execution_count": 47
        }
      ],
      "source": [
        "%%sql\n",
        "select count(), avg(fare)\n",
        "from Titanic\n",
        "where age is null"
      ]
    },
    {
      "cell_type": "markdown",
      "metadata": {
        "id": "-BnWcsagMZiq"
      },
      "source": [
        "*4) Find all passengers whose age is not an integer; return last name, first name, and age, from youngest to oldest. Note: Consider using the round() function*"
      ]
    },
    {
      "cell_type": "code",
      "execution_count": null,
      "metadata": {
        "id": "HpGgIdOaMZiq",
        "colab": {
          "base_uri": "https://localhost:8080/",
          "height": 609
        },
        "outputId": "5f3cec8e-9c0b-459d-ed09-110c51a9bfa7"
      },
      "outputs": [
        {
          "output_type": "stream",
          "name": "stdout",
          "text": [
            " * sqlite://\n",
            "Done.\n"
          ]
        },
        {
          "output_type": "execute_result",
          "data": {
            "text/plain": [
              "[('Thomas', 'Master Assad Alexander', 0.42),\n",
              " ('Hamalainen', 'Master Viljo', 0.67),\n",
              " ('Baclini', 'Miss Helene Barbara', 0.75),\n",
              " ('Baclini', 'Miss Eugenie', 0.75),\n",
              " ('Caldwell', 'Master Alden Gates', 0.83),\n",
              " ('Richards', 'Master George Sibley', 0.83),\n",
              " ('Allison', 'Master Hudson Trevor', 0.92),\n",
              " ('Zabour', 'Miss Hileni', 14.5),\n",
              " ('Lovell', ' Mr. John Hall (\"Henry\")', 20.5),\n",
              " ('Hanna', 'Mr. Mansour', 23.5),\n",
              " ('Sawyer', 'Mr. Frederick Charles', 24.5),\n",
              " ('Novel', 'Mr. Mansouer', 28.5),\n",
              " ('Williams', 'Mr. Leslie', 28.5),\n",
              " ('Mangan', 'Miss Mary', 30.5),\n",
              " ('Tomlin', 'Mr. Ernest Portage', 30.5),\n",
              " ('Nasser', 'Mr. Nicholas', 32.5),\n",
              " ('Webber', 'Miss Susan', 32.5),\n",
              " ('Lemberopolous', 'Mr. Peter L', 34.5),\n",
              " ('Navratil', ' Mr. Michel (\"Louis M Hoffman\")', 36.5),\n",
              " ('Farrell', 'Mr. James', 40.5),\n",
              " ('van Billiard', 'Mr. Austin Blyler', 40.5),\n",
              " ('Partner', 'Mr. Austen', 45.5),\n",
              " ('Youseff', 'Mr. Gerious', 45.5),\n",
              " ('Meo', 'Mr. Alfonzo', 55.5),\n",
              " ('Connors', 'Mr. Patrick', 70.5)]"
            ],
            "text/html": [
              "<table>\n",
              "    <thead>\n",
              "        <tr>\n",
              "            <th>last</th>\n",
              "            <th>first</th>\n",
              "            <th>age</th>\n",
              "        </tr>\n",
              "    </thead>\n",
              "    <tbody>\n",
              "        <tr>\n",
              "            <td>Thomas</td>\n",
              "            <td>Master Assad Alexander</td>\n",
              "            <td>0.42</td>\n",
              "        </tr>\n",
              "        <tr>\n",
              "            <td>Hamalainen</td>\n",
              "            <td>Master Viljo</td>\n",
              "            <td>0.67</td>\n",
              "        </tr>\n",
              "        <tr>\n",
              "            <td>Baclini</td>\n",
              "            <td>Miss Helene Barbara</td>\n",
              "            <td>0.75</td>\n",
              "        </tr>\n",
              "        <tr>\n",
              "            <td>Baclini</td>\n",
              "            <td>Miss Eugenie</td>\n",
              "            <td>0.75</td>\n",
              "        </tr>\n",
              "        <tr>\n",
              "            <td>Caldwell</td>\n",
              "            <td>Master Alden Gates</td>\n",
              "            <td>0.83</td>\n",
              "        </tr>\n",
              "        <tr>\n",
              "            <td>Richards</td>\n",
              "            <td>Master George Sibley</td>\n",
              "            <td>0.83</td>\n",
              "        </tr>\n",
              "        <tr>\n",
              "            <td>Allison</td>\n",
              "            <td>Master Hudson Trevor</td>\n",
              "            <td>0.92</td>\n",
              "        </tr>\n",
              "        <tr>\n",
              "            <td>Zabour</td>\n",
              "            <td>Miss Hileni</td>\n",
              "            <td>14.5</td>\n",
              "        </tr>\n",
              "        <tr>\n",
              "            <td>Lovell</td>\n",
              "            <td> Mr. John Hall (&quot;Henry&quot;)</td>\n",
              "            <td>20.5</td>\n",
              "        </tr>\n",
              "        <tr>\n",
              "            <td>Hanna</td>\n",
              "            <td>Mr. Mansour</td>\n",
              "            <td>23.5</td>\n",
              "        </tr>\n",
              "        <tr>\n",
              "            <td>Sawyer</td>\n",
              "            <td>Mr. Frederick Charles</td>\n",
              "            <td>24.5</td>\n",
              "        </tr>\n",
              "        <tr>\n",
              "            <td>Novel</td>\n",
              "            <td>Mr. Mansouer</td>\n",
              "            <td>28.5</td>\n",
              "        </tr>\n",
              "        <tr>\n",
              "            <td>Williams</td>\n",
              "            <td>Mr. Leslie</td>\n",
              "            <td>28.5</td>\n",
              "        </tr>\n",
              "        <tr>\n",
              "            <td>Mangan</td>\n",
              "            <td>Miss Mary</td>\n",
              "            <td>30.5</td>\n",
              "        </tr>\n",
              "        <tr>\n",
              "            <td>Tomlin</td>\n",
              "            <td>Mr. Ernest Portage</td>\n",
              "            <td>30.5</td>\n",
              "        </tr>\n",
              "        <tr>\n",
              "            <td>Nasser</td>\n",
              "            <td>Mr. Nicholas</td>\n",
              "            <td>32.5</td>\n",
              "        </tr>\n",
              "        <tr>\n",
              "            <td>Webber</td>\n",
              "            <td>Miss Susan</td>\n",
              "            <td>32.5</td>\n",
              "        </tr>\n",
              "        <tr>\n",
              "            <td>Lemberopolous</td>\n",
              "            <td>Mr. Peter L</td>\n",
              "            <td>34.5</td>\n",
              "        </tr>\n",
              "        <tr>\n",
              "            <td>Navratil</td>\n",
              "            <td> Mr. Michel (&quot;Louis M Hoffman&quot;)</td>\n",
              "            <td>36.5</td>\n",
              "        </tr>\n",
              "        <tr>\n",
              "            <td>Farrell</td>\n",
              "            <td>Mr. James</td>\n",
              "            <td>40.5</td>\n",
              "        </tr>\n",
              "        <tr>\n",
              "            <td>van Billiard</td>\n",
              "            <td>Mr. Austin Blyler</td>\n",
              "            <td>40.5</td>\n",
              "        </tr>\n",
              "        <tr>\n",
              "            <td>Partner</td>\n",
              "            <td>Mr. Austen</td>\n",
              "            <td>45.5</td>\n",
              "        </tr>\n",
              "        <tr>\n",
              "            <td>Youseff</td>\n",
              "            <td>Mr. Gerious</td>\n",
              "            <td>45.5</td>\n",
              "        </tr>\n",
              "        <tr>\n",
              "            <td>Meo</td>\n",
              "            <td>Mr. Alfonzo</td>\n",
              "            <td>55.5</td>\n",
              "        </tr>\n",
              "        <tr>\n",
              "            <td>Connors</td>\n",
              "            <td>Mr. Patrick</td>\n",
              "            <td>70.5</td>\n",
              "        </tr>\n",
              "    </tbody>\n",
              "</table>"
            ]
          },
          "metadata": {},
          "execution_count": 50
        }
      ],
      "source": [
        "%%sql\n",
        "select last, first, age\n",
        "from Titanic\n",
        "where round(age) != age\n",
        "order by age"
      ]
    },
    {
      "cell_type": "markdown",
      "metadata": {
        "id": "jJvTk0b5MZiq"
      },
      "source": [
        "*5) What is the most common last name among passengers, and how many passengers have that last name?*"
      ]
    },
    {
      "cell_type": "code",
      "execution_count": null,
      "metadata": {
        "id": "jBWPQ87sMZiq",
        "colab": {
          "base_uri": "https://localhost:8080/",
          "height": 96
        },
        "outputId": "60f466b2-68d0-4ef9-fd44-b196f4bf8c57"
      },
      "outputs": [
        {
          "output_type": "stream",
          "name": "stdout",
          "text": [
            " * sqlite://\n",
            "Done.\n"
          ]
        },
        {
          "output_type": "execute_result",
          "data": {
            "text/plain": [
              "[('Andersson', 9)]"
            ],
            "text/html": [
              "<table>\n",
              "    <thead>\n",
              "        <tr>\n",
              "            <th>last</th>\n",
              "            <th>count()</th>\n",
              "        </tr>\n",
              "    </thead>\n",
              "    <tbody>\n",
              "        <tr>\n",
              "            <td>Andersson</td>\n",
              "            <td>9</td>\n",
              "        </tr>\n",
              "    </tbody>\n",
              "</table>"
            ]
          },
          "metadata": {},
          "execution_count": 54
        }
      ],
      "source": [
        "%%sql\n",
        "select last, count()\n",
        "from Titanic\n",
        "group by last\n",
        "order by count() desc\n",
        "limit 1"
      ]
    },
    {
      "cell_type": "markdown",
      "metadata": {
        "id": "fPE8VmwIMZir"
      },
      "source": [
        "*6) What is the average fare paid by passengers in the three classes, and the average age of passengers in the three classes?*"
      ]
    },
    {
      "cell_type": "code",
      "execution_count": null,
      "metadata": {
        "id": "kg0KDbLjMZir",
        "colab": {
          "base_uri": "https://localhost:8080/",
          "height": 139
        },
        "outputId": "e7a87b10-a9a4-4086-b055-1231cceb333c"
      },
      "outputs": [
        {
          "output_type": "stream",
          "name": "stdout",
          "text": [
            " * sqlite://\n",
            "Done.\n"
          ]
        },
        {
          "output_type": "execute_result",
          "data": {
            "text/plain": [
              "[(1, 84.15499999999999, 38.233440860215055),\n",
              " (2, 20.66222826086957, 29.87763005780347),\n",
              " (3, 13.676863543788176, 25.14061971830986)]"
            ],
            "text/html": [
              "<table>\n",
              "    <thead>\n",
              "        <tr>\n",
              "            <th>class</th>\n",
              "            <th>avg(fare)</th>\n",
              "            <th>avg(age)</th>\n",
              "        </tr>\n",
              "    </thead>\n",
              "    <tbody>\n",
              "        <tr>\n",
              "            <td>1</td>\n",
              "            <td>84.15499999999999</td>\n",
              "            <td>38.233440860215055</td>\n",
              "        </tr>\n",
              "        <tr>\n",
              "            <td>2</td>\n",
              "            <td>20.66222826086957</td>\n",
              "            <td>29.87763005780347</td>\n",
              "        </tr>\n",
              "        <tr>\n",
              "            <td>3</td>\n",
              "            <td>13.676863543788176</td>\n",
              "            <td>25.14061971830986</td>\n",
              "        </tr>\n",
              "    </tbody>\n",
              "</table>"
            ]
          },
          "metadata": {},
          "execution_count": 59
        }
      ],
      "source": [
        "%%sql\n",
        "select class, avg(fare), avg(age)\n",
        "from Titanic\n",
        "group by class"
      ]
    },
    {
      "cell_type": "markdown",
      "metadata": {
        "id": "IlUSRLQXMZir"
      },
      "source": [
        "*7) For male survivors, female survivors, male non-survivors, and female non-survivors, how many passengers are in each of those four categories and what is their average fare? Return your results from lowest to highest\n",
        "average fare.*"
      ]
    },
    {
      "cell_type": "code",
      "execution_count": null,
      "metadata": {
        "id": "LYxWBsotMZir",
        "colab": {
          "base_uri": "https://localhost:8080/",
          "height": 161
        },
        "outputId": "7eb73412-0798-470d-b68f-3411cb291b0c"
      },
      "outputs": [
        {
          "output_type": "stream",
          "name": "stdout",
          "text": [
            " * sqlite://\n",
            "Done.\n"
          ]
        },
        {
          "output_type": "execute_result",
          "data": {
            "text/plain": [
              "[('M', 'no', 468, 21.961923076923),\n",
              " ('F', 'no', 81, 23.02555555555556),\n",
              " ('M', 'yes', 109, 40.82229357798166),\n",
              " ('F', 'yes', 233, 51.93901287553647)]"
            ],
            "text/html": [
              "<table>\n",
              "    <thead>\n",
              "        <tr>\n",
              "            <th>gender</th>\n",
              "            <th>survived</th>\n",
              "            <th>count()</th>\n",
              "            <th>avg(fare)</th>\n",
              "        </tr>\n",
              "    </thead>\n",
              "    <tbody>\n",
              "        <tr>\n",
              "            <td>M</td>\n",
              "            <td>no</td>\n",
              "            <td>468</td>\n",
              "            <td>21.961923076923</td>\n",
              "        </tr>\n",
              "        <tr>\n",
              "            <td>F</td>\n",
              "            <td>no</td>\n",
              "            <td>81</td>\n",
              "            <td>23.02555555555556</td>\n",
              "        </tr>\n",
              "        <tr>\n",
              "            <td>M</td>\n",
              "            <td>yes</td>\n",
              "            <td>109</td>\n",
              "            <td>40.82229357798166</td>\n",
              "        </tr>\n",
              "        <tr>\n",
              "            <td>F</td>\n",
              "            <td>yes</td>\n",
              "            <td>233</td>\n",
              "            <td>51.93901287553647</td>\n",
              "        </tr>\n",
              "    </tbody>\n",
              "</table>"
            ]
          },
          "metadata": {},
          "execution_count": 69
        }
      ],
      "source": [
        "%%sql\n",
        "select gender, survived, count(), avg(fare)\n",
        "from Titanic\n",
        "group by survived, gender\n",
        "order by avg(fare)"
      ]
    }
  ],
  "metadata": {
    "kernelspec": {
      "display_name": "Python 3",
      "language": "python",
      "name": "python3"
    },
    "language_info": {
      "codemirror_mode": {
        "name": "ipython",
        "version": 3
      },
      "file_extension": ".py",
      "mimetype": "text/x-python",
      "name": "python",
      "nbconvert_exporter": "python",
      "pygments_lexer": "ipython3",
      "version": "3.7.6"
    },
    "colab": {
      "provenance": []
    }
  },
  "nbformat": 4,
  "nbformat_minor": 0
}